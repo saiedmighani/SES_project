{
 "cells": [
  {
   "cell_type": "markdown",
   "metadata": {},
   "source": [
    "## Time-series based analysis of Earthquake Risk Factors\n",
    "\n",
    "### Part 4: Performing linear regression"
   ]
  },
  {
   "cell_type": "markdown",
   "metadata": {},
   "source": [
    "Importing the required libraries:"
   ]
  },
  {
   "cell_type": "code",
   "execution_count": 1,
   "metadata": {},
   "outputs": [],
   "source": [
    "import requests\n",
    "import json\n",
    "import pandas as pd\n",
    "import numpy as np\n",
    "import pandas as pd\n",
    "import matplotlib.pyplot as plt\n",
    "\n",
    "from sklearn.linear_model import LinearRegression\n",
    "from sklearn.preprocessing import StandardScaler, PolynomialFeatures\n",
    "from sklearn.model_selection import train_test_split, cross_val_score\n",
    "\n",
    "\n",
    "\n",
    "\n",
    "import pickle"
   ]
  },
  {
   "cell_type": "markdown",
   "metadata": {},
   "source": [
    "### Part 2.1: Prepping Loma Prieta EQ's:"
   ]
  },
  {
   "cell_type": "code",
   "execution_count": 2,
   "metadata": {},
   "outputs": [
    {
     "ename": "FileNotFoundError",
     "evalue": "[Errno 2] No such file or directory: '../datasets/eq_loma_prieta_clean.csv'",
     "output_type": "error",
     "traceback": [
      "\u001b[0;31m---------------------------------------------------------------------------\u001b[0m",
      "\u001b[0;31mFileNotFoundError\u001b[0m                         Traceback (most recent call last)",
      "\u001b[0;32m<ipython-input-2-4795d69952c6>\u001b[0m in \u001b[0;36m<module>\u001b[0;34m\u001b[0m\n\u001b[1;32m      1\u001b[0m \u001b[0mfile_path\u001b[0m \u001b[0;34m=\u001b[0m \u001b[0;34m\"../datasets/\"\u001b[0m \u001b[0;34m+\u001b[0m \u001b[0;34m\"eq_loma_prieta\"\u001b[0m \u001b[0;34m+\u001b[0m \u001b[0;34m\"_clean\"\u001b[0m \u001b[0;34m+\u001b[0m \u001b[0;34m\".csv\"\u001b[0m\u001b[0;34m\u001b[0m\u001b[0;34m\u001b[0m\u001b[0m\n\u001b[1;32m      2\u001b[0m \u001b[0;34m\u001b[0m\u001b[0m\n\u001b[0;32m----> 3\u001b[0;31m \u001b[0mdf_lp_eq\u001b[0m \u001b[0;34m=\u001b[0m \u001b[0mpd\u001b[0m\u001b[0;34m.\u001b[0m\u001b[0mread_csv\u001b[0m\u001b[0;34m(\u001b[0m\u001b[0mfile_path\u001b[0m\u001b[0;34m)\u001b[0m\u001b[0;34m\u001b[0m\u001b[0;34m\u001b[0m\u001b[0m\n\u001b[0m\u001b[1;32m      4\u001b[0m \u001b[0mdf_lp_eq\u001b[0m\u001b[0;34m.\u001b[0m\u001b[0mdrop\u001b[0m\u001b[0;34m(\u001b[0m\u001b[0mcolumns\u001b[0m \u001b[0;34m=\u001b[0m \u001b[0;34m\"Unnamed: 0\"\u001b[0m\u001b[0;34m,\u001b[0m \u001b[0minplace\u001b[0m \u001b[0;34m=\u001b[0m \u001b[0;32mTrue\u001b[0m\u001b[0;34m)\u001b[0m\u001b[0;34m\u001b[0m\u001b[0;34m\u001b[0m\u001b[0m\n\u001b[1;32m      5\u001b[0m \u001b[0;34m\u001b[0m\u001b[0m\n",
      "\u001b[0;32m~/opt/anaconda3/envs/dsi/lib/python3.7/site-packages/pandas/io/parsers.py\u001b[0m in \u001b[0;36mread_csv\u001b[0;34m(filepath_or_buffer, sep, delimiter, header, names, index_col, usecols, squeeze, prefix, mangle_dupe_cols, dtype, engine, converters, true_values, false_values, skipinitialspace, skiprows, skipfooter, nrows, na_values, keep_default_na, na_filter, verbose, skip_blank_lines, parse_dates, infer_datetime_format, keep_date_col, date_parser, dayfirst, cache_dates, iterator, chunksize, compression, thousands, decimal, lineterminator, quotechar, quoting, doublequote, escapechar, comment, encoding, dialect, error_bad_lines, warn_bad_lines, delim_whitespace, low_memory, memory_map, float_precision)\u001b[0m\n\u001b[1;32m    684\u001b[0m     )\n\u001b[1;32m    685\u001b[0m \u001b[0;34m\u001b[0m\u001b[0m\n\u001b[0;32m--> 686\u001b[0;31m     \u001b[0;32mreturn\u001b[0m \u001b[0m_read\u001b[0m\u001b[0;34m(\u001b[0m\u001b[0mfilepath_or_buffer\u001b[0m\u001b[0;34m,\u001b[0m \u001b[0mkwds\u001b[0m\u001b[0;34m)\u001b[0m\u001b[0;34m\u001b[0m\u001b[0;34m\u001b[0m\u001b[0m\n\u001b[0m\u001b[1;32m    687\u001b[0m \u001b[0;34m\u001b[0m\u001b[0m\n\u001b[1;32m    688\u001b[0m \u001b[0;34m\u001b[0m\u001b[0m\n",
      "\u001b[0;32m~/opt/anaconda3/envs/dsi/lib/python3.7/site-packages/pandas/io/parsers.py\u001b[0m in \u001b[0;36m_read\u001b[0;34m(filepath_or_buffer, kwds)\u001b[0m\n\u001b[1;32m    450\u001b[0m \u001b[0;34m\u001b[0m\u001b[0m\n\u001b[1;32m    451\u001b[0m     \u001b[0;31m# Create the parser.\u001b[0m\u001b[0;34m\u001b[0m\u001b[0;34m\u001b[0m\u001b[0;34m\u001b[0m\u001b[0m\n\u001b[0;32m--> 452\u001b[0;31m     \u001b[0mparser\u001b[0m \u001b[0;34m=\u001b[0m \u001b[0mTextFileReader\u001b[0m\u001b[0;34m(\u001b[0m\u001b[0mfp_or_buf\u001b[0m\u001b[0;34m,\u001b[0m \u001b[0;34m**\u001b[0m\u001b[0mkwds\u001b[0m\u001b[0;34m)\u001b[0m\u001b[0;34m\u001b[0m\u001b[0;34m\u001b[0m\u001b[0m\n\u001b[0m\u001b[1;32m    453\u001b[0m \u001b[0;34m\u001b[0m\u001b[0m\n\u001b[1;32m    454\u001b[0m     \u001b[0;32mif\u001b[0m \u001b[0mchunksize\u001b[0m \u001b[0;32mor\u001b[0m \u001b[0miterator\u001b[0m\u001b[0;34m:\u001b[0m\u001b[0;34m\u001b[0m\u001b[0;34m\u001b[0m\u001b[0m\n",
      "\u001b[0;32m~/opt/anaconda3/envs/dsi/lib/python3.7/site-packages/pandas/io/parsers.py\u001b[0m in \u001b[0;36m__init__\u001b[0;34m(self, f, engine, **kwds)\u001b[0m\n\u001b[1;32m    934\u001b[0m             \u001b[0mself\u001b[0m\u001b[0;34m.\u001b[0m\u001b[0moptions\u001b[0m\u001b[0;34m[\u001b[0m\u001b[0;34m\"has_index_names\"\u001b[0m\u001b[0;34m]\u001b[0m \u001b[0;34m=\u001b[0m \u001b[0mkwds\u001b[0m\u001b[0;34m[\u001b[0m\u001b[0;34m\"has_index_names\"\u001b[0m\u001b[0;34m]\u001b[0m\u001b[0;34m\u001b[0m\u001b[0;34m\u001b[0m\u001b[0m\n\u001b[1;32m    935\u001b[0m \u001b[0;34m\u001b[0m\u001b[0m\n\u001b[0;32m--> 936\u001b[0;31m         \u001b[0mself\u001b[0m\u001b[0;34m.\u001b[0m\u001b[0m_make_engine\u001b[0m\u001b[0;34m(\u001b[0m\u001b[0mself\u001b[0m\u001b[0;34m.\u001b[0m\u001b[0mengine\u001b[0m\u001b[0;34m)\u001b[0m\u001b[0;34m\u001b[0m\u001b[0;34m\u001b[0m\u001b[0m\n\u001b[0m\u001b[1;32m    937\u001b[0m \u001b[0;34m\u001b[0m\u001b[0m\n\u001b[1;32m    938\u001b[0m     \u001b[0;32mdef\u001b[0m \u001b[0mclose\u001b[0m\u001b[0;34m(\u001b[0m\u001b[0mself\u001b[0m\u001b[0;34m)\u001b[0m\u001b[0;34m:\u001b[0m\u001b[0;34m\u001b[0m\u001b[0;34m\u001b[0m\u001b[0m\n",
      "\u001b[0;32m~/opt/anaconda3/envs/dsi/lib/python3.7/site-packages/pandas/io/parsers.py\u001b[0m in \u001b[0;36m_make_engine\u001b[0;34m(self, engine)\u001b[0m\n\u001b[1;32m   1166\u001b[0m     \u001b[0;32mdef\u001b[0m \u001b[0m_make_engine\u001b[0m\u001b[0;34m(\u001b[0m\u001b[0mself\u001b[0m\u001b[0;34m,\u001b[0m \u001b[0mengine\u001b[0m\u001b[0;34m=\u001b[0m\u001b[0;34m\"c\"\u001b[0m\u001b[0;34m)\u001b[0m\u001b[0;34m:\u001b[0m\u001b[0;34m\u001b[0m\u001b[0;34m\u001b[0m\u001b[0m\n\u001b[1;32m   1167\u001b[0m         \u001b[0;32mif\u001b[0m \u001b[0mengine\u001b[0m \u001b[0;34m==\u001b[0m \u001b[0;34m\"c\"\u001b[0m\u001b[0;34m:\u001b[0m\u001b[0;34m\u001b[0m\u001b[0;34m\u001b[0m\u001b[0m\n\u001b[0;32m-> 1168\u001b[0;31m             \u001b[0mself\u001b[0m\u001b[0;34m.\u001b[0m\u001b[0m_engine\u001b[0m \u001b[0;34m=\u001b[0m \u001b[0mCParserWrapper\u001b[0m\u001b[0;34m(\u001b[0m\u001b[0mself\u001b[0m\u001b[0;34m.\u001b[0m\u001b[0mf\u001b[0m\u001b[0;34m,\u001b[0m \u001b[0;34m**\u001b[0m\u001b[0mself\u001b[0m\u001b[0;34m.\u001b[0m\u001b[0moptions\u001b[0m\u001b[0;34m)\u001b[0m\u001b[0;34m\u001b[0m\u001b[0;34m\u001b[0m\u001b[0m\n\u001b[0m\u001b[1;32m   1169\u001b[0m         \u001b[0;32melse\u001b[0m\u001b[0;34m:\u001b[0m\u001b[0;34m\u001b[0m\u001b[0;34m\u001b[0m\u001b[0m\n\u001b[1;32m   1170\u001b[0m             \u001b[0;32mif\u001b[0m \u001b[0mengine\u001b[0m \u001b[0;34m==\u001b[0m \u001b[0;34m\"python\"\u001b[0m\u001b[0;34m:\u001b[0m\u001b[0;34m\u001b[0m\u001b[0;34m\u001b[0m\u001b[0m\n",
      "\u001b[0;32m~/opt/anaconda3/envs/dsi/lib/python3.7/site-packages/pandas/io/parsers.py\u001b[0m in \u001b[0;36m__init__\u001b[0;34m(self, src, **kwds)\u001b[0m\n\u001b[1;32m   1996\u001b[0m         \u001b[0mkwds\u001b[0m\u001b[0;34m[\u001b[0m\u001b[0;34m\"usecols\"\u001b[0m\u001b[0;34m]\u001b[0m \u001b[0;34m=\u001b[0m \u001b[0mself\u001b[0m\u001b[0;34m.\u001b[0m\u001b[0musecols\u001b[0m\u001b[0;34m\u001b[0m\u001b[0;34m\u001b[0m\u001b[0m\n\u001b[1;32m   1997\u001b[0m \u001b[0;34m\u001b[0m\u001b[0m\n\u001b[0;32m-> 1998\u001b[0;31m         \u001b[0mself\u001b[0m\u001b[0;34m.\u001b[0m\u001b[0m_reader\u001b[0m \u001b[0;34m=\u001b[0m \u001b[0mparsers\u001b[0m\u001b[0;34m.\u001b[0m\u001b[0mTextReader\u001b[0m\u001b[0;34m(\u001b[0m\u001b[0msrc\u001b[0m\u001b[0;34m,\u001b[0m \u001b[0;34m**\u001b[0m\u001b[0mkwds\u001b[0m\u001b[0;34m)\u001b[0m\u001b[0;34m\u001b[0m\u001b[0;34m\u001b[0m\u001b[0m\n\u001b[0m\u001b[1;32m   1999\u001b[0m         \u001b[0mself\u001b[0m\u001b[0;34m.\u001b[0m\u001b[0munnamed_cols\u001b[0m \u001b[0;34m=\u001b[0m \u001b[0mself\u001b[0m\u001b[0;34m.\u001b[0m\u001b[0m_reader\u001b[0m\u001b[0;34m.\u001b[0m\u001b[0munnamed_cols\u001b[0m\u001b[0;34m\u001b[0m\u001b[0;34m\u001b[0m\u001b[0m\n\u001b[1;32m   2000\u001b[0m \u001b[0;34m\u001b[0m\u001b[0m\n",
      "\u001b[0;32mpandas/_libs/parsers.pyx\u001b[0m in \u001b[0;36mpandas._libs.parsers.TextReader.__cinit__\u001b[0;34m()\u001b[0m\n",
      "\u001b[0;32mpandas/_libs/parsers.pyx\u001b[0m in \u001b[0;36mpandas._libs.parsers.TextReader._setup_parser_source\u001b[0;34m()\u001b[0m\n",
      "\u001b[0;31mFileNotFoundError\u001b[0m: [Errno 2] No such file or directory: '../datasets/eq_loma_prieta_clean.csv'"
     ]
    }
   ],
   "source": [
    "file_path = \"../datasets/\" + \"eq_loma_prieta\" + \"_clean\" + \".csv\"\n",
    "\n",
    "df_lp_eq = pd.read_csv(file_path)\n",
    "df_lp_eq.drop(columns = \"Unnamed: 0\", inplace = True)\n",
    "\n",
    "df_lp_eq[\"time\"] = pd.to_datetime(df_lp_eq[\"time\"])\n",
    "\n",
    "df_lp_eq.sort_values(by = \"time\", inplace=True)\n",
    "\n",
    "\n",
    "df_lp_eq.reset_index(drop = True, inplace=True)\n",
    "df_lp_eq.drop(columns = [\"index\", \"place\", \"status\", \"tsunami\", \"net\", \"nst\", \"type\"], inplace=True)\n",
    "\n",
    "df_lp_eq.head()"
   ]
  },
  {
   "cell_type": "code",
   "execution_count": null,
   "metadata": {},
   "outputs": [],
   "source": [
    "df_lp_eq.info()"
   ]
  },
  {
   "cell_type": "code",
   "execution_count": null,
   "metadata": {},
   "outputs": [],
   "source": [
    "plt.figure(figsize = (10,7))\n",
    "im = plt.imread(\"../assets/Satellite_map_region.png\")\n",
    "implot = plt.imshow(im)\n",
    "\n",
    "\n",
    "\n",
    "plt.savefig(\"../plots/Area_map.png\")\n",
    "\n"
   ]
  },
  {
   "cell_type": "code",
   "execution_count": null,
   "metadata": {},
   "outputs": [],
   "source": [
    "ax = plt.gca()\n",
    "\n",
    "\n",
    "df_lp_eq.plot(kind=\"scatter\", x=\"longitude\", y=\"latitude\",\n",
    "    s=df_lp_eq['mag']/0.05, label=\"EQ\",\n",
    "    c=df_lp_eq.index, cmap=plt.get_cmap(\"jet\"),\n",
    "    colorbar=True, alpha=0.4, figsize=(10,7), ax = ax\n",
    ")\n",
    "plt.legend()\n",
    "\n",
    "plt.tight_layout()"
   ]
  },
  {
   "cell_type": "markdown",
   "metadata": {},
   "source": [
    "## Finding the main failure time:"
   ]
  },
  {
   "cell_type": "code",
   "execution_count": null,
   "metadata": {},
   "outputs": [],
   "source": [
    "# Source: https://stackoverflow.com/questions/43601868/converting-an-array-datatime-datetime-to-float\n",
    "import datetime as dt\n",
    "\n",
    "epoch = dt.datetime(1970, 1, 1)\n",
    "\n",
    "time = []\n",
    "for t in [(d - epoch).total_seconds() for d in df_lp_eq[\"time\"]]:\n",
    "    time.append(float('%.6f' % t))\n",
    "    \n",
    "(float(time[0]))\n",
    "\n",
    "df_lp_eq[\"time_seconds\"] = time\n",
    "\n",
    "failure_event = df_lp_eq[df_lp_eq[\"mag\"] == df_lp_eq[\"mag\"].max()]\n",
    "\n",
    "df_lp_eq[\"time_to_failure_sec\"] = np.array(df_lp_eq[\"time_seconds\"]) - np.array(failure_event[\"time_seconds\"])\n"
   ]
  },
  {
   "cell_type": "code",
   "execution_count": null,
   "metadata": {},
   "outputs": [],
   "source": [
    "df_lp_eq.drop(columns=[\"time\", \"time_seconds\"], inplace=True)\n",
    "\n",
    "\n",
    "df_lp_eq.head()"
   ]
  },
  {
   "cell_type": "markdown",
   "metadata": {},
   "source": [
    "Checking if failure is correctly zero:"
   ]
  },
  {
   "cell_type": "code",
   "execution_count": null,
   "metadata": {},
   "outputs": [],
   "source": [
    "failure_event = df_lp_eq[df_lp_eq[\"mag\"] == df_lp_eq[\"mag\"].max()]\n",
    "\n",
    "failure_event"
   ]
  },
  {
   "cell_type": "code",
   "execution_count": null,
   "metadata": {},
   "outputs": [],
   "source": [
    "plt.plot(df_lp_eq[\"time_to_failure_sec\"])"
   ]
  },
  {
   "cell_type": "markdown",
   "metadata": {},
   "source": [
    "# 3D clustering with long-lat-depth"
   ]
  },
  {
   "cell_type": "code",
   "execution_count": null,
   "metadata": {},
   "outputs": [],
   "source": [
    "import pandas as pd\n",
    "from sklearn.preprocessing import StandardScaler\n",
    "from sklearn.metrics import silhouette_score\n",
    "from sklearn.datasets import load_iris, load_wine\n",
    "from sklearn.cluster import DBSCAN\n",
    "import seaborn as sns\n",
    "import matplotlib.pyplot as plt\n",
    "\n",
    "%matplotlib inline"
   ]
  },
  {
   "cell_type": "markdown",
   "metadata": {},
   "source": [
    "Standardizing the data:"
   ]
  },
  {
   "cell_type": "code",
   "execution_count": null,
   "metadata": {},
   "outputs": [],
   "source": [
    "#Creating the df for creating the clusters\n",
    "\n",
    "df_lp_eq_cut = df_lp_eq\n",
    "\n",
    "df_lp_eq_cut_cut = df_lp_eq_cut.iloc[0:800,:]\n",
    "\n",
    "df = df_lp_eq_cut_cut[[\"longitude\", \"latitude\", \"depth\"]]\n",
    "\n",
    "ss = StandardScaler()\n",
    "\n",
    "X_scaled = ss.fit_transform(df)\n",
    "\n",
    "dbscan = DBSCAN(eps = 0.2, min_samples=5)\n",
    "\n",
    "dbscan.fit(X_scaled);\n",
    "\n",
    "df['cluster'] = dbscan.labels_\n",
    "\n",
    "\n",
    "df_2 = df_lp_eq.copy()\n",
    "\n",
    "df_2[\"cluster\"] = df[\"cluster\"]\n",
    "\n",
    "\n",
    "# Getting the top cluster\n",
    "Top_clusters = df_2.groupby(\"cluster\")[\"cluster\"].count().sort_values(ascending = False)[:3].index\n",
    "\n",
    "\n",
    "# Plotting the top cluster\n",
    "if (Top_clusters[0] < 0):\n",
    "    cluster_mask = Top_clusters[1]\n",
    "else:\n",
    "    cluster_mask = Top_clusters[0]\n",
    "    \n",
    "\n",
    "ax = plt.gca()\n",
    "df_selected = df[df[\"cluster\"] == cluster_mask]\n",
    "\n",
    "df_selected.plot(kind=\"scatter\", x=\"longitude\", y=\"latitude\",\n",
    "    s=[10] * len(df_selected),\n",
    "    label=\"EQ\",\n",
    "    c=\"black\",\n",
    "    cmap=plt.get_cmap(\"jet\"),\n",
    "    colorbar=True, \n",
    "    alpha=0.4, \n",
    "    figsize=(10,7), ax = ax,\n",
    "    xlim=(-126, -114),\n",
    "    ylim=(32, 42)\n",
    ")\n",
    "\n",
    "plt.legend()\n",
    "\n",
    "plt.tight_layout()\n",
    "\n",
    "plt.savefig(\"../plots/cluster_example.png\")\n"
   ]
  },
  {
   "cell_type": "code",
   "execution_count": null,
   "metadata": {},
   "outputs": [],
   "source": [
    "df_2.groupby(\"cluster\")[\"cluster\"].count().sort_values(ascending = False)"
   ]
  },
  {
   "cell_type": "code",
   "execution_count": null,
   "metadata": {},
   "outputs": [],
   "source": [
    "ax = plt.gca()\n",
    "df_selected = df[df[\"cluster\"] == cluster_mask]\n",
    "\n",
    "df_selected.plot(kind=\"scatter\", x=\"longitude\", y=\"depth\",\n",
    "    s=[10] * len(df_selected),\n",
    "    label=\"EQ\",\n",
    "    c=\"black\",\n",
    "    cmap=plt.get_cmap(\"jet\"),\n",
    "    colorbar=True, \n",
    "    alpha=0.4, \n",
    "    figsize=(10,7), ax = ax,\n",
    "    xlim=(-126, -114),\n",
    ")\n",
    "\n",
    "plt.legend()\n",
    "\n",
    "plt.tight_layout()\n",
    "\n",
    "plt.savefig(\"../plots/cluster_example_depth.png\")\n",
    "\n"
   ]
  },
  {
   "cell_type": "markdown",
   "metadata": {},
   "source": [
    "# Moving clusters design"
   ]
  },
  {
   "cell_type": "code",
   "execution_count": null,
   "metadata": {},
   "outputs": [],
   "source": []
  },
  {
   "cell_type": "code",
   "execution_count": null,
   "metadata": {},
   "outputs": [],
   "source": [
    "data = {\"mag_mean\": 0, \"density\": 0, \"long_cent\": 0, \"long_std\": 0,\n",
    "                  \"lat_cent\": 0, \"lat_std\": 0, \"dept_cent\": 0, \"dept_std\": 0, \"time_to_failure\": 0}\n",
    "\n",
    "cluster_df = pd.DataFrame(data, index=[0])\n",
    "\n",
    "\n",
    "\n",
    "df_lp_eq_cut = df_lp_eq\n",
    "cnt = 0\n",
    "ax = plt.gca()\n",
    "for i in range(40, len(df_lp_eq_cut), 20):\n",
    "\n",
    "    df_lp_eq_cut_cut = df_lp_eq_cut.iloc[:i,:]\n",
    "\n",
    "    df = df_lp_eq_cut_cut[[\"longitude\", \"latitude\", \"depth\", \"mag\", \"time_to_failure_sec\"]]\n",
    "\n",
    "    ss = StandardScaler()\n",
    "\n",
    "    X_scaled = ss.fit_transform(df[[\"longitude\", \"latitude\", \"depth\"]])\n",
    "\n",
    "    dbscan = DBSCAN(eps = 0.2, min_samples=5)\n",
    "\n",
    "    dbscan.fit(X_scaled);\n",
    "\n",
    "    df['cluster'] = dbscan.labels_\n",
    "\n",
    "\n",
    "    df_2 = df_lp_eq.copy()\n",
    "\n",
    "    df_2[\"cluster\"] = df[\"cluster\"]\n",
    "\n",
    "\n",
    "    # Getting the top cluster\n",
    "    Top_clusters = df_2.groupby(\"cluster\")[\"cluster\"].count().sort_values(ascending = False)[:3].index\n",
    "\n",
    "\n",
    "    # Plotting the top cluster\n",
    "    if (Top_clusters[0] < 0):\n",
    "        cluster_mask = Top_clusters[1]\n",
    "    else:\n",
    "        cluster_mask = Top_clusters[0]\n",
    "\n",
    "    df_selected = df[df[\"cluster\"] == cluster_mask]   \n",
    "\n",
    "    \n",
    "    \n",
    "    \n",
    "    df_selected.plot(kind=\"scatter\", x=\"longitude\", y=\"latitude\",\n",
    "        s=[10] * len(df_selected),\n",
    "        c=\"black\",\n",
    "        cmap=plt.get_cmap(\"jet\"),\n",
    "        alpha=0.4, \n",
    "        figsize=(10,7), ax = ax,\n",
    "        xlim=(-126, -114),\n",
    "        ylim=(32, 42)\n",
    "    )\n",
    "\n",
    "    plt.tight_layout()\n",
    "    \n",
    "    plt.savefig(f\"../plots/cluster_example{cnt}.png\")\n",
    "    cnt+=1\n",
    "    \n",
    "\n",
    "\n",
    "    max_lat = df_selected[\"latitude\"].max()\n",
    "    min_lat = df_selected[\"latitude\"].min()\n",
    "    max_long = df_selected[\"longitude\"].max()\n",
    "    min_long = df_selected[\"longitude\"].min()\n",
    "\n",
    "    area = (max_lat - min_lat)*(max_long - min_long)\n",
    "    cluster_density = area / len(df_selected)\n",
    "\n",
    "    cluster_mag_mean = df_selected[\"mag\"].mean()\n",
    "\n",
    "    cluster_long_cent = df_selected[\"longitude\"].mean()\n",
    "\n",
    "    cluster_long_std = df_selected[\"longitude\"].std()\n",
    "\n",
    "    cluster_lat_cent = df_selected[\"latitude\"].mean()\n",
    "\n",
    "    cluster_lat_std = df_selected[\"latitude\"].std()\n",
    "\n",
    "    cluster_dept_cent = df_selected[\"depth\"].mean()\n",
    "\n",
    "    cluster_dept_std = df_selected[\"depth\"].std()\n",
    "\n",
    "\n",
    "    cluster_time_to_failure = df_selected[\"time_to_failure_sec\"].iloc[-1]\n",
    "\n",
    "    rows = [cluster_mag_mean, cluster_density, cluster_long_cent, cluster_long_std,\n",
    "                      cluster_lat_cent, cluster_lat_std, cluster_dept_cent, cluster_dept_std, cluster_time_to_failure\n",
    "                      ]\n",
    "\n",
    "\n",
    "    cluster_df.loc[len(cluster_df)] = rows\n",
    "\n",
    "cluster_df.drop(cluster_df.index[0], inplace=True)\n",
    "\n",
    "\n",
    "\n",
    "cluster_df[\"long_mov\"] = cluster_df[\"long_cent\"].diff()\n",
    "cluster_df[\"lat_mov\"] = cluster_df[\"long_cent\"].diff()\n",
    "\n",
    "cluster_df.dropna(inplace = True)\n",
    "\n",
    "\n",
    "cluster_df.reset_index(inplace=True)\n",
    "\n",
    "cluster_df.drop(columns = \"index\", inplace=True)\n",
    "\n",
    "\n",
    "\n"
   ]
  },
  {
   "cell_type": "code",
   "execution_count": null,
   "metadata": {},
   "outputs": [],
   "source": [
    "cluster_df.info()"
   ]
  },
  {
   "cell_type": "code",
   "execution_count": null,
   "metadata": {},
   "outputs": [],
   "source": [
    "cluster_df.head(20)"
   ]
  },
  {
   "cell_type": "code",
   "execution_count": null,
   "metadata": {},
   "outputs": [],
   "source": [
    "import seaborn as sns\n",
    "\n",
    "\n",
    "df_corr = cluster_df.corr()\n",
    "\n",
    "#plt.figure(figsize=(6,6))\n",
    "plt.figure(figsize=(8,6))\n",
    "sns.heatmap(df_corr[['time_to_failure']].sort_values(by=['time_to_failure'],ascending=False),\n",
    "            vmin=-1,\n",
    "            cmap='coolwarm',\n",
    "            annot=True);\n",
    "plt.savefig(\"../plots/EDA_corr_plots.png\")"
   ]
  },
  {
   "cell_type": "code",
   "execution_count": null,
   "metadata": {},
   "outputs": [],
   "source": [
    "# Step 3: Instantiate the model\n",
    "lr = LinearRegression()\n",
    "# Step 1: Assemble our X and y variables\n",
    "\n",
    "# We need an X matrix that is n-by-p (in this case, p = 1)\n",
    "X = cluster_df.drop(columns=[\"time_to_failure\", \"long_cent\", \"lat_cent\"])\n",
    "\n",
    "ss = StandardScaler()\n",
    "\n",
    "X_scaled = ss.fit_transform(X)\n",
    "\n",
    "pickle.dump(ss, open('../datasets/ss.pkl', 'wb'))\n",
    "\n",
    "# We need a y vector that is length n\n",
    "y = cluster_df[\"time_to_failure\"]\n",
    "\n",
    "lr.fit(X_scaled, y)\n",
    "\n",
    "y_pred = lr.predict(X_scaled)\n",
    "\n",
    "\n",
    "lr.score(X_scaled, y)"
   ]
  },
  {
   "cell_type": "code",
   "execution_count": null,
   "metadata": {},
   "outputs": [],
   "source": [
    "X.head()"
   ]
  },
  {
   "cell_type": "code",
   "execution_count": null,
   "metadata": {},
   "outputs": [],
   "source": [
    "coef_df = pd.DataFrame({'features': list(X.columns), \n",
    "              'coef' : list(lr.coef_)})\n",
    "\n",
    "coef_df = coef_df.set_index('features')\n",
    "coef_df = coef_df.sort_values('coef', ascending = False)\n",
    "coef_df.head(10)"
   ]
  },
  {
   "cell_type": "code",
   "execution_count": null,
   "metadata": {},
   "outputs": [],
   "source": [
    "weights = coef_df['coef'].head(10).sort_values()\n",
    "labels = weights.index\n",
    "\n",
    "plt.figure(figsize=(10,7))\n",
    "plt.barh(labels, weights, color = 'green')\n",
    "plt.yticks(fontsize=12)\n",
    "plt.xticks(fontsize=12)\n",
    "plt.xlabel('Exp Coef', fontsize=12)\n",
    "plt.title(f'Top Features - EQ', fontsize=15)\n",
    "plt.tight_layout()\n",
    "\n",
    "plt.savefig(\"../plots/features.png\")"
   ]
  },
  {
   "cell_type": "code",
   "execution_count": 22,
   "metadata": {},
   "outputs": [
    {
     "data": {
      "text/html": [
       "<div>\n",
       "<style scoped>\n",
       "    .dataframe tbody tr th:only-of-type {\n",
       "        vertical-align: middle;\n",
       "    }\n",
       "\n",
       "    .dataframe tbody tr th {\n",
       "        vertical-align: top;\n",
       "    }\n",
       "\n",
       "    .dataframe thead th {\n",
       "        text-align: right;\n",
       "    }\n",
       "</style>\n",
       "<table border=\"1\" class=\"dataframe\">\n",
       "  <thead>\n",
       "    <tr style=\"text-align: right;\">\n",
       "      <th></th>\n",
       "      <th>mag_mean</th>\n",
       "      <th>density</th>\n",
       "      <th>long_cent</th>\n",
       "      <th>long_std</th>\n",
       "      <th>lat_cent</th>\n",
       "      <th>lat_std</th>\n",
       "      <th>dept_cent</th>\n",
       "      <th>dept_std</th>\n",
       "      <th>time_to_failure</th>\n",
       "      <th>long_mov</th>\n",
       "      <th>lat_mov</th>\n",
       "    </tr>\n",
       "  </thead>\n",
       "  <tbody>\n",
       "    <tr>\n",
       "      <th>0</th>\n",
       "      <td>1.817143</td>\n",
       "      <td>0.000069</td>\n",
       "      <td>-121.698857</td>\n",
       "      <td>0.003696</td>\n",
       "      <td>37.625262</td>\n",
       "      <td>0.018153</td>\n",
       "      <td>5.701857</td>\n",
       "      <td>0.503937</td>\n",
       "      <td>-695607.07</td>\n",
       "      <td>0.049372</td>\n",
       "      <td>0.049372</td>\n",
       "    </tr>\n",
       "  </tbody>\n",
       "</table>\n",
       "</div>"
      ],
      "text/plain": [
       "   mag_mean   density   long_cent  long_std   lat_cent   lat_std  dept_cent  \\\n",
       "0  1.817143  0.000069 -121.698857  0.003696  37.625262  0.018153   5.701857   \n",
       "\n",
       "   dept_std  time_to_failure  long_mov   lat_mov  \n",
       "0  0.503937       -695607.07  0.049372  0.049372  "
      ]
     },
     "execution_count": 22,
     "metadata": {},
     "output_type": "execute_result"
    }
   ],
   "source": [
    "cluster_df.head(1)"
   ]
  },
  {
   "cell_type": "code",
   "execution_count": 23,
   "metadata": {},
   "outputs": [
    {
     "data": {
      "text/plain": [
       "[<matplotlib.lines.Line2D at 0x7fb74e4be950>]"
      ]
     },
     "execution_count": 23,
     "metadata": {},
     "output_type": "execute_result"
    },
    {
     "data": {
      "image/png": "[encoded data removed]",
      "text/plain": [
       "<Figure size 432x288 with 1 Axes>"
      ]
     },
     "metadata": {
      "needs_background": "light"
     },
     "output_type": "display_data"
    }
   ],
   "source": [
    "plt.plot(cluster_df[\"mag_mean\"])"
   ]
  },
  {
   "cell_type": "code",
   "execution_count": 24,
   "metadata": {},
   "outputs": [
    {
     "data": {
      "image/png": "[encoded data removed]",
      "text/plain": [
       "<Figure size 432x288 with 1 Axes>"
      ]
     },
     "metadata": {
      "image/png": {
       "height": 248,
       "width": 381
      },
      "needs_background": "light"
     },
     "output_type": "display_data"
    }
   ],
   "source": [
    "%config InlineBackend.figure_format = 'retina'\n",
    "\n",
    "columns = list(cluster_df.columns)\n",
    "\n",
    "columns.remove('time_to_failure')\n",
    "columns.remove('long_cent')\n",
    "columns.remove('lat_cent')\n",
    "\n",
    "\n",
    "color = [\"black\", \"red\", \"blue\", \"green\", \"purple\"]\n",
    "\n",
    "\n",
    "for i, label in enumerate(columns):\n",
    "    \n",
    "    plt.plot(cluster_df['time_to_failure'], cluster_df[label], color = \"black\", linewidth = 3)\n",
    "\n"
   ]
  },
  {
   "cell_type": "code",
   "execution_count": 25,
   "metadata": {},
   "outputs": [
    {
     "name": "stdout",
     "output_type": "stream",
     "text": [
      "Hello World!\n"
     ]
    }
   ],
   "source": [
    "print(\"Hello World!\")"
   ]
  }
 ],
 "metadata": {
  "kernelspec": {
   "display_name": "Python [conda env:dsi]",
   "language": "python",
   "name": "conda-env-dsi-py"
  },
  "language_info": {
   "codemirror_mode": {
    "name": "ipython",
    "version": 3
   },
   "file_extension": ".py",
   "mimetype": "text/x-python",
   "name": "python",
   "nbconvert_exporter": "python",
   "pygments_lexer": "ipython3",
   "version": "3.7.7"
  }
 },
 "nbformat": 4,
 "nbformat_minor": 4
}
