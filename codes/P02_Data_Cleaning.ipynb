{
 "cells": [
  {
   "cell_type": "markdown",
   "metadata": {},
   "source": [
    "## Part 2: Cleaning the imported data and doing a brief EDA for early assessment.\n",
    "\n",
    "**In this notebook,** I concatenated the imported single files into a single dataframe and cleaned the combined dataframe. Finally, I saved it as a clean version into \"../datasets/\" folder for further processing."
   ]
  },
  {
   "cell_type": "markdown",
   "metadata": {},
   "source": [
    "Importing the required libraries:"
   ]
  },
  {
   "cell_type": "code",
   "execution_count": 2,
   "metadata": {},
   "outputs": [],
   "source": [
    "import requests\n",
    "import json\n",
    "import pandas as pd\n",
    "import numpy as np\n",
    "import pandas as pd\n",
    "import matplotlib.pyplot as plt\n",
    "\n",
    "#Importing the built-in function, prior to that added the assets path to the system path\n",
    "\n",
    "import sys\n",
    "# inserting the parent directory into current path\n",
    "sys.path.insert(1, '../assets')\n",
    "\n",
    "from EQ_USGS import clean_EQ_USGS_df\n",
    "\n",
    "import glob\n",
    "import os"
   ]
  },
  {
   "cell_type": "markdown",
   "metadata": {},
   "source": [
    "#### Reading in the dataframes and merging them into a global one:"
   ]
  },
  {
   "cell_type": "code",
   "execution_count": 3,
   "metadata": {},
   "outputs": [],
   "source": [
    "path = '../datasets/imported_usgs_api/'\n",
    "\n",
    "my_files = []\n",
    "\n",
    "for file in sorted(os.listdir(path)):\n",
    "    if file.endswith(\"raw.csv\"):\n",
    "        my_files.append(path+file)"
   ]
  },
  {
   "cell_type": "code",
   "execution_count": 9,
   "metadata": {},
   "outputs": [
    {
     "data": {
      "text/plain": [
       "['../datasets/imported_usgs_api/eq_california_yr_1970_1_raw.csv',\n",
       " '../datasets/imported_usgs_api/eq_california_yr_1970_2_raw.csv',\n",
       " '../datasets/imported_usgs_api/eq_california_yr_1970_3_raw.csv',\n",
       " '../datasets/imported_usgs_api/eq_california_yr_1970_4_raw.csv',\n",
       " '../datasets/imported_usgs_api/eq_california_yr_1971_1_raw.csv',\n",
       " '../datasets/imported_usgs_api/eq_california_yr_1971_2_raw.csv',\n",
       " '../datasets/imported_usgs_api/eq_california_yr_1971_3_raw.csv',\n",
       " '../datasets/imported_usgs_api/eq_california_yr_1971_4_raw.csv',\n",
       " '../datasets/imported_usgs_api/eq_california_yr_1972_1_raw.csv',\n",
       " '../datasets/imported_usgs_api/eq_california_yr_1972_2_raw.csv']"
      ]
     },
     "execution_count": 9,
     "metadata": {},
     "output_type": "execute_result"
    }
   ],
   "source": [
    "my_files[:10]"
   ]
  },
  {
   "cell_type": "code",
   "execution_count": 10,
   "metadata": {},
   "outputs": [],
   "source": [
    "#Source: https://www.freecodecamp.org/news/how-to-combine-multiple-csv-files-with-8-lines-of-code-265183e0854/\n",
    "df_combined = pd.concat([pd.read_csv(f) for f in my_files ])\n",
    "\n",
    "df_combined.reset_index(drop=True, inplace=True)"
   ]
  },
  {
   "cell_type": "code",
   "execution_count": 11,
   "metadata": {},
   "outputs": [
    {
     "data": {
      "text/plain": [
       "(313342, 31)"
      ]
     },
     "execution_count": 11,
     "metadata": {},
     "output_type": "execute_result"
    }
   ],
   "source": [
    "df_combined.shape"
   ]
  },
  {
   "cell_type": "markdown",
   "metadata": {},
   "source": [
    "Nearly, 300k data!"
   ]
  },
  {
   "cell_type": "code",
   "execution_count": 12,
   "metadata": {},
   "outputs": [
    {
     "data": {
      "text/html": [
       "<div>\n",
       "<style scoped>\n",
       "    .dataframe tbody tr th:only-of-type {\n",
       "        vertical-align: middle;\n",
       "    }\n",
       "\n",
       "    .dataframe tbody tr th {\n",
       "        vertical-align: top;\n",
       "    }\n",
       "\n",
       "    .dataframe thead th {\n",
       "        text-align: right;\n",
       "    }\n",
       "</style>\n",
       "<table border=\"1\" class=\"dataframe\">\n",
       "  <thead>\n",
       "    <tr style=\"text-align: right;\">\n",
       "      <th></th>\n",
       "      <th>Unnamed: 0</th>\n",
       "      <th>mag</th>\n",
       "      <th>place</th>\n",
       "      <th>time</th>\n",
       "      <th>updated</th>\n",
       "      <th>tz</th>\n",
       "      <th>url</th>\n",
       "      <th>detail</th>\n",
       "      <th>felt</th>\n",
       "      <th>cdi</th>\n",
       "      <th>...</th>\n",
       "      <th>dmin</th>\n",
       "      <th>rms</th>\n",
       "      <th>gap</th>\n",
       "      <th>magType</th>\n",
       "      <th>type</th>\n",
       "      <th>title</th>\n",
       "      <th>index</th>\n",
       "      <th>type.1</th>\n",
       "      <th>coordinates</th>\n",
       "      <th>index.1</th>\n",
       "    </tr>\n",
       "  </thead>\n",
       "  <tbody>\n",
       "    <tr>\n",
       "      <th>0</th>\n",
       "      <td>0</td>\n",
       "      <td>3.32</td>\n",
       "      <td>21km ENE of Ensenada, B.C., MX</td>\n",
       "      <td>5080250150</td>\n",
       "      <td>1454031509670</td>\n",
       "      <td>NaN</td>\n",
       "      <td>https://earthquake.usgs.gov/earthquakes/eventp...</td>\n",
       "      <td>https://earthquake.usgs.gov/fdsnws/event/1/que...</td>\n",
       "      <td>NaN</td>\n",
       "      <td>NaN</td>\n",
       "      <td>...</td>\n",
       "      <td>0.7633</td>\n",
       "      <td>0.46</td>\n",
       "      <td>289.0</td>\n",
       "      <td>ml</td>\n",
       "      <td>earthquake</td>\n",
       "      <td>M 3.3 - 21km ENE of Ensenada, B.C., MX</td>\n",
       "      <td>0</td>\n",
       "      <td>Point</td>\n",
       "      <td>[-116.4203333, 31.945, 6]</td>\n",
       "      <td>0</td>\n",
       "    </tr>\n",
       "  </tbody>\n",
       "</table>\n",
       "<p>1 rows × 31 columns</p>\n",
       "</div>"
      ],
      "text/plain": [
       "   Unnamed: 0   mag                           place        time  \\\n",
       "0           0  3.32  21km ENE of Ensenada, B.C., MX  5080250150   \n",
       "\n",
       "         updated  tz                                                url  \\\n",
       "0  1454031509670 NaN  https://earthquake.usgs.gov/earthquakes/eventp...   \n",
       "\n",
       "                                              detail  felt  cdi  ...    dmin  \\\n",
       "0  https://earthquake.usgs.gov/fdsnws/event/1/que...   NaN  NaN  ...  0.7633   \n",
       "\n",
       "    rms    gap  magType        type                                   title  \\\n",
       "0  0.46  289.0       ml  earthquake  M 3.3 - 21km ENE of Ensenada, B.C., MX   \n",
       "\n",
       "  index type.1                coordinates index.1  \n",
       "0     0  Point  [-116.4203333, 31.945, 6]       0  \n",
       "\n",
       "[1 rows x 31 columns]"
      ]
     },
     "execution_count": 12,
     "metadata": {},
     "output_type": "execute_result"
    }
   ],
   "source": [
    "df_combined.head(1)"
   ]
  },
  {
   "cell_type": "markdown",
   "metadata": {},
   "source": [
    "### Cleaning the dataframe using the built-in function"
   ]
  },
  {
   "cell_type": "code",
   "execution_count": 13,
   "metadata": {},
   "outputs": [],
   "source": [
    "df_combined_clean = clean_EQ_USGS_df(df_combined)\n",
    "\n",
    "file_path = \"../datasets/\" + \"combined_eq_california\" + \"_clean\" + \".csv\"\n",
    "df_combined_clean.to_csv(file_path)"
   ]
  },
  {
   "cell_type": "code",
   "execution_count": 14,
   "metadata": {},
   "outputs": [
    {
     "name": "stdout",
     "output_type": "stream",
     "text": [
      "Hello World!\n"
     ]
    }
   ],
   "source": [
    "print(\"Hello World!\")"
   ]
  }
 ],
 "metadata": {
  "kernelspec": {
   "display_name": "Python [conda env:dsi]",
   "language": "python",
   "name": "conda-env-dsi-py"
  },
  "language_info": {
   "codemirror_mode": {
    "name": "ipython",
    "version": 3
   },
   "file_extension": ".py",
   "mimetype": "text/x-python",
   "name": "python",
   "nbconvert_exporter": "python",
   "pygments_lexer": "ipython3",
   "version": "3.7.7"
  }
 },
 "nbformat": 4,
 "nbformat_minor": 4
}
