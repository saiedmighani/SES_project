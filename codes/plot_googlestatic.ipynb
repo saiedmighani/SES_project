{
 "cells": [
  {
   "cell_type": "code",
   "execution_count": 1,
   "metadata": {
    "collapsed": false,
    "jupyter": {
     "outputs_hidden": false
    }
   },
   "outputs": [],
   "source": [
    "%matplotlib inline"
   ]
  },
  {
   "cell_type": "markdown",
   "metadata": {},
   "source": [
    "\n",
    "# Plot on a google map background\n",
    "\n",
    "\n",
    "Google static maps API\n",
    "\n",
    "In this script, we use `motionless <https://github.com/ryancox/motionless>`_\n",
    "to download an image from the `google static map API <http://code.google.com/apis/maps/documentation/staticmaps/>`_\n",
    "and plot it on a :py:class:`~salem.Map`. We then add information to the map\n",
    "such as a glacier outline (from the `RGI <http://www.glims.org/RGI/>`_),\n",
    "and ground penetrating radar measurements (GPR, from the\n",
    "`GlaThiDa <http://www.gtn-g.ch/data_catalogue_glathida/>`_ database).\n",
    "\n",
    "The GPR measurements were realized in 1997, the glacier outlines are from\n",
    "2003, and the map background is from 2016. This illustrates the retreat of\n",
    "the Kesselwandferner glacier.\n",
    "\n",
    "\n"
   ]
  },
  {
   "cell_type": "code",
   "execution_count": null,
   "metadata": {
    "collapsed": false,
    "jupyter": {
     "outputs_hidden": false
    }
   },
   "outputs": [
    {
     "name": "stdout",
     "output_type": "stream",
     "text": [
      "Downloading salem-sample-data...\n"
     ]
    }
   ],
   "source": [
    "import numpy as np\n",
    "import pandas as pd\n",
    "import salem\n",
    "from salem import get_demo_file, DataLevels, GoogleVisibleMap, Map\n",
    "import matplotlib.pyplot as plt\n",
    "\n",
    "# prepare the figure\n",
    "f, (ax1, ax2) = plt.subplots(1, 2, figsize=(12, 5))\n",
    "\n",
    "# read the shapefile and use its extent to define a ideally sized map\n",
    "shp = salem.read_shapefile(get_demo_file('rgi_kesselwand.shp'))\n",
    "# I you need to do a lot of maps you might want\n",
    "# to use an API key and set it here with key='YOUR_API_KEY'\n",
    "g = GoogleVisibleMap(x=[shp.min_x, shp.max_x], y=[shp.min_y, shp.max_y],\n",
    "                     scale=2,  # scale is for more details\n",
    "                     maptype='satellite')  # try out also: 'terrain'\n",
    "\n",
    "# the google static image is a standard rgb image\n",
    "ggl_img = g.get_vardata()\n",
    "ax1.imshow(ggl_img)\n",
    "ax1.set_title('Google static map')\n",
    "\n",
    "# make a map of the same size as the image (no country borders)\n",
    "sm = Map(g.grid, factor=1, countries=False)\n",
    "sm.set_shapefile(shp)  # add the glacier outlines\n",
    "sm.set_rgb(ggl_img)  # add the background rgb image\n",
    "sm.set_scale_bar(location=(0.88, 0.94))  # add scale\n",
    "sm.visualize(ax=ax2)  # plot it\n",
    "ax2.set_title('GPR measurements')\n",
    "\n",
    "# read the point GPR data and add them to the plot\n",
    "df = pd.read_csv(get_demo_file('gtd_ttt_kesselwand.csv'))\n",
    "dl = DataLevels(df.THICKNESS, levels=np.arange(10, 201, 10), extend='both')\n",
    "x, y = sm.grid.transform(df.POINT_LON.values, df.POINT_LAT.values)\n",
    "ax2.scatter(x, y, color=dl.to_rgb(), s=50, edgecolors='k', linewidths=1)\n",
    "dl.append_colorbar(ax2, label='Ice thickness (m)')\n",
    "\n",
    "# make it nice\n",
    "plt.tight_layout()\n",
    "plt.show()"
   ]
  }
 ],
 "metadata": {
  "kernelspec": {
   "display_name": "Python [conda env:dsi]",
   "language": "python",
   "name": "conda-env-dsi-py"
  },
  "language_info": {
   "codemirror_mode": {
    "name": "ipython",
    "version": 3
   },
   "file_extension": ".py",
   "mimetype": "text/x-python",
   "name": "python",
   "nbconvert_exporter": "python",
   "pygments_lexer": "ipython3",
   "version": "3.7.7"
  }
 },
 "nbformat": 4,
 "nbformat_minor": 4
}
