{
 "cells": [
  {
   "cell_type": "markdown",
   "metadata": {},
   "source": [
    "## <span style=\"color:yellow\"> Objective: Read and import the API into DataFrame </span>"
   ]
  },
  {
   "cell_type": "markdown",
   "metadata": {},
   "source": [
    "[Go to USGS API documentation](https://earthquake.usgs.gov/fdsnws/event/1/)"
   ]
  },
  {
   "cell_type": "markdown",
   "metadata": {},
   "source": [
    "   - [Importing the required libraries](#cell_ref_0)\n",
    "   - [Reading the geojson files from USGS API](#cell_ref_1)\n",
    "   - [No null value](#cell_ref_1)\n",
    "   - [The data type seems correct, except for salesdate](#cell_ref_1)\n",
    "   - [Converted the sale_date to datetime and added a few date features](#cell_ref_2)\n",
    "   - [sq_ft and price have negative values, so they need to be fixed. I simply converted values to absolutes](#cell_ref_3)\n",
    "   - [171 rows had 0 (sq_ft, bed, bath) which probab. means land, so I replaced the zeros with mean values for those columns](#cell_ref_4)\n",
    "   - [Still latitude and longitude seem to be swapped for some rows, so swapped those](#cell_ref_5)\n",
    "    \n",
    "\n",
    "- <span style=\"color:green\"> - The data seems <em>**clean**</em> now. So, moving to modeling. </span>"
   ]
  },
  {
   "cell_type": "markdown",
   "metadata": {},
   "source": [
    "<a id='cell_ref_0'></a>"
   ]
  },
  {
   "cell_type": "code",
   "execution_count": 1,
   "metadata": {},
   "outputs": [],
   "source": [
    "import requests\n",
    "import json\n",
    "import pandas as pd\n",
    "import numpy as np\n",
    "import pandas as pd\n",
    "import matplotlib.pyplot as plt"
   ]
  },
  {
   "cell_type": "markdown",
   "metadata": {},
   "source": [
    "- Function for EQ json reading"
   ]
  },
  {
   "cell_type": "markdown",
   "metadata": {},
   "source": [
    "<a id='cell_ref_1'></a>"
   ]
  },
  {
   "cell_type": "code",
   "execution_count": 2,
   "metadata": {},
   "outputs": [],
   "source": [
    "def get_EQ_USGS(*arg):\n",
    "    \n",
    "    baseurl = 'https://earthquake.usgs.gov/fdsnws/event/1/query'\n",
    "    \n",
    "    params_diction={}\n",
    "    \n",
    "    params_diction['format'] = get_format\n",
    "    \n",
    "    params_diction['starttime'] = min_date\n",
    "    params_diction['endtime'] = max_date\n",
    "    \n",
    "    params_diction['minmagnitude'] = min_magnitude\n",
    "    params_diction['maxmagnitude'] = max_magnitude\n",
    "    \n",
    "    params_diction['minlatitude'] = min_latitude\n",
    "    params_diction['maxlatitude'] = max_latitude\n",
    "    params_diction['minlongitude'] = min_longitude\n",
    "    params_diction['maxlongitude'] = max_longitude\n",
    "    \n",
    "    params_diction['orderby'] = order_by\n",
    "    \n",
    "    params_diction['limit'] = limit_data\n",
    "    \n",
    "    resp = requests.get(baseurl, params=params_diction)\n",
    "    \n",
    "    return resp.json()\n"
   ]
  },
  {
   "cell_type": "markdown",
   "metadata": {},
   "source": [
    "- Parameterically reading the json data for Earthquakes"
   ]
  },
  {
   "cell_type": "code",
   "execution_count": 3,
   "metadata": {},
   "outputs": [],
   "source": [
    "get_format = \"geojson\" # Format for importing data\n",
    "\n",
    "min_date = \"1989-10-16\" # Minimum date for reporting the data\n",
    "max_date = \"1989-10-17\" # Maximum date for reporting the data\n",
    "\n",
    "min_magnitude = \"1\" # Minimum magnitude of the reporting data\n",
    "max_magnitude = \"10\" # Maximum magnitude of the reporting data\n",
    "\n",
    "min_latitude = \"32\" # Minimum latitude\n",
    "max_latitude = \"42\" # Maximum latitude\n",
    "\n",
    "min_longitude = \"-126\" # Minimum longitude\n",
    "max_longitude = \"-114\" # Maximum longitude\n",
    "\n",
    "order_by = \"time\" # Ordering the data by parameters\n",
    "limit_data = \"20000\" # Maximum number of data\n",
    "\n",
    "Params = [get_format, min_date, max_date, min_magnitude, max_magnitude, \n",
    "          min_latitude, max_latitude, min_longitude, max_longitude, order_by, \n",
    "          limit_data]\n",
    "\n",
    "USGS_EQ_data_pull = get_EQ_USGS(Params)\n",
    "\n",
    "#USGS_data_json = print(json.dumps(USGS_data, indent=2))"
   ]
  },
  {
   "cell_type": "code",
   "execution_count": 4,
   "metadata": {},
   "outputs": [
    {
     "name": "stdout",
     "output_type": "stream",
     "text": [
      "dict_keys(['type', 'metadata', 'features', 'bbox'])\n"
     ]
    }
   ],
   "source": [
    "print(USGS_EQ_data_pull.keys())"
   ]
  },
  {
   "cell_type": "code",
   "execution_count": 5,
   "metadata": {},
   "outputs": [
    {
     "name": "stdout",
     "output_type": "stream",
     "text": [
      "FeatureCollection\n"
     ]
    }
   ],
   "source": [
    "print(USGS_EQ_data_pull[\"type\"])"
   ]
  },
  {
   "cell_type": "code",
   "execution_count": 6,
   "metadata": {},
   "outputs": [
    {
     "name": "stdout",
     "output_type": "stream",
     "text": [
      "{\n",
      "  \"generated\": 1597266363000,\n",
      "  \"url\": \"https://earthquake.usgs.gov/fdsnws/event/1/query?format=geojson&starttime=1989-10-16&endtime=1989-10-17&minmagnitude=1&maxmagnitude=10&minlatitude=32&maxlatitude=42&minlongitude=-126&maxlongitude=-114&orderby=time&limit=20000\",\n",
      "  \"title\": \"USGS Earthquakes\",\n",
      "  \"status\": 200,\n",
      "  \"api\": \"1.10.3\",\n",
      "  \"limit\": 20000,\n",
      "  \"offset\": 1,\n",
      "  \"count\": 38\n",
      "}\n"
     ]
    }
   ],
   "source": [
    "print(json.dumps(USGS_EQ_data_pull[\"metadata\"], indent=2))"
   ]
  },
  {
   "cell_type": "code",
   "execution_count": 7,
   "metadata": {},
   "outputs": [
    {
     "name": "stdout",
     "output_type": "stream",
     "text": [
      "{\n",
      "  \"type\": \"Feature\",\n",
      "  \"properties\": {\n",
      "    \"mag\": 1.43,\n",
      "    \"place\": \"Central California\",\n",
      "    \"time\": 624585262980,\n",
      "    \"updated\": 1481286117480,\n",
      "    \"tz\": null,\n",
      "    \"url\": \"https://earthquake.usgs.gov/earthquakes/eventpage/nc145550\",\n",
      "    \"detail\": \"https://earthquake.usgs.gov/fdsnws/event/1/query?eventid=nc145550&format=geojson\",\n",
      "    \"felt\": null,\n",
      "    \"cdi\": null,\n",
      "    \"mmi\": null,\n",
      "    \"alert\": null,\n",
      "    \"status\": \"reviewed\",\n",
      "    \"tsunami\": 0,\n",
      "    \"sig\": 31,\n",
      "    \"net\": \"nc\",\n",
      "    \"code\": \"145550\",\n",
      "    \"ids\": \",nc145550,\",\n",
      "    \"sources\": \",nc,\",\n",
      "    \"types\": \",nearby-cities,origin,phase-data,\",\n",
      "    \"nst\": 23,\n",
      "    \"dmin\": 0.01712,\n",
      "    \"rms\": 0.08,\n",
      "    \"gap\": 80,\n",
      "    \"magType\": \"md\",\n",
      "    \"type\": \"earthquake\",\n",
      "    \"title\": \"M 1.4 - Central California\"\n",
      "  },\n",
      "  \"geometry\": {\n",
      "    \"type\": \"Point\",\n",
      "    \"coordinates\": [\n",
      "      -119.0525,\n",
      "      37.6348333,\n",
      "      2.153\n",
      "    ]\n",
      "  },\n",
      "  \"id\": \"nc145550\"\n",
      "}\n"
     ]
    }
   ],
   "source": [
    "print(json.dumps(USGS_EQ_data_pull[\"features\"][0], indent=2)) # Printing only the first element of the list"
   ]
  },
  {
   "cell_type": "code",
   "execution_count": 8,
   "metadata": {},
   "outputs": [
    {
     "name": "stdout",
     "output_type": "stream",
     "text": [
      "[-122.8191667, 33.02, -0.818, -116.018, 40.8645, 19.338]\n"
     ]
    }
   ],
   "source": [
    "print(USGS_EQ_data_pull[\"bbox\"])"
   ]
  },
  {
   "cell_type": "markdown",
   "metadata": {},
   "source": [
    "# Step 1: Converting the imported \"feature\" json data into pandas dataframe"
   ]
  },
  {
   "cell_type": "code",
   "execution_count": 9,
   "metadata": {},
   "outputs": [],
   "source": [
    "USGS_EQ_features = USGS_EQ_data_pull[\"features\"]"
   ]
  },
  {
   "cell_type": "markdown",
   "metadata": {},
   "source": [
    "- Taking it into pandas"
   ]
  },
  {
   "cell_type": "code",
   "execution_count": 10,
   "metadata": {},
   "outputs": [
    {
     "data": {
      "text/html": [
       "<div>\n",
       "<style scoped>\n",
       "    .dataframe tbody tr th:only-of-type {\n",
       "        vertical-align: middle;\n",
       "    }\n",
       "\n",
       "    .dataframe tbody tr th {\n",
       "        vertical-align: top;\n",
       "    }\n",
       "\n",
       "    .dataframe thead th {\n",
       "        text-align: right;\n",
       "    }\n",
       "</style>\n",
       "<table border=\"1\" class=\"dataframe\">\n",
       "  <thead>\n",
       "    <tr style=\"text-align: right;\">\n",
       "      <th></th>\n",
       "      <th>0</th>\n",
       "      <th>1</th>\n",
       "      <th>2</th>\n",
       "      <th>3</th>\n",
       "      <th>4</th>\n",
       "      <th>5</th>\n",
       "      <th>6</th>\n",
       "      <th>7</th>\n",
       "      <th>8</th>\n",
       "      <th>9</th>\n",
       "      <th>...</th>\n",
       "      <th>951</th>\n",
       "      <th>952</th>\n",
       "      <th>953</th>\n",
       "      <th>954</th>\n",
       "      <th>955</th>\n",
       "      <th>956</th>\n",
       "      <th>957</th>\n",
       "      <th>958</th>\n",
       "      <th>959</th>\n",
       "      <th>960</th>\n",
       "    </tr>\n",
       "  </thead>\n",
       "  <tbody>\n",
       "    <tr>\n",
       "      <th>0</th>\n",
       "      <td>{'type': 'Feature', 'properties': {'mag': 1.07...</td>\n",
       "      <td>{'type': 'Feature', 'properties': {'mag': 1.3,...</td>\n",
       "      <td>{'type': 'Feature', 'properties': {'mag': 1.74...</td>\n",
       "      <td>{'type': 'Feature', 'properties': {'mag': 1.37...</td>\n",
       "      <td>{'type': 'Feature', 'properties': {'mag': 1.8,...</td>\n",
       "      <td>{'type': 'Feature', 'properties': {'mag': 1.5,...</td>\n",
       "      <td>{'type': 'Feature', 'properties': {'mag': 1.4,...</td>\n",
       "      <td>{'type': 'Feature', 'properties': {'mag': 1, '...</td>\n",
       "      <td>{'type': 'Feature', 'properties': {'mag': 1.63...</td>\n",
       "      <td>{'type': 'Feature', 'properties': {'mag': 1.5,...</td>\n",
       "      <td>...</td>\n",
       "      <td>{'type': 'Feature', 'properties': {'mag': 1.6,...</td>\n",
       "      <td>{'type': 'Feature', 'properties': {'mag': 1.46...</td>\n",
       "      <td>{'type': 'Feature', 'properties': {'mag': 1.1,...</td>\n",
       "      <td>{'type': 'Feature', 'properties': {'mag': 1.35...</td>\n",
       "      <td>{'type': 'Feature', 'properties': {'mag': 1.5,...</td>\n",
       "      <td>{'type': 'Feature', 'properties': {'mag': 1, '...</td>\n",
       "      <td>{'type': 'Feature', 'properties': {'mag': 2.31...</td>\n",
       "      <td>{'type': 'Feature', 'properties': {'mag': 1.70...</td>\n",
       "      <td>{'type': 'Feature', 'properties': {'mag': 1.1,...</td>\n",
       "      <td>{'type': 'Feature', 'properties': {'mag': 1.37...</td>\n",
       "    </tr>\n",
       "  </tbody>\n",
       "</table>\n",
       "<p>1 rows × 961 columns</p>\n",
       "</div>"
      ],
      "text/plain": [
       "                                                 0    \\\n",
       "0  {'type': 'Feature', 'properties': {'mag': 1.07...   \n",
       "\n",
       "                                                 1    \\\n",
       "0  {'type': 'Feature', 'properties': {'mag': 1.3,...   \n",
       "\n",
       "                                                 2    \\\n",
       "0  {'type': 'Feature', 'properties': {'mag': 1.74...   \n",
       "\n",
       "                                                 3    \\\n",
       "0  {'type': 'Feature', 'properties': {'mag': 1.37...   \n",
       "\n",
       "                                                 4    \\\n",
       "0  {'type': 'Feature', 'properties': {'mag': 1.8,...   \n",
       "\n",
       "                                                 5    \\\n",
       "0  {'type': 'Feature', 'properties': {'mag': 1.5,...   \n",
       "\n",
       "                                                 6    \\\n",
       "0  {'type': 'Feature', 'properties': {'mag': 1.4,...   \n",
       "\n",
       "                                                 7    \\\n",
       "0  {'type': 'Feature', 'properties': {'mag': 1, '...   \n",
       "\n",
       "                                                 8    \\\n",
       "0  {'type': 'Feature', 'properties': {'mag': 1.63...   \n",
       "\n",
       "                                                 9    ...  \\\n",
       "0  {'type': 'Feature', 'properties': {'mag': 1.5,...  ...   \n",
       "\n",
       "                                                 951  \\\n",
       "0  {'type': 'Feature', 'properties': {'mag': 1.6,...   \n",
       "\n",
       "                                                 952  \\\n",
       "0  {'type': 'Feature', 'properties': {'mag': 1.46...   \n",
       "\n",
       "                                                 953  \\\n",
       "0  {'type': 'Feature', 'properties': {'mag': 1.1,...   \n",
       "\n",
       "                                                 954  \\\n",
       "0  {'type': 'Feature', 'properties': {'mag': 1.35...   \n",
       "\n",
       "                                                 955  \\\n",
       "0  {'type': 'Feature', 'properties': {'mag': 1.5,...   \n",
       "\n",
       "                                                 956  \\\n",
       "0  {'type': 'Feature', 'properties': {'mag': 1, '...   \n",
       "\n",
       "                                                 957  \\\n",
       "0  {'type': 'Feature', 'properties': {'mag': 2.31...   \n",
       "\n",
       "                                                 958  \\\n",
       "0  {'type': 'Feature', 'properties': {'mag': 1.70...   \n",
       "\n",
       "                                                 959  \\\n",
       "0  {'type': 'Feature', 'properties': {'mag': 1.1,...   \n",
       "\n",
       "                                                 960  \n",
       "0  {'type': 'Feature', 'properties': {'mag': 1.37...  \n",
       "\n",
       "[1 rows x 961 columns]"
      ]
     },
     "execution_count": 10,
     "metadata": {},
     "output_type": "execute_result"
    }
   ],
   "source": [
    "df_eq = pd.read_json(\"USGS_EQ.json\",\n",
    "                        lines=True,\n",
    "                        orient='columns')\n",
    "\n",
    "df_eq.head()"
   ]
  },
  {
   "cell_type": "markdown",
   "metadata": {},
   "source": [
    "Opening the nested json file"
   ]
  },
  {
   "cell_type": "code",
   "execution_count": 11,
   "metadata": {},
   "outputs": [],
   "source": [
    "df_5 = pd.DataFrame()\n",
    "cnt = 0\n",
    "\n",
    "for i in df_eq:\n",
    "    df_1 = df_eq[i]\n",
    "    \n",
    "    df_2 = pd.DataFrame([j for j in df_1])\n",
    "    \n",
    "    df_3 = df_2[\"properties\"]\n",
    "    \n",
    "    df_4 = pd.DataFrame([j for j in df_3])\n",
    "    \n",
    "    df_5= df_5.append(df_4)\n",
    "\n",
    "df_eq_parsed_properties = df_5"
   ]
  },
  {
   "cell_type": "code",
   "execution_count": 12,
   "metadata": {},
   "outputs": [
    {
     "data": {
      "text/html": [
       "<div>\n",
       "<style scoped>\n",
       "    .dataframe tbody tr th:only-of-type {\n",
       "        vertical-align: middle;\n",
       "    }\n",
       "\n",
       "    .dataframe tbody tr th {\n",
       "        vertical-align: top;\n",
       "    }\n",
       "\n",
       "    .dataframe thead th {\n",
       "        text-align: right;\n",
       "    }\n",
       "</style>\n",
       "<table border=\"1\" class=\"dataframe\">\n",
       "  <thead>\n",
       "    <tr style=\"text-align: right;\">\n",
       "      <th></th>\n",
       "      <th>mag</th>\n",
       "      <th>place</th>\n",
       "      <th>time</th>\n",
       "      <th>updated</th>\n",
       "      <th>tz</th>\n",
       "      <th>url</th>\n",
       "      <th>detail</th>\n",
       "      <th>felt</th>\n",
       "      <th>cdi</th>\n",
       "      <th>mmi</th>\n",
       "      <th>...</th>\n",
       "      <th>ids</th>\n",
       "      <th>sources</th>\n",
       "      <th>types</th>\n",
       "      <th>nst</th>\n",
       "      <th>dmin</th>\n",
       "      <th>rms</th>\n",
       "      <th>gap</th>\n",
       "      <th>magType</th>\n",
       "      <th>type</th>\n",
       "      <th>title</th>\n",
       "    </tr>\n",
       "  </thead>\n",
       "  <tbody>\n",
       "    <tr>\n",
       "      <th>0</th>\n",
       "      <td>1.07</td>\n",
       "      <td>24km E of Coso Junction, CA</td>\n",
       "      <td>1595979450470</td>\n",
       "      <td>1596031631576</td>\n",
       "      <td>None</td>\n",
       "      <td>https://earthquake.usgs.gov/earthquakes/eventp...</td>\n",
       "      <td>https://earthquake.usgs.gov/fdsnws/event/1/que...</td>\n",
       "      <td>None</td>\n",
       "      <td>None</td>\n",
       "      <td>None</td>\n",
       "      <td>...</td>\n",
       "      <td>,ci38613802,</td>\n",
       "      <td>,ci,</td>\n",
       "      <td>,nearby-cities,origin,phase-data,scitech-link,</td>\n",
       "      <td>10</td>\n",
       "      <td>0.08406</td>\n",
       "      <td>0.1200</td>\n",
       "      <td>78.00</td>\n",
       "      <td>ml</td>\n",
       "      <td>earthquake</td>\n",
       "      <td>M 1.1 - 24km E of Coso Junction, CA</td>\n",
       "    </tr>\n",
       "    <tr>\n",
       "      <th>0</th>\n",
       "      <td>1.30</td>\n",
       "      <td>38 km NNE of Dyer, Nevada</td>\n",
       "      <td>1595979356340</td>\n",
       "      <td>1595980055067</td>\n",
       "      <td>None</td>\n",
       "      <td>https://earthquake.usgs.gov/earthquakes/eventp...</td>\n",
       "      <td>https://earthquake.usgs.gov/fdsnws/event/1/que...</td>\n",
       "      <td>None</td>\n",
       "      <td>None</td>\n",
       "      <td>None</td>\n",
       "      <td>...</td>\n",
       "      <td>,nn00764076,</td>\n",
       "      <td>,nn,</td>\n",
       "      <td>,origin,phase-data,</td>\n",
       "      <td>16</td>\n",
       "      <td>0.07500</td>\n",
       "      <td>0.1400</td>\n",
       "      <td>120.30</td>\n",
       "      <td>ml</td>\n",
       "      <td>earthquake</td>\n",
       "      <td>M 1.3 - 38 km NNE of Dyer, Nevada</td>\n",
       "    </tr>\n",
       "    <tr>\n",
       "      <th>0</th>\n",
       "      <td>1.74</td>\n",
       "      <td>4km NW of Boron, CA</td>\n",
       "      <td>1595978829130</td>\n",
       "      <td>1595979076346</td>\n",
       "      <td>None</td>\n",
       "      <td>https://earthquake.usgs.gov/earthquakes/eventp...</td>\n",
       "      <td>https://earthquake.usgs.gov/fdsnws/event/1/que...</td>\n",
       "      <td>None</td>\n",
       "      <td>None</td>\n",
       "      <td>None</td>\n",
       "      <td>...</td>\n",
       "      <td>,ci38613786,</td>\n",
       "      <td>,ci,</td>\n",
       "      <td>,nearby-cities,origin,phase-data,scitech-link,</td>\n",
       "      <td>24</td>\n",
       "      <td>0.09381</td>\n",
       "      <td>0.2100</td>\n",
       "      <td>58.00</td>\n",
       "      <td>ml</td>\n",
       "      <td>quarry blast</td>\n",
       "      <td>M 1.7 Quarry Blast - 4km NW of Boron, CA</td>\n",
       "    </tr>\n",
       "    <tr>\n",
       "      <th>0</th>\n",
       "      <td>1.37</td>\n",
       "      <td>17km SW of Toms Place, CA</td>\n",
       "      <td>1595978791730</td>\n",
       "      <td>1595994181777</td>\n",
       "      <td>None</td>\n",
       "      <td>https://earthquake.usgs.gov/earthquakes/eventp...</td>\n",
       "      <td>https://earthquake.usgs.gov/fdsnws/event/1/que...</td>\n",
       "      <td>None</td>\n",
       "      <td>None</td>\n",
       "      <td>None</td>\n",
       "      <td>...</td>\n",
       "      <td>,nc73435036,</td>\n",
       "      <td>,nc,</td>\n",
       "      <td>,nearby-cities,origin,phase-data,scitech-link,</td>\n",
       "      <td>19</td>\n",
       "      <td>0.11440</td>\n",
       "      <td>0.0700</td>\n",
       "      <td>130.00</td>\n",
       "      <td>md</td>\n",
       "      <td>earthquake</td>\n",
       "      <td>M 1.4 - 17km SW of Toms Place, CA</td>\n",
       "    </tr>\n",
       "    <tr>\n",
       "      <th>0</th>\n",
       "      <td>1.80</td>\n",
       "      <td>36 km SE of Mina, Nevada</td>\n",
       "      <td>1595978442241</td>\n",
       "      <td>1595989305927</td>\n",
       "      <td>None</td>\n",
       "      <td>https://earthquake.usgs.gov/earthquakes/eventp...</td>\n",
       "      <td>https://earthquake.usgs.gov/fdsnws/event/1/que...</td>\n",
       "      <td>None</td>\n",
       "      <td>None</td>\n",
       "      <td>None</td>\n",
       "      <td>...</td>\n",
       "      <td>,nn00764069,</td>\n",
       "      <td>,nn,</td>\n",
       "      <td>,origin,phase-data,</td>\n",
       "      <td>21</td>\n",
       "      <td>0.06000</td>\n",
       "      <td>0.1286</td>\n",
       "      <td>82.22</td>\n",
       "      <td>ml</td>\n",
       "      <td>earthquake</td>\n",
       "      <td>M 1.8 - 36 km SE of Mina, Nevada</td>\n",
       "    </tr>\n",
       "  </tbody>\n",
       "</table>\n",
       "<p>5 rows × 26 columns</p>\n",
       "</div>"
      ],
      "text/plain": [
       "    mag                        place           time        updated    tz  \\\n",
       "0  1.07  24km E of Coso Junction, CA  1595979450470  1596031631576  None   \n",
       "0  1.30    38 km NNE of Dyer, Nevada  1595979356340  1595980055067  None   \n",
       "0  1.74          4km NW of Boron, CA  1595978829130  1595979076346  None   \n",
       "0  1.37    17km SW of Toms Place, CA  1595978791730  1595994181777  None   \n",
       "0  1.80     36 km SE of Mina, Nevada  1595978442241  1595989305927  None   \n",
       "\n",
       "                                                 url  \\\n",
       "0  https://earthquake.usgs.gov/earthquakes/eventp...   \n",
       "0  https://earthquake.usgs.gov/earthquakes/eventp...   \n",
       "0  https://earthquake.usgs.gov/earthquakes/eventp...   \n",
       "0  https://earthquake.usgs.gov/earthquakes/eventp...   \n",
       "0  https://earthquake.usgs.gov/earthquakes/eventp...   \n",
       "\n",
       "                                              detail  felt   cdi   mmi  ...  \\\n",
       "0  https://earthquake.usgs.gov/fdsnws/event/1/que...  None  None  None  ...   \n",
       "0  https://earthquake.usgs.gov/fdsnws/event/1/que...  None  None  None  ...   \n",
       "0  https://earthquake.usgs.gov/fdsnws/event/1/que...  None  None  None  ...   \n",
       "0  https://earthquake.usgs.gov/fdsnws/event/1/que...  None  None  None  ...   \n",
       "0  https://earthquake.usgs.gov/fdsnws/event/1/que...  None  None  None  ...   \n",
       "\n",
       "            ids sources                                           types  nst  \\\n",
       "0  ,ci38613802,    ,ci,  ,nearby-cities,origin,phase-data,scitech-link,   10   \n",
       "0  ,nn00764076,    ,nn,                             ,origin,phase-data,   16   \n",
       "0  ,ci38613786,    ,ci,  ,nearby-cities,origin,phase-data,scitech-link,   24   \n",
       "0  ,nc73435036,    ,nc,  ,nearby-cities,origin,phase-data,scitech-link,   19   \n",
       "0  ,nn00764069,    ,nn,                             ,origin,phase-data,   21   \n",
       "\n",
       "      dmin     rms     gap magType          type  \\\n",
       "0  0.08406  0.1200   78.00      ml    earthquake   \n",
       "0  0.07500  0.1400  120.30      ml    earthquake   \n",
       "0  0.09381  0.2100   58.00      ml  quarry blast   \n",
       "0  0.11440  0.0700  130.00      md    earthquake   \n",
       "0  0.06000  0.1286   82.22      ml    earthquake   \n",
       "\n",
       "                                      title  \n",
       "0       M 1.1 - 24km E of Coso Junction, CA  \n",
       "0         M 1.3 - 38 km NNE of Dyer, Nevada  \n",
       "0  M 1.7 Quarry Blast - 4km NW of Boron, CA  \n",
       "0         M 1.4 - 17km SW of Toms Place, CA  \n",
       "0          M 1.8 - 36 km SE of Mina, Nevada  \n",
       "\n",
       "[5 rows x 26 columns]"
      ]
     },
     "execution_count": 12,
     "metadata": {},
     "output_type": "execute_result"
    }
   ],
   "source": [
    "df_eq_parsed_properties.head()"
   ]
  },
  {
   "cell_type": "code",
   "execution_count": 13,
   "metadata": {},
   "outputs": [
    {
     "data": {
      "image/png": "[encoded data removed]",
      "text/plain": [
       "<Figure size 576x360 with 1 Axes>"
      ]
     },
     "metadata": {
      "image/png": {
       "height": 336,
       "width": 499
      },
      "needs_background": "light"
     },
     "output_type": "display_data"
    }
   ],
   "source": [
    "%config InlineBackend.figure_format = 'retina'\n",
    "\n",
    "plt.figure(figsize = [8, 5])\n",
    "\n",
    "plt.scatter(df_eq_parsed_properties.sig,df_eq_parsed_properties.mag);\n",
    "\n",
    "# Format title and axis labels\n",
    "plt.title(\"EQ parameters\", fontsize = 15);\n",
    "\n",
    "plt.xlabel(\"Sigma\", fontsize = 12);\n",
    "plt.ylabel(\"Magnitude\", fontsize = 12);"
   ]
  },
  {
   "cell_type": "markdown",
   "metadata": {},
   "source": [
    "# Step 2: importing the coordinates"
   ]
  },
  {
   "cell_type": "code",
   "execution_count": 14,
   "metadata": {},
   "outputs": [
    {
     "data": {
      "text/plain": [
       "0    {'type': 'Feature', 'properties': {'mag': 1.07...\n",
       "Name: 0, dtype: object"
      ]
     },
     "execution_count": 14,
     "metadata": {},
     "output_type": "execute_result"
    }
   ],
   "source": [
    "df_eq[0]"
   ]
  },
  {
   "cell_type": "code",
   "execution_count": 15,
   "metadata": {},
   "outputs": [],
   "source": [
    "df_5 = pd.DataFrame()\n",
    "cnt = 0\n",
    "\n",
    "for i in df_eq:\n",
    "    df_1 = df_eq[i]\n",
    "    \n",
    "    df_2 = pd.DataFrame([j for j in df_1])\n",
    "    \n",
    "    df_3 = df_2[\"geometry\"]\n",
    "    \n",
    "    df_4 = pd.DataFrame([j for j in df_3])\n",
    "    \n",
    "    df_5= df_5.append(df_4)\n",
    "\n",
    "df_eq_parsed_geometry = df_5"
   ]
  },
  {
   "cell_type": "code",
   "execution_count": 16,
   "metadata": {},
   "outputs": [
    {
     "data": {
      "text/html": [
       "<div>\n",
       "<style scoped>\n",
       "    .dataframe tbody tr th:only-of-type {\n",
       "        vertical-align: middle;\n",
       "    }\n",
       "\n",
       "    .dataframe tbody tr th {\n",
       "        vertical-align: top;\n",
       "    }\n",
       "\n",
       "    .dataframe thead th {\n",
       "        text-align: right;\n",
       "    }\n",
       "</style>\n",
       "<table border=\"1\" class=\"dataframe\">\n",
       "  <thead>\n",
       "    <tr style=\"text-align: right;\">\n",
       "      <th></th>\n",
       "      <th>type</th>\n",
       "      <th>coordinates</th>\n",
       "    </tr>\n",
       "  </thead>\n",
       "  <tbody>\n",
       "    <tr>\n",
       "      <th>0</th>\n",
       "      <td>Point</td>\n",
       "      <td>[-117.6826667, 36.0761667, -0.29]</td>\n",
       "    </tr>\n",
       "    <tr>\n",
       "      <th>0</th>\n",
       "      <td>Point</td>\n",
       "      <td>[-117.9735, 38.002, 1.5]</td>\n",
       "    </tr>\n",
       "    <tr>\n",
       "      <th>0</th>\n",
       "      <td>Point</td>\n",
       "      <td>[-117.6818333, 35.0276667, 0.26]</td>\n",
       "    </tr>\n",
       "    <tr>\n",
       "      <th>0</th>\n",
       "      <td>Point</td>\n",
       "      <td>[-118.835, 37.4755, 2.04]</td>\n",
       "    </tr>\n",
       "    <tr>\n",
       "      <th>0</th>\n",
       "      <td>Point</td>\n",
       "      <td>[-117.7891, 38.1775, 5.3]</td>\n",
       "    </tr>\n",
       "  </tbody>\n",
       "</table>\n",
       "</div>"
      ],
      "text/plain": [
       "    type                        coordinates\n",
       "0  Point  [-117.6826667, 36.0761667, -0.29]\n",
       "0  Point           [-117.9735, 38.002, 1.5]\n",
       "0  Point   [-117.6818333, 35.0276667, 0.26]\n",
       "0  Point          [-118.835, 37.4755, 2.04]\n",
       "0  Point          [-117.7891, 38.1775, 5.3]"
      ]
     },
     "execution_count": 16,
     "metadata": {},
     "output_type": "execute_result"
    }
   ],
   "source": [
    "#df_eq_parsed = df_eq_parsed.drop(columns=[\"url\", \"detail\"])\n",
    "\n",
    "df_eq_parsed_geometry.head()"
   ]
  },
  {
   "cell_type": "code",
   "execution_count": 17,
   "metadata": {},
   "outputs": [
    {
     "data": {
      "text/html": [
       "<div>\n",
       "<style scoped>\n",
       "    .dataframe tbody tr th:only-of-type {\n",
       "        vertical-align: middle;\n",
       "    }\n",
       "\n",
       "    .dataframe tbody tr th {\n",
       "        vertical-align: top;\n",
       "    }\n",
       "\n",
       "    .dataframe thead th {\n",
       "        text-align: right;\n",
       "    }\n",
       "</style>\n",
       "<table border=\"1\" class=\"dataframe\">\n",
       "  <thead>\n",
       "    <tr style=\"text-align: right;\">\n",
       "      <th></th>\n",
       "      <th>mag</th>\n",
       "      <th>place</th>\n",
       "      <th>time</th>\n",
       "      <th>updated</th>\n",
       "      <th>tz</th>\n",
       "      <th>url</th>\n",
       "      <th>detail</th>\n",
       "      <th>felt</th>\n",
       "      <th>cdi</th>\n",
       "      <th>mmi</th>\n",
       "      <th>...</th>\n",
       "      <th>types</th>\n",
       "      <th>nst</th>\n",
       "      <th>dmin</th>\n",
       "      <th>rms</th>\n",
       "      <th>gap</th>\n",
       "      <th>magType</th>\n",
       "      <th>type</th>\n",
       "      <th>title</th>\n",
       "      <th>type</th>\n",
       "      <th>coordinates</th>\n",
       "    </tr>\n",
       "  </thead>\n",
       "  <tbody>\n",
       "    <tr>\n",
       "      <th>0</th>\n",
       "      <td>1.07</td>\n",
       "      <td>24km E of Coso Junction, CA</td>\n",
       "      <td>1595979450470</td>\n",
       "      <td>1596031631576</td>\n",
       "      <td>None</td>\n",
       "      <td>https://earthquake.usgs.gov/earthquakes/eventp...</td>\n",
       "      <td>https://earthquake.usgs.gov/fdsnws/event/1/que...</td>\n",
       "      <td>None</td>\n",
       "      <td>None</td>\n",
       "      <td>None</td>\n",
       "      <td>...</td>\n",
       "      <td>,nearby-cities,origin,phase-data,scitech-link,</td>\n",
       "      <td>10</td>\n",
       "      <td>0.08406</td>\n",
       "      <td>0.12</td>\n",
       "      <td>78.0</td>\n",
       "      <td>ml</td>\n",
       "      <td>earthquake</td>\n",
       "      <td>M 1.1 - 24km E of Coso Junction, CA</td>\n",
       "      <td>Point</td>\n",
       "      <td>[-117.6826667, 36.0761667, -0.29]</td>\n",
       "    </tr>\n",
       "    <tr>\n",
       "      <th>1</th>\n",
       "      <td>1.30</td>\n",
       "      <td>38 km NNE of Dyer, Nevada</td>\n",
       "      <td>1595979356340</td>\n",
       "      <td>1595980055067</td>\n",
       "      <td>None</td>\n",
       "      <td>https://earthquake.usgs.gov/earthquakes/eventp...</td>\n",
       "      <td>https://earthquake.usgs.gov/fdsnws/event/1/que...</td>\n",
       "      <td>None</td>\n",
       "      <td>None</td>\n",
       "      <td>None</td>\n",
       "      <td>...</td>\n",
       "      <td>,origin,phase-data,</td>\n",
       "      <td>16</td>\n",
       "      <td>0.07500</td>\n",
       "      <td>0.14</td>\n",
       "      <td>120.3</td>\n",
       "      <td>ml</td>\n",
       "      <td>earthquake</td>\n",
       "      <td>M 1.3 - 38 km NNE of Dyer, Nevada</td>\n",
       "      <td>Point</td>\n",
       "      <td>[-117.9735, 38.002, 1.5]</td>\n",
       "    </tr>\n",
       "  </tbody>\n",
       "</table>\n",
       "<p>2 rows × 28 columns</p>\n",
       "</div>"
      ],
      "text/plain": [
       "    mag                        place           time        updated    tz  \\\n",
       "0  1.07  24km E of Coso Junction, CA  1595979450470  1596031631576  None   \n",
       "1  1.30    38 km NNE of Dyer, Nevada  1595979356340  1595980055067  None   \n",
       "\n",
       "                                                 url  \\\n",
       "0  https://earthquake.usgs.gov/earthquakes/eventp...   \n",
       "1  https://earthquake.usgs.gov/earthquakes/eventp...   \n",
       "\n",
       "                                              detail  felt   cdi   mmi  ...  \\\n",
       "0  https://earthquake.usgs.gov/fdsnws/event/1/que...  None  None  None  ...   \n",
       "1  https://earthquake.usgs.gov/fdsnws/event/1/que...  None  None  None  ...   \n",
       "\n",
       "                                            types nst     dmin   rms    gap  \\\n",
       "0  ,nearby-cities,origin,phase-data,scitech-link,  10  0.08406  0.12   78.0   \n",
       "1                             ,origin,phase-data,  16  0.07500  0.14  120.3   \n",
       "\n",
       "  magType        type                                title   type  \\\n",
       "0      ml  earthquake  M 1.1 - 24km E of Coso Junction, CA  Point   \n",
       "1      ml  earthquake    M 1.3 - 38 km NNE of Dyer, Nevada  Point   \n",
       "\n",
       "                         coordinates  \n",
       "0  [-117.6826667, 36.0761667, -0.29]  \n",
       "1           [-117.9735, 38.002, 1.5]  \n",
       "\n",
       "[2 rows x 28 columns]"
      ]
     },
     "execution_count": 17,
     "metadata": {},
     "output_type": "execute_result"
    }
   ],
   "source": [
    "df_EQ_processed = (pd.concat([df_eq_parsed_properties, df_eq_parsed_geometry], axis=1))\n",
    "df_EQ_processed.reset_index(drop=True, inplace=True)\n",
    "df_EQ_processed.head(2)"
   ]
  },
  {
   "cell_type": "code",
   "execution_count": 18,
   "metadata": {},
   "outputs": [
    {
     "name": "stdout",
     "output_type": "stream",
     "text": [
      "<class 'pandas.core.frame.DataFrame'>\n",
      "RangeIndex: 961 entries, 0 to 960\n",
      "Data columns (total 28 columns):\n",
      " #   Column       Non-Null Count  Dtype  \n",
      "---  ------       --------------  -----  \n",
      " 0   mag          961 non-null    float64\n",
      " 1   place        961 non-null    object \n",
      " 2   time         961 non-null    int64  \n",
      " 3   updated      961 non-null    int64  \n",
      " 4   tz           0 non-null      object \n",
      " 5   url          961 non-null    object \n",
      " 6   detail       961 non-null    object \n",
      " 7   felt         32 non-null     object \n",
      " 8   cdi          32 non-null     object \n",
      " 9   mmi          9 non-null      object \n",
      " 10  alert        2 non-null      object \n",
      " 11  status       961 non-null    object \n",
      " 12  tsunami      961 non-null    int64  \n",
      " 13  sig          961 non-null    int64  \n",
      " 14  net          961 non-null    object \n",
      " 15  code         961 non-null    object \n",
      " 16  ids          961 non-null    object \n",
      " 17  sources      961 non-null    object \n",
      " 18  types        961 non-null    object \n",
      " 19  nst          961 non-null    int64  \n",
      " 20  dmin         961 non-null    float64\n",
      " 21  rms          961 non-null    float64\n",
      " 22  gap          961 non-null    float64\n",
      " 23  magType      961 non-null    object \n",
      " 24  type         961 non-null    object \n",
      " 25  title        961 non-null    object \n",
      " 26  type         961 non-null    object \n",
      " 27  coordinates  961 non-null    object \n",
      "dtypes: float64(4), int64(5), object(19)\n",
      "memory usage: 210.3+ KB\n"
     ]
    }
   ],
   "source": [
    "df_EQ_processed.info()"
   ]
  },
  {
   "cell_type": "code",
   "execution_count": 19,
   "metadata": {},
   "outputs": [
    {
     "data": {
      "text/plain": [
       "'https://earthquake.usgs.gov/earthquakes/eventpage/ci38613802'"
      ]
     },
     "execution_count": 19,
     "metadata": {},
     "output_type": "execute_result"
    }
   ],
   "source": [
    "df_EQ_processed[\"url\"][0]"
   ]
  },
  {
   "cell_type": "code",
   "execution_count": 20,
   "metadata": {},
   "outputs": [
    {
     "data": {
      "text/plain": [
       "-117.6826667"
      ]
     },
     "execution_count": 20,
     "metadata": {},
     "output_type": "execute_result"
    }
   ],
   "source": [
    "df_EQ_processed[\"coordinates\"][0][0]"
   ]
  },
  {
   "cell_type": "code",
   "execution_count": 21,
   "metadata": {},
   "outputs": [
    {
     "data": {
      "text/plain": [
       "961"
      ]
     },
     "execution_count": 21,
     "metadata": {},
     "output_type": "execute_result"
    }
   ],
   "source": [
    "len(df_EQ_processed)"
   ]
  },
  {
   "cell_type": "code",
   "execution_count": 22,
   "metadata": {},
   "outputs": [],
   "source": [
    "long = [] \n",
    "lat =[] \n",
    "dep = []\n",
    "\n",
    "for i in range(len(df_EQ_processed)):\n",
    "    long.append(df_EQ_processed[\"coordinates\"][i][0])\n",
    "    lat.append(df_EQ_processed[\"coordinates\"][i][1])\n",
    "    dep.append(df_EQ_processed[\"coordinates\"][i][2])"
   ]
  },
  {
   "cell_type": "code",
   "execution_count": 23,
   "metadata": {},
   "outputs": [],
   "source": [
    "df_EQ_processed[\"longitude\"] = long\n",
    "df_EQ_processed[\"latitude\"] = lat\n",
    "df_EQ_processed[\"depth\"] = dep\n",
    "\n"
   ]
  },
  {
   "cell_type": "code",
   "execution_count": 24,
   "metadata": {},
   "outputs": [
    {
     "data": {
      "text/html": [
       "<div>\n",
       "<style scoped>\n",
       "    .dataframe tbody tr th:only-of-type {\n",
       "        vertical-align: middle;\n",
       "    }\n",
       "\n",
       "    .dataframe tbody tr th {\n",
       "        vertical-align: top;\n",
       "    }\n",
       "\n",
       "    .dataframe thead th {\n",
       "        text-align: right;\n",
       "    }\n",
       "</style>\n",
       "<table border=\"1\" class=\"dataframe\">\n",
       "  <thead>\n",
       "    <tr style=\"text-align: right;\">\n",
       "      <th></th>\n",
       "      <th>mag</th>\n",
       "      <th>place</th>\n",
       "      <th>time</th>\n",
       "      <th>updated</th>\n",
       "      <th>tz</th>\n",
       "      <th>url</th>\n",
       "      <th>detail</th>\n",
       "      <th>felt</th>\n",
       "      <th>cdi</th>\n",
       "      <th>mmi</th>\n",
       "      <th>...</th>\n",
       "      <th>rms</th>\n",
       "      <th>gap</th>\n",
       "      <th>magType</th>\n",
       "      <th>type</th>\n",
       "      <th>title</th>\n",
       "      <th>type</th>\n",
       "      <th>coordinates</th>\n",
       "      <th>longitude</th>\n",
       "      <th>latitude</th>\n",
       "      <th>depth</th>\n",
       "    </tr>\n",
       "  </thead>\n",
       "  <tbody>\n",
       "    <tr>\n",
       "      <th>0</th>\n",
       "      <td>1.07</td>\n",
       "      <td>24km E of Coso Junction, CA</td>\n",
       "      <td>1595979450470</td>\n",
       "      <td>1596031631576</td>\n",
       "      <td>None</td>\n",
       "      <td>https://earthquake.usgs.gov/earthquakes/eventp...</td>\n",
       "      <td>https://earthquake.usgs.gov/fdsnws/event/1/que...</td>\n",
       "      <td>None</td>\n",
       "      <td>None</td>\n",
       "      <td>None</td>\n",
       "      <td>...</td>\n",
       "      <td>0.1200</td>\n",
       "      <td>78.00</td>\n",
       "      <td>ml</td>\n",
       "      <td>earthquake</td>\n",
       "      <td>M 1.1 - 24km E of Coso Junction, CA</td>\n",
       "      <td>Point</td>\n",
       "      <td>[-117.6826667, 36.0761667, -0.29]</td>\n",
       "      <td>-117.682667</td>\n",
       "      <td>36.076167</td>\n",
       "      <td>-0.29</td>\n",
       "    </tr>\n",
       "    <tr>\n",
       "      <th>1</th>\n",
       "      <td>1.30</td>\n",
       "      <td>38 km NNE of Dyer, Nevada</td>\n",
       "      <td>1595979356340</td>\n",
       "      <td>1595980055067</td>\n",
       "      <td>None</td>\n",
       "      <td>https://earthquake.usgs.gov/earthquakes/eventp...</td>\n",
       "      <td>https://earthquake.usgs.gov/fdsnws/event/1/que...</td>\n",
       "      <td>None</td>\n",
       "      <td>None</td>\n",
       "      <td>None</td>\n",
       "      <td>...</td>\n",
       "      <td>0.1400</td>\n",
       "      <td>120.30</td>\n",
       "      <td>ml</td>\n",
       "      <td>earthquake</td>\n",
       "      <td>M 1.3 - 38 km NNE of Dyer, Nevada</td>\n",
       "      <td>Point</td>\n",
       "      <td>[-117.9735, 38.002, 1.5]</td>\n",
       "      <td>-117.973500</td>\n",
       "      <td>38.002000</td>\n",
       "      <td>1.50</td>\n",
       "    </tr>\n",
       "    <tr>\n",
       "      <th>2</th>\n",
       "      <td>1.74</td>\n",
       "      <td>4km NW of Boron, CA</td>\n",
       "      <td>1595978829130</td>\n",
       "      <td>1595979076346</td>\n",
       "      <td>None</td>\n",
       "      <td>https://earthquake.usgs.gov/earthquakes/eventp...</td>\n",
       "      <td>https://earthquake.usgs.gov/fdsnws/event/1/que...</td>\n",
       "      <td>None</td>\n",
       "      <td>None</td>\n",
       "      <td>None</td>\n",
       "      <td>...</td>\n",
       "      <td>0.2100</td>\n",
       "      <td>58.00</td>\n",
       "      <td>ml</td>\n",
       "      <td>quarry blast</td>\n",
       "      <td>M 1.7 Quarry Blast - 4km NW of Boron, CA</td>\n",
       "      <td>Point</td>\n",
       "      <td>[-117.6818333, 35.0276667, 0.26]</td>\n",
       "      <td>-117.681833</td>\n",
       "      <td>35.027667</td>\n",
       "      <td>0.26</td>\n",
       "    </tr>\n",
       "    <tr>\n",
       "      <th>3</th>\n",
       "      <td>1.37</td>\n",
       "      <td>17km SW of Toms Place, CA</td>\n",
       "      <td>1595978791730</td>\n",
       "      <td>1595994181777</td>\n",
       "      <td>None</td>\n",
       "      <td>https://earthquake.usgs.gov/earthquakes/eventp...</td>\n",
       "      <td>https://earthquake.usgs.gov/fdsnws/event/1/que...</td>\n",
       "      <td>None</td>\n",
       "      <td>None</td>\n",
       "      <td>None</td>\n",
       "      <td>...</td>\n",
       "      <td>0.0700</td>\n",
       "      <td>130.00</td>\n",
       "      <td>md</td>\n",
       "      <td>earthquake</td>\n",
       "      <td>M 1.4 - 17km SW of Toms Place, CA</td>\n",
       "      <td>Point</td>\n",
       "      <td>[-118.835, 37.4755, 2.04]</td>\n",
       "      <td>-118.835000</td>\n",
       "      <td>37.475500</td>\n",
       "      <td>2.04</td>\n",
       "    </tr>\n",
       "    <tr>\n",
       "      <th>4</th>\n",
       "      <td>1.80</td>\n",
       "      <td>36 km SE of Mina, Nevada</td>\n",
       "      <td>1595978442241</td>\n",
       "      <td>1595989305927</td>\n",
       "      <td>None</td>\n",
       "      <td>https://earthquake.usgs.gov/earthquakes/eventp...</td>\n",
       "      <td>https://earthquake.usgs.gov/fdsnws/event/1/que...</td>\n",
       "      <td>None</td>\n",
       "      <td>None</td>\n",
       "      <td>None</td>\n",
       "      <td>...</td>\n",
       "      <td>0.1286</td>\n",
       "      <td>82.22</td>\n",
       "      <td>ml</td>\n",
       "      <td>earthquake</td>\n",
       "      <td>M 1.8 - 36 km SE of Mina, Nevada</td>\n",
       "      <td>Point</td>\n",
       "      <td>[-117.7891, 38.1775, 5.3]</td>\n",
       "      <td>-117.789100</td>\n",
       "      <td>38.177500</td>\n",
       "      <td>5.30</td>\n",
       "    </tr>\n",
       "  </tbody>\n",
       "</table>\n",
       "<p>5 rows × 31 columns</p>\n",
       "</div>"
      ],
      "text/plain": [
       "    mag                        place           time        updated    tz  \\\n",
       "0  1.07  24km E of Coso Junction, CA  1595979450470  1596031631576  None   \n",
       "1  1.30    38 km NNE of Dyer, Nevada  1595979356340  1595980055067  None   \n",
       "2  1.74          4km NW of Boron, CA  1595978829130  1595979076346  None   \n",
       "3  1.37    17km SW of Toms Place, CA  1595978791730  1595994181777  None   \n",
       "4  1.80     36 km SE of Mina, Nevada  1595978442241  1595989305927  None   \n",
       "\n",
       "                                                 url  \\\n",
       "0  https://earthquake.usgs.gov/earthquakes/eventp...   \n",
       "1  https://earthquake.usgs.gov/earthquakes/eventp...   \n",
       "2  https://earthquake.usgs.gov/earthquakes/eventp...   \n",
       "3  https://earthquake.usgs.gov/earthquakes/eventp...   \n",
       "4  https://earthquake.usgs.gov/earthquakes/eventp...   \n",
       "\n",
       "                                              detail  felt   cdi   mmi  ...  \\\n",
       "0  https://earthquake.usgs.gov/fdsnws/event/1/que...  None  None  None  ...   \n",
       "1  https://earthquake.usgs.gov/fdsnws/event/1/que...  None  None  None  ...   \n",
       "2  https://earthquake.usgs.gov/fdsnws/event/1/que...  None  None  None  ...   \n",
       "3  https://earthquake.usgs.gov/fdsnws/event/1/que...  None  None  None  ...   \n",
       "4  https://earthquake.usgs.gov/fdsnws/event/1/que...  None  None  None  ...   \n",
       "\n",
       "      rms     gap  magType          type  \\\n",
       "0  0.1200   78.00       ml    earthquake   \n",
       "1  0.1400  120.30       ml    earthquake   \n",
       "2  0.2100   58.00       ml  quarry blast   \n",
       "3  0.0700  130.00       md    earthquake   \n",
       "4  0.1286   82.22       ml    earthquake   \n",
       "\n",
       "                                      title   type  \\\n",
       "0       M 1.1 - 24km E of Coso Junction, CA  Point   \n",
       "1         M 1.3 - 38 km NNE of Dyer, Nevada  Point   \n",
       "2  M 1.7 Quarry Blast - 4km NW of Boron, CA  Point   \n",
       "3         M 1.4 - 17km SW of Toms Place, CA  Point   \n",
       "4          M 1.8 - 36 km SE of Mina, Nevada  Point   \n",
       "\n",
       "                         coordinates   longitude   latitude  depth  \n",
       "0  [-117.6826667, 36.0761667, -0.29] -117.682667  36.076167  -0.29  \n",
       "1           [-117.9735, 38.002, 1.5] -117.973500  38.002000   1.50  \n",
       "2   [-117.6818333, 35.0276667, 0.26] -117.681833  35.027667   0.26  \n",
       "3          [-118.835, 37.4755, 2.04] -118.835000  37.475500   2.04  \n",
       "4          [-117.7891, 38.1775, 5.3] -117.789100  38.177500   5.30  \n",
       "\n",
       "[5 rows x 31 columns]"
      ]
     },
     "execution_count": 24,
     "metadata": {},
     "output_type": "execute_result"
    }
   ],
   "source": [
    "df_EQ_processed.head()"
   ]
  },
  {
   "cell_type": "code",
   "execution_count": 25,
   "metadata": {},
   "outputs": [
    {
     "data": {
      "text/plain": [
       "(961, 31)"
      ]
     },
     "execution_count": 25,
     "metadata": {},
     "output_type": "execute_result"
    }
   ],
   "source": [
    "df_EQ_processed.shape"
   ]
  },
  {
   "cell_type": "code",
   "execution_count": 26,
   "metadata": {},
   "outputs": [
    {
     "data": {
      "image/png": "[encoded data removed]",
      "text/plain": [
       "<Figure size 576x360 with 1 Axes>"
      ]
     },
     "metadata": {
      "image/png": {
       "height": 336,
       "width": 512
      },
      "needs_background": "light"
     },
     "output_type": "display_data"
    }
   ],
   "source": [
    "plt.figure(figsize = [8, 5])\n",
    "\n",
    "plt.scatter(df_EQ_processed[\"longitude\"], df_EQ_processed[\"mag\"], color=\"black\");\n",
    "\n",
    "# Format title and axis labels\n",
    "plt.title(\"EQ long. distribution\", fontsize = 15);\n",
    "\n",
    "plt.xlabel(\"Longitude\", fontsize = 12);\n",
    "plt.ylabel(\"Magnitude\", fontsize = 12);"
   ]
  },
  {
   "cell_type": "code",
   "execution_count": 27,
   "metadata": {},
   "outputs": [
    {
     "data": {
      "image/png": "[encoded data removed]",
      "text/plain": [
       "<Figure size 576x360 with 1 Axes>"
      ]
     },
     "metadata": {
      "image/png": {
       "height": 336,
       "width": 499
      },
      "needs_background": "light"
     },
     "output_type": "display_data"
    }
   ],
   "source": [
    "plt.figure(figsize = [8, 5])\n",
    "\n",
    "plt.scatter(df_EQ_processed[\"latitude\"], df_EQ_processed[\"mag\"], color=\"black\");\n",
    "\n",
    "# Format title and axis labels\n",
    "plt.title(\"EQ lat. distribution\", fontsize = 15);\n",
    "\n",
    "plt.xlabel(\"Latitude\", fontsize = 12);\n",
    "plt.ylabel(\"Magnitude\", fontsize = 12);"
   ]
  },
  {
   "cell_type": "code",
   "execution_count": 28,
   "metadata": {},
   "outputs": [
    {
     "data": {
      "image/png": "[encoded data removed]",
      "text/plain": [
       "<Figure size 576x360 with 1 Axes>"
      ]
     },
     "metadata": {
      "image/png": {
       "height": 336,
       "width": 510
      },
      "needs_background": "light"
     },
     "output_type": "display_data"
    }
   ],
   "source": [
    "plt.figure(figsize = [8, 5])\n",
    "\n",
    "plt.scatter(df_EQ_processed[\"time\"], df_EQ_processed[\"mag\"], color=\"black\");\n",
    "\n",
    "# Format title and axis labels\n",
    "plt.title(\"EQ history\", fontsize = 15);\n",
    "\n",
    "plt.xlabel(\"Time\", fontsize = 12);\n",
    "plt.ylabel(\"Magnitude\", fontsize = 12);"
   ]
  },
  {
   "cell_type": "code",
   "execution_count": null,
   "metadata": {},
   "outputs": [],
   "source": []
  }
 ],
 "metadata": {
  "kernelspec": {
   "display_name": "Python [conda env:ses]",
   "language": "python",
   "name": "conda-env-ses-py"
  },
  "language_info": {
   "codemirror_mode": {
    "name": "ipython",
    "version": 3
   },
   "file_extension": ".py",
   "mimetype": "text/x-python",
   "name": "python",
   "nbconvert_exporter": "python",
   "pygments_lexer": "ipython3",
   "version": "3.7.7"
  }
 },
 "nbformat": 4,
 "nbformat_minor": 4
}
