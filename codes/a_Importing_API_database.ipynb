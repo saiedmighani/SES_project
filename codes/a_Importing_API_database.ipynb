{
 "cells": [
  {
   "cell_type": "markdown",
   "metadata": {},
   "source": [
    "## <span style=\"color:yellow\"> Objective: Read and import the API into DataFrame </span>"
   ]
  },
  {
   "cell_type": "markdown",
   "metadata": {},
   "source": [
    "[Go to USGS API documentation](https://earthquake.usgs.gov/fdsnws/event/1/)"
   ]
  },
  {
   "cell_type": "markdown",
   "metadata": {},
   "source": [
    "   - [Importing the required libraries](#cell_ref_0)\n",
    "   - [Reading the geojson files from USGS API](#cell_ref_1)\n",
    "   - [No null value](#cell_ref_1)\n",
    "   - [The data type seems correct, except for salesdate](#cell_ref_1)\n",
    "   - [Converted the sale_date to datetime and added a few date features](#cell_ref_2)\n",
    "   - [sq_ft and price have negative values, so they need to be fixed. I simply converted values to absolutes](#cell_ref_3)\n",
    "   - [171 rows had 0 (sq_ft, bed, bath) which probab. means land, so I replaced the zeros with mean values for those columns](#cell_ref_4)\n",
    "   - [Still latitude and longitude seem to be swapped for some rows, so swapped those](#cell_ref_5)\n",
    "    \n",
    "\n",
    "- <span style=\"color:green\"> - The data seems <em>**clean**</em> now. So, moving to modeling. </span>"
   ]
  },
  {
   "cell_type": "markdown",
   "metadata": {},
   "source": [
    "<a id='cell_ref_0'></a>"
   ]
  },
  {
   "cell_type": "code",
   "execution_count": 1,
   "metadata": {},
   "outputs": [],
   "source": [
    "import requests\n",
    "import json\n",
    "import pandas as pd\n",
    "import numpy as np\n",
    "import pandas as pd\n",
    "import matplotlib.pyplot as plt"
   ]
  },
  {
   "cell_type": "markdown",
   "metadata": {},
   "source": [
    "- Function for EQ json reading"
   ]
  },
  {
   "cell_type": "markdown",
   "metadata": {},
   "source": [
    "<a id='cell_ref_1'></a>"
   ]
  },
  {
   "cell_type": "code",
   "execution_count": 2,
   "metadata": {},
   "outputs": [],
   "source": [
    "def get_EQ_USGS(*arg):\n",
    "    \n",
    "    baseurl = 'https://earthquake.usgs.gov/fdsnws/event/1/query'\n",
    "    \n",
    "    params_diction={}\n",
    "    \n",
    "    params_diction['format'] = get_format\n",
    "    \n",
    "    params_diction['starttime'] = min_date\n",
    "    params_diction['endtime'] = max_date\n",
    "    \n",
    "    params_diction['minmagnitude'] = min_magnitude\n",
    "    params_diction['maxmagnitude'] = max_magnitude\n",
    "    \n",
    "    params_diction['minlatitude'] = min_latitude\n",
    "    params_diction['maxlatitude'] = max_latitude\n",
    "    params_diction['minlongitude'] = min_longitude\n",
    "    params_diction['maxlongitude'] = max_longitude\n",
    "    \n",
    "    params_diction['orderby'] = order_by\n",
    "    \n",
    "    params_diction['limit'] = limit_data\n",
    "    \n",
    "    resp = requests.get(baseurl, params=params_diction)\n",
    "    \n",
    "    return resp.json()\n"
   ]
  },
  {
   "cell_type": "markdown",
   "metadata": {},
   "source": [
    "- Parameterically reading the json data for Earthquakes"
   ]
  },
  {
   "cell_type": "code",
   "execution_count": 3,
   "metadata": {},
   "outputs": [],
   "source": [
    "get_format = \"geojson\" # Format for importing data\n",
    "\n",
    "min_date = \"2020-06-01\" # Minimum date for reporting the data\n",
    "max_date = \"2020-06-30\" # Maximum date for reporting the data\n",
    "\n",
    "min_magnitude = \"1\" # Minimum magnitude of the reporting data\n",
    "max_magnitude = \"10\" # Maximum magnitude of the reporting data\n",
    "\n",
    "min_latitude = \"24.6\" # Minimum latitude\n",
    "max_latitude = \"50\" # Maximum latitude\n",
    "\n",
    "min_longitude = \"-125\" # Minimum longitude\n",
    "max_longitude = \"-65\" # Maximum longitude\n",
    "\n",
    "order_by = \"time\" # Ordering the data by parameters\n",
    "limit_data = \"2000\" # Maximum number of data\n",
    "\n",
    "Params = [get_format, min_date, max_date, min_magnitude, max_magnitude, \n",
    "          min_latitude, max_latitude, min_longitude, max_longitude, order_by, \n",
    "          limit_data]\n",
    "\n",
    "USGS_EQ_data_pull = get_EQ_USGS(Params)\n",
    "\n",
    "#USGS_data_json = print(json.dumps(USGS_data, indent=2))"
   ]
  },
  {
   "cell_type": "code",
   "execution_count": 4,
   "metadata": {},
   "outputs": [
    {
     "name": "stdout",
     "output_type": "stream",
     "text": [
      "dict_keys(['type', 'metadata', 'features', 'bbox'])\n"
     ]
    }
   ],
   "source": [
    "print(USGS_EQ_data_pull.keys())"
   ]
  },
  {
   "cell_type": "code",
   "execution_count": 5,
   "metadata": {},
   "outputs": [
    {
     "name": "stdout",
     "output_type": "stream",
     "text": [
      "FeatureCollection\n"
     ]
    }
   ],
   "source": [
    "print(USGS_EQ_data_pull[\"type\"])"
   ]
  },
  {
   "cell_type": "code",
   "execution_count": 6,
   "metadata": {},
   "outputs": [
    {
     "name": "stdout",
     "output_type": "stream",
     "text": [
      "{\n",
      "  \"generated\": 1594174510000,\n",
      "  \"url\": \"https://earthquake.usgs.gov/fdsnws/event/1/query?format=geojson&starttime=2020-06-01&endtime=2020-06-30&minmagnitude=1&maxmagnitude=10&minlatitude=24.6&maxlatitude=50&minlongitude=-125&maxlongitude=-65&orderby=time&limit=2000\",\n",
      "  \"title\": \"USGS Earthquakes\",\n",
      "  \"status\": 200,\n",
      "  \"api\": \"1.10.3\",\n",
      "  \"limit\": 2000,\n",
      "  \"offset\": 1,\n",
      "  \"count\": 2000\n",
      "}\n"
     ]
    }
   ],
   "source": [
    "print(json.dumps(USGS_EQ_data_pull[\"metadata\"], indent=2))"
   ]
  },
  {
   "cell_type": "code",
   "execution_count": 7,
   "metadata": {},
   "outputs": [
    {
     "name": "stdout",
     "output_type": "stream",
     "text": [
      "{\n",
      "  \"type\": \"Feature\",\n",
      "  \"properties\": {\n",
      "    \"mag\": 1.15,\n",
      "    \"place\": \"12km SE of Olancha, CA\",\n",
      "    \"time\": 1593474788120,\n",
      "    \"updated\": 1593546285277,\n",
      "    \"tz\": -480,\n",
      "    \"url\": \"https://earthquake.usgs.gov/earthquakes/eventpage/ci39273063\",\n",
      "    \"detail\": \"https://earthquake.usgs.gov/fdsnws/event/1/query?eventid=ci39273063&format=geojson\",\n",
      "    \"felt\": null,\n",
      "    \"cdi\": null,\n",
      "    \"mmi\": null,\n",
      "    \"alert\": null,\n",
      "    \"status\": \"reviewed\",\n",
      "    \"tsunami\": 0,\n",
      "    \"sig\": 20,\n",
      "    \"net\": \"ci\",\n",
      "    \"code\": \"39273063\",\n",
      "    \"ids\": \",ci39273063,\",\n",
      "    \"sources\": \",ci,\",\n",
      "    \"types\": \",geoserve,nearby-cities,origin,phase-data,scitech-link,\",\n",
      "    \"nst\": 16,\n",
      "    \"dmin\": 0.1815,\n",
      "    \"rms\": 0.09,\n",
      "    \"gap\": 131,\n",
      "    \"magType\": \"ml\",\n",
      "    \"type\": \"earthquake\",\n",
      "    \"title\": \"M 1.2 - 12km SE of Olancha, CA\"\n",
      "  },\n",
      "  \"geometry\": {\n",
      "    \"type\": \"Point\",\n",
      "    \"coordinates\": [\n",
      "      -117.891,\n",
      "      36.2163333,\n",
      "      1.51\n",
      "    ]\n",
      "  },\n",
      "  \"id\": \"ci39273063\"\n",
      "}\n"
     ]
    }
   ],
   "source": [
    "print(json.dumps(USGS_EQ_data_pull[\"features\"][0], indent=2)) # Printing only the first element of the list"
   ]
  },
  {
   "cell_type": "code",
   "execution_count": 8,
   "metadata": {},
   "outputs": [
    {
     "name": "stdout",
     "output_type": "stream",
     "text": [
      "[-124.6545, 31.0919, -3.49, -69.2743, 49.3865, 41.86]\n"
     ]
    }
   ],
   "source": [
    "print(USGS_EQ_data_pull[\"bbox\"])"
   ]
  },
  {
   "cell_type": "markdown",
   "metadata": {},
   "source": [
    "# Step 1: Converting the imported \"feature\" json data into pandas dataframe"
   ]
  },
  {
   "cell_type": "code",
   "execution_count": 9,
   "metadata": {},
   "outputs": [],
   "source": [
    "USGS_EQ_features = USGS_EQ_data_pull[\"features\"]"
   ]
  },
  {
   "cell_type": "markdown",
   "metadata": {},
   "source": [
    "- Saving the imported geojson file"
   ]
  },
  {
   "cell_type": "code",
   "execution_count": 10,
   "metadata": {},
   "outputs": [],
   "source": [
    "with open('USGS_EQ.json', 'w') as json_file:\n",
    "    json.dump(USGS_EQ_features, json_file)"
   ]
  },
  {
   "cell_type": "markdown",
   "metadata": {},
   "source": [
    "- Taking it into pandas"
   ]
  },
  {
   "cell_type": "code",
   "execution_count": 11,
   "metadata": {},
   "outputs": [
    {
     "data": {
      "text/html": [
       "<div>\n",
       "<style scoped>\n",
       "    .dataframe tbody tr th:only-of-type {\n",
       "        vertical-align: middle;\n",
       "    }\n",
       "\n",
       "    .dataframe tbody tr th {\n",
       "        vertical-align: top;\n",
       "    }\n",
       "\n",
       "    .dataframe thead th {\n",
       "        text-align: right;\n",
       "    }\n",
       "</style>\n",
       "<table border=\"1\" class=\"dataframe\">\n",
       "  <thead>\n",
       "    <tr style=\"text-align: right;\">\n",
       "      <th></th>\n",
       "      <th>0</th>\n",
       "      <th>1</th>\n",
       "      <th>2</th>\n",
       "      <th>3</th>\n",
       "      <th>4</th>\n",
       "      <th>5</th>\n",
       "      <th>6</th>\n",
       "      <th>7</th>\n",
       "      <th>8</th>\n",
       "      <th>9</th>\n",
       "      <th>...</th>\n",
       "      <th>1990</th>\n",
       "      <th>1991</th>\n",
       "      <th>1992</th>\n",
       "      <th>1993</th>\n",
       "      <th>1994</th>\n",
       "      <th>1995</th>\n",
       "      <th>1996</th>\n",
       "      <th>1997</th>\n",
       "      <th>1998</th>\n",
       "      <th>1999</th>\n",
       "    </tr>\n",
       "  </thead>\n",
       "  <tbody>\n",
       "    <tr>\n",
       "      <th>0</th>\n",
       "      <td>{'type': 'Feature', 'properties': {'mag': 1.15...</td>\n",
       "      <td>{'type': 'Feature', 'properties': {'mag': 1.72...</td>\n",
       "      <td>{'type': 'Feature', 'properties': {'mag': 2.5,...</td>\n",
       "      <td>{'type': 'Feature', 'properties': {'mag': 1.4,...</td>\n",
       "      <td>{'type': 'Feature', 'properties': {'mag': 1.45...</td>\n",
       "      <td>{'type': 'Feature', 'properties': {'mag': 1.5,...</td>\n",
       "      <td>{'type': 'Feature', 'properties': {'mag': 1.44...</td>\n",
       "      <td>{'type': 'Feature', 'properties': {'mag': 1.3,...</td>\n",
       "      <td>{'type': 'Feature', 'properties': {'mag': 1.47...</td>\n",
       "      <td>{'type': 'Feature', 'properties': {'mag': 1.03...</td>\n",
       "      <td>...</td>\n",
       "      <td>{'type': 'Feature', 'properties': {'mag': 3.79...</td>\n",
       "      <td>{'type': 'Feature', 'properties': {'mag': 1.48...</td>\n",
       "      <td>{'type': 'Feature', 'properties': {'mag': 1.2,...</td>\n",
       "      <td>{'type': 'Feature', 'properties': {'mag': 1.69...</td>\n",
       "      <td>{'type': 'Feature', 'properties': {'mag': 2.88...</td>\n",
       "      <td>{'type': 'Feature', 'properties': {'mag': 2.36...</td>\n",
       "      <td>{'type': 'Feature', 'properties': {'mag': 1.52...</td>\n",
       "      <td>{'type': 'Feature', 'properties': {'mag': 1.71...</td>\n",
       "      <td>{'type': 'Feature', 'properties': {'mag': 1.1,...</td>\n",
       "      <td>{'type': 'Feature', 'properties': {'mag': 1.9,...</td>\n",
       "    </tr>\n",
       "  </tbody>\n",
       "</table>\n",
       "<p>1 rows × 2000 columns</p>\n",
       "</div>"
      ],
      "text/plain": [
       "                                                0     \\\n",
       "0  {'type': 'Feature', 'properties': {'mag': 1.15...   \n",
       "\n",
       "                                                1     \\\n",
       "0  {'type': 'Feature', 'properties': {'mag': 1.72...   \n",
       "\n",
       "                                                2     \\\n",
       "0  {'type': 'Feature', 'properties': {'mag': 2.5,...   \n",
       "\n",
       "                                                3     \\\n",
       "0  {'type': 'Feature', 'properties': {'mag': 1.4,...   \n",
       "\n",
       "                                                4     \\\n",
       "0  {'type': 'Feature', 'properties': {'mag': 1.45...   \n",
       "\n",
       "                                                5     \\\n",
       "0  {'type': 'Feature', 'properties': {'mag': 1.5,...   \n",
       "\n",
       "                                                6     \\\n",
       "0  {'type': 'Feature', 'properties': {'mag': 1.44...   \n",
       "\n",
       "                                                7     \\\n",
       "0  {'type': 'Feature', 'properties': {'mag': 1.3,...   \n",
       "\n",
       "                                                8     \\\n",
       "0  {'type': 'Feature', 'properties': {'mag': 1.47...   \n",
       "\n",
       "                                                9     ...  \\\n",
       "0  {'type': 'Feature', 'properties': {'mag': 1.03...  ...   \n",
       "\n",
       "                                                1990  \\\n",
       "0  {'type': 'Feature', 'properties': {'mag': 3.79...   \n",
       "\n",
       "                                                1991  \\\n",
       "0  {'type': 'Feature', 'properties': {'mag': 1.48...   \n",
       "\n",
       "                                                1992  \\\n",
       "0  {'type': 'Feature', 'properties': {'mag': 1.2,...   \n",
       "\n",
       "                                                1993  \\\n",
       "0  {'type': 'Feature', 'properties': {'mag': 1.69...   \n",
       "\n",
       "                                                1994  \\\n",
       "0  {'type': 'Feature', 'properties': {'mag': 2.88...   \n",
       "\n",
       "                                                1995  \\\n",
       "0  {'type': 'Feature', 'properties': {'mag': 2.36...   \n",
       "\n",
       "                                                1996  \\\n",
       "0  {'type': 'Feature', 'properties': {'mag': 1.52...   \n",
       "\n",
       "                                                1997  \\\n",
       "0  {'type': 'Feature', 'properties': {'mag': 1.71...   \n",
       "\n",
       "                                                1998  \\\n",
       "0  {'type': 'Feature', 'properties': {'mag': 1.1,...   \n",
       "\n",
       "                                                1999  \n",
       "0  {'type': 'Feature', 'properties': {'mag': 1.9,...  \n",
       "\n",
       "[1 rows x 2000 columns]"
      ]
     },
     "execution_count": 11,
     "metadata": {},
     "output_type": "execute_result"
    }
   ],
   "source": [
    "df_eq = pd.read_json(\"USGS_EQ.json\",\n",
    "                        lines=True,\n",
    "                        orient='columns')\n",
    "\n",
    "df_eq.head()"
   ]
  },
  {
   "cell_type": "markdown",
   "metadata": {},
   "source": [
    "Opening the nested json file"
   ]
  },
  {
   "cell_type": "code",
   "execution_count": 12,
   "metadata": {},
   "outputs": [],
   "source": [
    "df_5 = pd.DataFrame()\n",
    "cnt = 0\n",
    "\n",
    "for i in df_eq:\n",
    "    df_1 = df_eq[i]\n",
    "    \n",
    "    df_2 = pd.DataFrame([j for j in df_1])\n",
    "    \n",
    "    df_3 = df_2[\"properties\"]\n",
    "    \n",
    "    df_4 = pd.DataFrame([j for j in df_3])\n",
    "    \n",
    "    df_5= df_5.append(df_4)\n",
    "\n",
    "df_eq_parsed_properties = df_5"
   ]
  },
  {
   "cell_type": "code",
   "execution_count": 13,
   "metadata": {},
   "outputs": [
    {
     "data": {
      "text/html": [
       "<div>\n",
       "<style scoped>\n",
       "    .dataframe tbody tr th:only-of-type {\n",
       "        vertical-align: middle;\n",
       "    }\n",
       "\n",
       "    .dataframe tbody tr th {\n",
       "        vertical-align: top;\n",
       "    }\n",
       "\n",
       "    .dataframe thead th {\n",
       "        text-align: right;\n",
       "    }\n",
       "</style>\n",
       "<table border=\"1\" class=\"dataframe\">\n",
       "  <thead>\n",
       "    <tr style=\"text-align: right;\">\n",
       "      <th></th>\n",
       "      <th>mag</th>\n",
       "      <th>place</th>\n",
       "      <th>time</th>\n",
       "      <th>updated</th>\n",
       "      <th>tz</th>\n",
       "      <th>url</th>\n",
       "      <th>detail</th>\n",
       "      <th>felt</th>\n",
       "      <th>cdi</th>\n",
       "      <th>mmi</th>\n",
       "      <th>...</th>\n",
       "      <th>ids</th>\n",
       "      <th>sources</th>\n",
       "      <th>types</th>\n",
       "      <th>nst</th>\n",
       "      <th>dmin</th>\n",
       "      <th>rms</th>\n",
       "      <th>gap</th>\n",
       "      <th>magType</th>\n",
       "      <th>type</th>\n",
       "      <th>title</th>\n",
       "    </tr>\n",
       "  </thead>\n",
       "  <tbody>\n",
       "    <tr>\n",
       "      <th>0</th>\n",
       "      <td>1.15</td>\n",
       "      <td>12km SE of Olancha, CA</td>\n",
       "      <td>1593474788120</td>\n",
       "      <td>1593546285277</td>\n",
       "      <td>-480</td>\n",
       "      <td>https://earthquake.usgs.gov/earthquakes/eventp...</td>\n",
       "      <td>https://earthquake.usgs.gov/fdsnws/event/1/que...</td>\n",
       "      <td>None</td>\n",
       "      <td>None</td>\n",
       "      <td>None</td>\n",
       "      <td>...</td>\n",
       "      <td>,ci39273063,</td>\n",
       "      <td>,ci,</td>\n",
       "      <td>,geoserve,nearby-cities,origin,phase-data,scit...</td>\n",
       "      <td>16</td>\n",
       "      <td>0.18150</td>\n",
       "      <td>0.09</td>\n",
       "      <td>131</td>\n",
       "      <td>ml</td>\n",
       "      <td>earthquake</td>\n",
       "      <td>M 1.2 - 12km SE of Olancha, CA</td>\n",
       "    </tr>\n",
       "    <tr>\n",
       "      <th>0</th>\n",
       "      <td>1.72</td>\n",
       "      <td>15km W of Searles Valley, CA</td>\n",
       "      <td>1593474299060</td>\n",
       "      <td>1593524436810</td>\n",
       "      <td>-480</td>\n",
       "      <td>https://earthquake.usgs.gov/earthquakes/eventp...</td>\n",
       "      <td>https://earthquake.usgs.gov/fdsnws/event/1/que...</td>\n",
       "      <td>None</td>\n",
       "      <td>None</td>\n",
       "      <td>None</td>\n",
       "      <td>...</td>\n",
       "      <td>,ci39273055,</td>\n",
       "      <td>,ci,</td>\n",
       "      <td>,focal-mechanism,geoserve,nearby-cities,origin...</td>\n",
       "      <td>22</td>\n",
       "      <td>0.06672</td>\n",
       "      <td>0.13</td>\n",
       "      <td>85</td>\n",
       "      <td>ml</td>\n",
       "      <td>earthquake</td>\n",
       "      <td>M 1.7 - 15km W of Searles Valley, CA</td>\n",
       "    </tr>\n",
       "    <tr>\n",
       "      <th>0</th>\n",
       "      <td>2.50</td>\n",
       "      <td>67km W of Tonopah, Nevada</td>\n",
       "      <td>1593472281375</td>\n",
       "      <td>1593483562709</td>\n",
       "      <td>-480</td>\n",
       "      <td>https://earthquake.usgs.gov/earthquakes/eventp...</td>\n",
       "      <td>https://earthquake.usgs.gov/fdsnws/event/1/que...</td>\n",
       "      <td>None</td>\n",
       "      <td>None</td>\n",
       "      <td>None</td>\n",
       "      <td>...</td>\n",
       "      <td>,nn00755123,us7000aes2,</td>\n",
       "      <td>,nn,us,</td>\n",
       "      <td>,geoserve,origin,phase-data,</td>\n",
       "      <td>22</td>\n",
       "      <td>0.02900</td>\n",
       "      <td>0.1229</td>\n",
       "      <td>48.31</td>\n",
       "      <td>ml</td>\n",
       "      <td>earthquake</td>\n",
       "      <td>M 2.5 - 67km W of Tonopah, Nevada</td>\n",
       "    </tr>\n",
       "    <tr>\n",
       "      <th>0</th>\n",
       "      <td>1.40</td>\n",
       "      <td>58km WNW of Tonopah, Nevada</td>\n",
       "      <td>1593471815310</td>\n",
       "      <td>1593472363458</td>\n",
       "      <td>-480</td>\n",
       "      <td>https://earthquake.usgs.gov/earthquakes/eventp...</td>\n",
       "      <td>https://earthquake.usgs.gov/fdsnws/event/1/que...</td>\n",
       "      <td>None</td>\n",
       "      <td>None</td>\n",
       "      <td>None</td>\n",
       "      <td>...</td>\n",
       "      <td>,nn00755120,</td>\n",
       "      <td>,nn,</td>\n",
       "      <td>,geoserve,origin,phase-data,</td>\n",
       "      <td>14</td>\n",
       "      <td>0.02000</td>\n",
       "      <td>0.13</td>\n",
       "      <td>92.68</td>\n",
       "      <td>ml</td>\n",
       "      <td>earthquake</td>\n",
       "      <td>M 1.4 - 58km WNW of Tonopah, Nevada</td>\n",
       "    </tr>\n",
       "    <tr>\n",
       "      <th>0</th>\n",
       "      <td>1.45</td>\n",
       "      <td>18km NNE of Olancha, CA</td>\n",
       "      <td>1593471653780</td>\n",
       "      <td>1593626384714</td>\n",
       "      <td>-480</td>\n",
       "      <td>https://earthquake.usgs.gov/earthquakes/eventp...</td>\n",
       "      <td>https://earthquake.usgs.gov/fdsnws/event/1/que...</td>\n",
       "      <td>None</td>\n",
       "      <td>None</td>\n",
       "      <td>None</td>\n",
       "      <td>...</td>\n",
       "      <td>,ci39273015,</td>\n",
       "      <td>,ci,</td>\n",
       "      <td>,geoserve,nearby-cities,origin,phase-data,scit...</td>\n",
       "      <td>24</td>\n",
       "      <td>0.14480</td>\n",
       "      <td>0.22</td>\n",
       "      <td>66</td>\n",
       "      <td>ml</td>\n",
       "      <td>earthquake</td>\n",
       "      <td>M 1.5 - 18km NNE of Olancha, CA</td>\n",
       "    </tr>\n",
       "  </tbody>\n",
       "</table>\n",
       "<p>5 rows × 26 columns</p>\n",
       "</div>"
      ],
      "text/plain": [
       "    mag                         place           time        updated    tz  \\\n",
       "0  1.15        12km SE of Olancha, CA  1593474788120  1593546285277  -480   \n",
       "0  1.72  15km W of Searles Valley, CA  1593474299060  1593524436810  -480   \n",
       "0  2.50     67km W of Tonopah, Nevada  1593472281375  1593483562709  -480   \n",
       "0  1.40   58km WNW of Tonopah, Nevada  1593471815310  1593472363458  -480   \n",
       "0  1.45       18km NNE of Olancha, CA  1593471653780  1593626384714  -480   \n",
       "\n",
       "                                                 url  \\\n",
       "0  https://earthquake.usgs.gov/earthquakes/eventp...   \n",
       "0  https://earthquake.usgs.gov/earthquakes/eventp...   \n",
       "0  https://earthquake.usgs.gov/earthquakes/eventp...   \n",
       "0  https://earthquake.usgs.gov/earthquakes/eventp...   \n",
       "0  https://earthquake.usgs.gov/earthquakes/eventp...   \n",
       "\n",
       "                                              detail  felt   cdi   mmi  ...  \\\n",
       "0  https://earthquake.usgs.gov/fdsnws/event/1/que...  None  None  None  ...   \n",
       "0  https://earthquake.usgs.gov/fdsnws/event/1/que...  None  None  None  ...   \n",
       "0  https://earthquake.usgs.gov/fdsnws/event/1/que...  None  None  None  ...   \n",
       "0  https://earthquake.usgs.gov/fdsnws/event/1/que...  None  None  None  ...   \n",
       "0  https://earthquake.usgs.gov/fdsnws/event/1/que...  None  None  None  ...   \n",
       "\n",
       "                       ids  sources  \\\n",
       "0             ,ci39273063,     ,ci,   \n",
       "0             ,ci39273055,     ,ci,   \n",
       "0  ,nn00755123,us7000aes2,  ,nn,us,   \n",
       "0             ,nn00755120,     ,nn,   \n",
       "0             ,ci39273015,     ,ci,   \n",
       "\n",
       "                                               types  nst     dmin     rms  \\\n",
       "0  ,geoserve,nearby-cities,origin,phase-data,scit...   16  0.18150    0.09   \n",
       "0  ,focal-mechanism,geoserve,nearby-cities,origin...   22  0.06672    0.13   \n",
       "0                       ,geoserve,origin,phase-data,   22  0.02900  0.1229   \n",
       "0                       ,geoserve,origin,phase-data,   14  0.02000    0.13   \n",
       "0  ,geoserve,nearby-cities,origin,phase-data,scit...   24  0.14480    0.22   \n",
       "\n",
       "     gap magType        type                                 title  \n",
       "0    131      ml  earthquake        M 1.2 - 12km SE of Olancha, CA  \n",
       "0     85      ml  earthquake  M 1.7 - 15km W of Searles Valley, CA  \n",
       "0  48.31      ml  earthquake     M 2.5 - 67km W of Tonopah, Nevada  \n",
       "0  92.68      ml  earthquake   M 1.4 - 58km WNW of Tonopah, Nevada  \n",
       "0     66      ml  earthquake       M 1.5 - 18km NNE of Olancha, CA  \n",
       "\n",
       "[5 rows x 26 columns]"
      ]
     },
     "execution_count": 13,
     "metadata": {},
     "output_type": "execute_result"
    }
   ],
   "source": [
    "df_eq_parsed_properties.head()"
   ]
  },
  {
   "cell_type": "code",
   "execution_count": 14,
   "metadata": {},
   "outputs": [
    {
     "data": {
      "image/png": "[encoded data removed]",
      "text/plain": [
       "<Figure size 576x360 with 1 Axes>"
      ]
     },
     "metadata": {
      "image/png": {
       "height": 336,
       "width": 490
      },
      "needs_background": "light"
     },
     "output_type": "display_data"
    }
   ],
   "source": [
    "%config InlineBackend.figure_format = 'retina'\n",
    "\n",
    "plt.figure(figsize = [8, 5])\n",
    "\n",
    "plt.scatter(df_eq_parsed_properties.sig,df_eq_parsed_properties.mag);\n",
    "\n",
    "# Format title and axis labels\n",
    "plt.title(\"EQ parameters\", fontsize = 15);\n",
    "\n",
    "plt.xlabel(\"Sigma\", fontsize = 12);\n",
    "plt.ylabel(\"Magnitude\", fontsize = 12);"
   ]
  },
  {
   "cell_type": "markdown",
   "metadata": {},
   "source": [
    "# Step 2: importing the coordinates"
   ]
  },
  {
   "cell_type": "code",
   "execution_count": 15,
   "metadata": {},
   "outputs": [
    {
     "data": {
      "text/plain": [
       "0    {'type': 'Feature', 'properties': {'mag': 1.15...\n",
       "Name: 0, dtype: object"
      ]
     },
     "execution_count": 15,
     "metadata": {},
     "output_type": "execute_result"
    }
   ],
   "source": [
    "df_eq[0]"
   ]
  },
  {
   "cell_type": "code",
   "execution_count": 16,
   "metadata": {},
   "outputs": [],
   "source": [
    "df_5 = pd.DataFrame()\n",
    "cnt = 0\n",
    "\n",
    "for i in df_eq:\n",
    "    df_1 = df_eq[i]\n",
    "    \n",
    "    df_2 = pd.DataFrame([j for j in df_1])\n",
    "    \n",
    "    df_3 = df_2[\"geometry\"]\n",
    "    \n",
    "    df_4 = pd.DataFrame([j for j in df_3])\n",
    "    \n",
    "    df_5= df_5.append(df_4)\n",
    "\n",
    "df_eq_parsed_geometry = df_5"
   ]
  },
  {
   "cell_type": "code",
   "execution_count": 17,
   "metadata": {},
   "outputs": [
    {
     "data": {
      "text/html": [
       "<div>\n",
       "<style scoped>\n",
       "    .dataframe tbody tr th:only-of-type {\n",
       "        vertical-align: middle;\n",
       "    }\n",
       "\n",
       "    .dataframe tbody tr th {\n",
       "        vertical-align: top;\n",
       "    }\n",
       "\n",
       "    .dataframe thead th {\n",
       "        text-align: right;\n",
       "    }\n",
       "</style>\n",
       "<table border=\"1\" class=\"dataframe\">\n",
       "  <thead>\n",
       "    <tr style=\"text-align: right;\">\n",
       "      <th></th>\n",
       "      <th>type</th>\n",
       "      <th>coordinates</th>\n",
       "    </tr>\n",
       "  </thead>\n",
       "  <tbody>\n",
       "    <tr>\n",
       "      <th>0</th>\n",
       "      <td>Point</td>\n",
       "      <td>[-117.891, 36.2163333, 1.51]</td>\n",
       "    </tr>\n",
       "    <tr>\n",
       "      <th>0</th>\n",
       "      <td>Point</td>\n",
       "      <td>[-117.566, 35.754, 6.93]</td>\n",
       "    </tr>\n",
       "    <tr>\n",
       "      <th>0</th>\n",
       "      <td>Point</td>\n",
       "      <td>[-117.9464, 38.1664, 4.6]</td>\n",
       "    </tr>\n",
       "    <tr>\n",
       "      <th>0</th>\n",
       "      <td>Point</td>\n",
       "      <td>[-117.8817, 38.1778, 4.4]</td>\n",
       "    </tr>\n",
       "    <tr>\n",
       "      <th>0</th>\n",
       "      <td>Point</td>\n",
       "      <td>[-117.9021667, 36.4208333, 1.01]</td>\n",
       "    </tr>\n",
       "  </tbody>\n",
       "</table>\n",
       "</div>"
      ],
      "text/plain": [
       "    type                       coordinates\n",
       "0  Point      [-117.891, 36.2163333, 1.51]\n",
       "0  Point          [-117.566, 35.754, 6.93]\n",
       "0  Point         [-117.9464, 38.1664, 4.6]\n",
       "0  Point         [-117.8817, 38.1778, 4.4]\n",
       "0  Point  [-117.9021667, 36.4208333, 1.01]"
      ]
     },
     "execution_count": 17,
     "metadata": {},
     "output_type": "execute_result"
    }
   ],
   "source": [
    "#df_eq_parsed = df_eq_parsed.drop(columns=[\"url\", \"detail\"])\n",
    "\n",
    "df_eq_parsed_geometry.head()"
   ]
  },
  {
   "cell_type": "code",
   "execution_count": 28,
   "metadata": {},
   "outputs": [
    {
     "data": {
      "text/html": [
       "<div>\n",
       "<style scoped>\n",
       "    .dataframe tbody tr th:only-of-type {\n",
       "        vertical-align: middle;\n",
       "    }\n",
       "\n",
       "    .dataframe tbody tr th {\n",
       "        vertical-align: top;\n",
       "    }\n",
       "\n",
       "    .dataframe thead th {\n",
       "        text-align: right;\n",
       "    }\n",
       "</style>\n",
       "<table border=\"1\" class=\"dataframe\">\n",
       "  <thead>\n",
       "    <tr style=\"text-align: right;\">\n",
       "      <th></th>\n",
       "      <th>mag</th>\n",
       "      <th>place</th>\n",
       "      <th>time</th>\n",
       "      <th>updated</th>\n",
       "      <th>tz</th>\n",
       "      <th>url</th>\n",
       "      <th>detail</th>\n",
       "      <th>felt</th>\n",
       "      <th>cdi</th>\n",
       "      <th>mmi</th>\n",
       "      <th>...</th>\n",
       "      <th>types</th>\n",
       "      <th>nst</th>\n",
       "      <th>dmin</th>\n",
       "      <th>rms</th>\n",
       "      <th>gap</th>\n",
       "      <th>magType</th>\n",
       "      <th>type</th>\n",
       "      <th>title</th>\n",
       "      <th>type</th>\n",
       "      <th>coordinates</th>\n",
       "    </tr>\n",
       "  </thead>\n",
       "  <tbody>\n",
       "    <tr>\n",
       "      <th>0</th>\n",
       "      <td>1.15</td>\n",
       "      <td>12km SE of Olancha, CA</td>\n",
       "      <td>1593474788120</td>\n",
       "      <td>1593546285277</td>\n",
       "      <td>-480</td>\n",
       "      <td>https://earthquake.usgs.gov/earthquakes/eventp...</td>\n",
       "      <td>https://earthquake.usgs.gov/fdsnws/event/1/que...</td>\n",
       "      <td>None</td>\n",
       "      <td>None</td>\n",
       "      <td>None</td>\n",
       "      <td>...</td>\n",
       "      <td>,geoserve,nearby-cities,origin,phase-data,scit...</td>\n",
       "      <td>16</td>\n",
       "      <td>0.18150</td>\n",
       "      <td>0.09</td>\n",
       "      <td>131</td>\n",
       "      <td>ml</td>\n",
       "      <td>earthquake</td>\n",
       "      <td>M 1.2 - 12km SE of Olancha, CA</td>\n",
       "      <td>Point</td>\n",
       "      <td>[-117.891, 36.2163333, 1.51]</td>\n",
       "    </tr>\n",
       "    <tr>\n",
       "      <th>1</th>\n",
       "      <td>1.72</td>\n",
       "      <td>15km W of Searles Valley, CA</td>\n",
       "      <td>1593474299060</td>\n",
       "      <td>1593524436810</td>\n",
       "      <td>-480</td>\n",
       "      <td>https://earthquake.usgs.gov/earthquakes/eventp...</td>\n",
       "      <td>https://earthquake.usgs.gov/fdsnws/event/1/que...</td>\n",
       "      <td>None</td>\n",
       "      <td>None</td>\n",
       "      <td>None</td>\n",
       "      <td>...</td>\n",
       "      <td>,focal-mechanism,geoserve,nearby-cities,origin...</td>\n",
       "      <td>22</td>\n",
       "      <td>0.06672</td>\n",
       "      <td>0.13</td>\n",
       "      <td>85</td>\n",
       "      <td>ml</td>\n",
       "      <td>earthquake</td>\n",
       "      <td>M 1.7 - 15km W of Searles Valley, CA</td>\n",
       "      <td>Point</td>\n",
       "      <td>[-117.566, 35.754, 6.93]</td>\n",
       "    </tr>\n",
       "  </tbody>\n",
       "</table>\n",
       "<p>2 rows × 28 columns</p>\n",
       "</div>"
      ],
      "text/plain": [
       "    mag                         place           time        updated    tz  \\\n",
       "0  1.15        12km SE of Olancha, CA  1593474788120  1593546285277  -480   \n",
       "1  1.72  15km W of Searles Valley, CA  1593474299060  1593524436810  -480   \n",
       "\n",
       "                                                 url  \\\n",
       "0  https://earthquake.usgs.gov/earthquakes/eventp...   \n",
       "1  https://earthquake.usgs.gov/earthquakes/eventp...   \n",
       "\n",
       "                                              detail  felt   cdi   mmi  ...  \\\n",
       "0  https://earthquake.usgs.gov/fdsnws/event/1/que...  None  None  None  ...   \n",
       "1  https://earthquake.usgs.gov/fdsnws/event/1/que...  None  None  None  ...   \n",
       "\n",
       "                                               types nst     dmin   rms  gap  \\\n",
       "0  ,geoserve,nearby-cities,origin,phase-data,scit...  16  0.18150  0.09  131   \n",
       "1  ,focal-mechanism,geoserve,nearby-cities,origin...  22  0.06672  0.13   85   \n",
       "\n",
       "  magType        type                                 title   type  \\\n",
       "0      ml  earthquake        M 1.2 - 12km SE of Olancha, CA  Point   \n",
       "1      ml  earthquake  M 1.7 - 15km W of Searles Valley, CA  Point   \n",
       "\n",
       "                    coordinates  \n",
       "0  [-117.891, 36.2163333, 1.51]  \n",
       "1      [-117.566, 35.754, 6.93]  \n",
       "\n",
       "[2 rows x 28 columns]"
      ]
     },
     "execution_count": 28,
     "metadata": {},
     "output_type": "execute_result"
    }
   ],
   "source": [
    "df_EQ_processed = (pd.concat([df_eq_parsed_properties, df_eq_parsed_geometry], axis=1))\n",
    "df_EQ_processed.reset_index(drop=True, inplace=True)\n",
    "df_EQ_processed.head(2)"
   ]
  },
  {
   "cell_type": "code",
   "execution_count": 19,
   "metadata": {},
   "outputs": [
    {
     "name": "stdout",
     "output_type": "stream",
     "text": [
      "<class 'pandas.core.frame.DataFrame'>\n",
      "Int64Index: 2000 entries, 0 to 0\n",
      "Data columns (total 28 columns):\n",
      " #   Column       Non-Null Count  Dtype  \n",
      "---  ------       --------------  -----  \n",
      " 0   mag          2000 non-null   float64\n",
      " 1   place        2000 non-null   object \n",
      " 2   time         2000 non-null   int64  \n",
      " 3   updated      2000 non-null   int64  \n",
      " 4   tz           1905 non-null   object \n",
      " 5   url          2000 non-null   object \n",
      " 6   detail       2000 non-null   object \n",
      " 7   felt         100 non-null    object \n",
      " 8   cdi          100 non-null    object \n",
      " 9   mmi          24 non-null     object \n",
      " 10  alert        3 non-null      object \n",
      " 11  status       2000 non-null   object \n",
      " 12  tsunami      2000 non-null   int64  \n",
      " 13  sig          2000 non-null   int64  \n",
      " 14  net          2000 non-null   object \n",
      " 15  code         2000 non-null   object \n",
      " 16  ids          2000 non-null   object \n",
      " 17  sources      2000 non-null   object \n",
      " 18  types        2000 non-null   object \n",
      " 19  nst          1934 non-null   object \n",
      " 20  dmin         2000 non-null   float64\n",
      " 21  rms          1996 non-null   object \n",
      " 22  gap          1996 non-null   object \n",
      " 23  magType      2000 non-null   object \n",
      " 24  type         2000 non-null   object \n",
      " 25  title        2000 non-null   object \n",
      " 26  type         2000 non-null   object \n",
      " 27  coordinates  2000 non-null   object \n",
      "dtypes: float64(2), int64(4), object(22)\n",
      "memory usage: 453.1+ KB\n"
     ]
    }
   ],
   "source": [
    "df_EQ_processed.info()"
   ]
  },
  {
   "cell_type": "code",
   "execution_count": 29,
   "metadata": {},
   "outputs": [
    {
     "data": {
      "text/plain": [
       "'https://earthquake.usgs.gov/earthquakes/eventpage/ci39273063'"
      ]
     },
     "execution_count": 29,
     "metadata": {},
     "output_type": "execute_result"
    }
   ],
   "source": [
    "df_EQ_processed[\"url\"][0]"
   ]
  },
  {
   "cell_type": "code",
   "execution_count": null,
   "metadata": {},
   "outputs": [],
   "source": []
  }
 ],
 "metadata": {
  "kernelspec": {
   "display_name": "Python [conda env:ses]",
   "language": "python",
   "name": "conda-env-ses-py"
  },
  "language_info": {
   "codemirror_mode": {
    "name": "ipython",
    "version": 3
   },
   "file_extension": ".py",
   "mimetype": "text/x-python",
   "name": "python",
   "nbconvert_exporter": "python",
   "pygments_lexer": "ipython3",
   "version": "3.7.7"
  }
 },
 "nbformat": 4,
 "nbformat_minor": 4
}
