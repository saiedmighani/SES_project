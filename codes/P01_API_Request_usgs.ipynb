{
 "cells": [
  {
   "cell_type": "markdown",
   "metadata": {},
   "source": [
    "## Time-series based analysis of Earthquake Risk Factors\n",
    "\n",
    "### Part 1: Pulling Earthquake data from USGS API\n",
    "\n",
    "In this notebook, I imported the earthquake data from the following USGS API: \n",
    "\n",
    "[Go to USGS API documentation](https://earthquake.usgs.gov/fdsnws/event/1/)"
   ]
  },
  {
   "cell_type": "markdown",
   "metadata": {},
   "source": [
    "Importing the required libraries:\n",
    "\n",
    "- Built a general function to read USGS APIs: \"get_EQ_USGS.py\""
   ]
  },
  {
   "cell_type": "code",
   "execution_count": 1,
   "metadata": {},
   "outputs": [],
   "source": [
    "import requests\n",
    "import json\n",
    "import pandas as pd\n",
    "import numpy as np\n",
    "import pandas as pd\n",
    "import matplotlib.pyplot as plt"
   ]
  },
  {
   "cell_type": "markdown",
   "metadata": {},
   "source": [
    "- Function for EQ json reading"
   ]
  },
  {
   "cell_type": "markdown",
   "metadata": {},
   "source": [
    "<a id='cell_ref_1'></a>"
   ]
  },
  {
   "cell_type": "code",
   "execution_count": 2,
   "metadata": {},
   "outputs": [],
   "source": [
    "def get_EQ_USGS(*arg):\n",
    "    \n",
    "    baseurl = 'https://earthquake.usgs.gov/fdsnws/event/1/query?'\n",
    "    \n",
    "    params_diction={}\n",
    "    \n",
    "    params_diction['format'] = get_format\n",
    "    \n",
    "    params_diction['starttime'] = min_date\n",
    "    params_diction['endtime'] = max_date\n",
    "    \n",
    "    params_diction['minmagnitude'] = min_magnitude\n",
    "    params_diction['maxmagnitude'] = max_magnitude\n",
    "    \n",
    "    params_diction['minlatitude'] = min_latitude\n",
    "    params_diction['maxlatitude'] = max_latitude\n",
    "    params_diction['minlongitude'] = min_longitude\n",
    "    params_diction['maxlongitude'] = max_longitude\n",
    "    \n",
    "    params_diction['orderby'] = order_by\n",
    "    \n",
    "    params_diction['limit'] = limit_data\n",
    "    \n",
    "    resp = requests.get(baseurl, params=params_diction)\n",
    "    \n",
    "    return resp.json()\n"
   ]
  },
  {
   "cell_type": "markdown",
   "metadata": {},
   "source": [
    "### 01. Reading in the Lome Prieta EQ data:"
   ]
  },
  {
   "cell_type": "code",
   "execution_count": 3,
   "metadata": {},
   "outputs": [],
   "source": [
    "get_format = \"geojson\" # Format for importing data\n",
    "\n",
    "min_date = \"1989-10-09\" # Minimum date for reporting the data\n",
    "max_date = \"1989-10-19\" # Maximum date for reporting the data\n",
    "\n",
    "min_magnitude = \"1\" # Minimum magnitude of the reporting data\n",
    "max_magnitude = \"10\" # Maximum magnitude of the reporting data\n",
    "\n",
    "min_latitude = \"32\" # Minimum latitude\n",
    "max_latitude = \"42\" # Maximum latitude\n",
    "\n",
    "min_longitude = \"-126\" # Minimum longitude\n",
    "max_longitude = \"-114\" # Maximum longitude\n",
    "\n",
    "order_by = \"time\" # Ordering the data by parameters\n",
    "limit_data = \"2000\" # Maximum number of data\n",
    "\n",
    "Params = [get_format, min_date, max_date, min_magnitude, max_magnitude, \n",
    "          min_latitude, max_latitude, min_longitude, max_longitude, order_by, \n",
    "          limit_data]\n",
    "\n",
    "USGS_EQ_data_pull = get_EQ_USGS(Params)"
   ]
  },
  {
   "cell_type": "markdown",
   "metadata": {},
   "source": [
    "Checking the keys of the pulled json file:"
   ]
  },
  {
   "cell_type": "code",
   "execution_count": 4,
   "metadata": {},
   "outputs": [
    {
     "name": "stdout",
     "output_type": "stream",
     "text": [
      "dict_keys(['type', 'metadata', 'features', 'bbox'])\n"
     ]
    }
   ],
   "source": [
    "print(USGS_EQ_data_pull.keys())"
   ]
  },
  {
   "cell_type": "markdown",
   "metadata": {},
   "source": [
    "printing the values in each key:"
   ]
  },
  {
   "cell_type": "code",
   "execution_count": 5,
   "metadata": {},
   "outputs": [
    {
     "name": "stdout",
     "output_type": "stream",
     "text": [
      "FeatureCollection\n"
     ]
    }
   ],
   "source": [
    "print(USGS_EQ_data_pull[\"type\"])"
   ]
  },
  {
   "cell_type": "code",
   "execution_count": 6,
   "metadata": {},
   "outputs": [
    {
     "name": "stdout",
     "output_type": "stream",
     "text": [
      "{\n",
      "  \"generated\": 1599269527000,\n",
      "  \"url\": \"https://earthquake.usgs.gov/fdsnws/event/1/query?format=geojson&starttime=1989-10-09&endtime=1989-10-19&minmagnitude=1&maxmagnitude=10&minlatitude=32&maxlatitude=42&minlongitude=-126&maxlongitude=-114&orderby=time&limit=2000\",\n",
      "  \"title\": \"USGS Earthquakes\",\n",
      "  \"status\": 200,\n",
      "  \"api\": \"1.10.3\",\n",
      "  \"limit\": 2000,\n",
      "  \"offset\": 1,\n",
      "  \"count\": 1271\n",
      "}\n"
     ]
    }
   ],
   "source": [
    "print(json.dumps(USGS_EQ_data_pull[\"metadata\"], indent=2))"
   ]
  },
  {
   "cell_type": "code",
   "execution_count": 7,
   "metadata": {},
   "outputs": [
    {
     "name": "stdout",
     "output_type": "stream",
     "text": [
      "{\n",
      "  \"type\": \"Feature\",\n",
      "  \"properties\": {\n",
      "    \"mag\": 1.42,\n",
      "    \"place\": \"Northern California\",\n",
      "    \"time\": 624757977010,\n",
      "    \"updated\": 1481291793752,\n",
      "    \"tz\": null,\n",
      "    \"url\": \"https://earthquake.usgs.gov/earthquakes/eventpage/nc263323\",\n",
      "    \"detail\": \"https://earthquake.usgs.gov/fdsnws/event/1/query?eventid=nc263323&format=geojson\",\n",
      "    \"felt\": null,\n",
      "    \"cdi\": null,\n",
      "    \"mmi\": null,\n",
      "    \"alert\": null,\n",
      "    \"status\": \"reviewed\",\n",
      "    \"tsunami\": 0,\n",
      "    \"sig\": 31,\n",
      "    \"net\": \"nc\",\n",
      "    \"code\": \"263323\",\n",
      "    \"ids\": \",nc263323,\",\n",
      "    \"sources\": \",nc,\",\n",
      "    \"types\": \",nearby-cities,origin,phase-data,\",\n",
      "    \"nst\": 11,\n",
      "    \"dmin\": 0.02342,\n",
      "    \"rms\": 0.03,\n",
      "    \"gap\": 70,\n",
      "    \"magType\": \"md\",\n",
      "    \"type\": \"earthquake\",\n",
      "    \"title\": \"M 1.4 - Northern California\"\n",
      "  },\n",
      "  \"geometry\": {\n",
      "    \"type\": \"Point\",\n",
      "    \"coordinates\": [\n",
      "      -121.9451667,\n",
      "      37.1483333,\n",
      "      6.129\n",
      "    ]\n",
      "  },\n",
      "  \"id\": \"nc263323\"\n",
      "}\n"
     ]
    }
   ],
   "source": [
    "print(json.dumps(USGS_EQ_data_pull[\"features\"][0], indent=2)) # Printing only the first element of the list"
   ]
  },
  {
   "cell_type": "code",
   "execution_count": 8,
   "metadata": {},
   "outputs": [
    {
     "name": "stdout",
     "output_type": "stream",
     "text": [
      "[-125.9798333, 32.332, -1.822, -114.246, 41.1243333, 33.056]\n"
     ]
    }
   ],
   "source": [
    "print(USGS_EQ_data_pull[\"bbox\"])"
   ]
  },
  {
   "cell_type": "markdown",
   "metadata": {},
   "source": [
    "# Step 1: Converting the imported \"feature\" json data into pandas dataframe"
   ]
  },
  {
   "cell_type": "code",
   "execution_count": 9,
   "metadata": {},
   "outputs": [],
   "source": [
    "USGS_EQ_features = USGS_EQ_data_pull[\"features\"]"
   ]
  },
  {
   "cell_type": "markdown",
   "metadata": {},
   "source": [
    "- Taking it into pandas"
   ]
  },
  {
   "cell_type": "code",
   "execution_count": 10,
   "metadata": {},
   "outputs": [
    {
     "data": {
      "text/html": [
       "<div>\n",
       "<style scoped>\n",
       "    .dataframe tbody tr th:only-of-type {\n",
       "        vertical-align: middle;\n",
       "    }\n",
       "\n",
       "    .dataframe tbody tr th {\n",
       "        vertical-align: top;\n",
       "    }\n",
       "\n",
       "    .dataframe thead th {\n",
       "        text-align: right;\n",
       "    }\n",
       "</style>\n",
       "<table border=\"1\" class=\"dataframe\">\n",
       "  <thead>\n",
       "    <tr style=\"text-align: right;\">\n",
       "      <th></th>\n",
       "      <th>type</th>\n",
       "      <th>properties</th>\n",
       "      <th>geometry</th>\n",
       "      <th>id</th>\n",
       "    </tr>\n",
       "  </thead>\n",
       "  <tbody>\n",
       "    <tr>\n",
       "      <th>0</th>\n",
       "      <td>Feature</td>\n",
       "      <td>{'mag': 1.42, 'place': 'Northern California', ...</td>\n",
       "      <td>{'type': 'Point', 'coordinates': [-121.9451667...</td>\n",
       "      <td>nc263323</td>\n",
       "    </tr>\n",
       "    <tr>\n",
       "      <th>1</th>\n",
       "      <td>Feature</td>\n",
       "      <td>{'mag': 1.85, 'place': 'Northern California', ...</td>\n",
       "      <td>{'type': 'Point', 'coordinates': [-121.7233333...</td>\n",
       "      <td>nc263322</td>\n",
       "    </tr>\n",
       "    <tr>\n",
       "      <th>2</th>\n",
       "      <td>Feature</td>\n",
       "      <td>{'mag': 1.98, 'place': 'Northern California', ...</td>\n",
       "      <td>{'type': 'Point', 'coordinates': [-122.0328333...</td>\n",
       "      <td>nc263321</td>\n",
       "    </tr>\n",
       "    <tr>\n",
       "      <th>3</th>\n",
       "      <td>Feature</td>\n",
       "      <td>{'mag': 2.09, 'place': 'Northern California', ...</td>\n",
       "      <td>{'type': 'Point', 'coordinates': [-121.8541667...</td>\n",
       "      <td>nc20091394</td>\n",
       "    </tr>\n",
       "    <tr>\n",
       "      <th>4</th>\n",
       "      <td>Feature</td>\n",
       "      <td>{'mag': 1.65, 'place': 'Northern California', ...</td>\n",
       "      <td>{'type': 'Point', 'coordinates': [-121.6363333...</td>\n",
       "      <td>nc20091383</td>\n",
       "    </tr>\n",
       "    <tr>\n",
       "      <th>5</th>\n",
       "      <td>Feature</td>\n",
       "      <td>{'mag': 1.36, 'place': 'Northern California', ...</td>\n",
       "      <td>{'type': 'Point', 'coordinates': [-121.711, 36...</td>\n",
       "      <td>nc20091382</td>\n",
       "    </tr>\n",
       "    <tr>\n",
       "      <th>6</th>\n",
       "      <td>Feature</td>\n",
       "      <td>{'mag': 1.51, 'place': '4km SE of Apple Valley...</td>\n",
       "      <td>{'type': 'Point', 'coordinates': [-117.157, 34...</td>\n",
       "      <td>ci142885</td>\n",
       "    </tr>\n",
       "    <tr>\n",
       "      <th>7</th>\n",
       "      <td>Feature</td>\n",
       "      <td>{'mag': 3.2, 'place': 'Northern California', '...</td>\n",
       "      <td>{'type': 'Point', 'coordinates': [-121.9786667...</td>\n",
       "      <td>nc20091390</td>\n",
       "    </tr>\n",
       "    <tr>\n",
       "      <th>8</th>\n",
       "      <td>Feature</td>\n",
       "      <td>{'mag': 1.6, 'place': 'Northern California', '...</td>\n",
       "      <td>{'type': 'Point', 'coordinates': [-121.8846667...</td>\n",
       "      <td>nc20091380</td>\n",
       "    </tr>\n",
       "    <tr>\n",
       "      <th>9</th>\n",
       "      <td>Feature</td>\n",
       "      <td>{'mag': 1.08, 'place': 'Northern California', ...</td>\n",
       "      <td>{'type': 'Point', 'coordinates': [-121.6733333...</td>\n",
       "      <td>nc20091391</td>\n",
       "    </tr>\n",
       "    <tr>\n",
       "      <th>10</th>\n",
       "      <td>Feature</td>\n",
       "      <td>{'mag': 1.32, 'place': 'Northern California', ...</td>\n",
       "      <td>{'type': 'Point', 'coordinates': [-121.982, 37...</td>\n",
       "      <td>nc20091389</td>\n",
       "    </tr>\n",
       "    <tr>\n",
       "      <th>11</th>\n",
       "      <td>Feature</td>\n",
       "      <td>{'mag': 1.17, 'place': 'Northern California', ...</td>\n",
       "      <td>{'type': 'Point', 'coordinates': [-121.9716667...</td>\n",
       "      <td>nc20091375</td>\n",
       "    </tr>\n",
       "    <tr>\n",
       "      <th>12</th>\n",
       "      <td>Feature</td>\n",
       "      <td>{'mag': 1.27, 'place': 'Northern California', ...</td>\n",
       "      <td>{'type': 'Point', 'coordinates': [-121.8148333...</td>\n",
       "      <td>nc20091374</td>\n",
       "    </tr>\n",
       "    <tr>\n",
       "      <th>13</th>\n",
       "      <td>Feature</td>\n",
       "      <td>{'mag': 1.81, 'place': 'Central California', '...</td>\n",
       "      <td>{'type': 'Point', 'coordinates': [-121.5628333...</td>\n",
       "      <td>nc20091373</td>\n",
       "    </tr>\n",
       "    <tr>\n",
       "      <th>14</th>\n",
       "      <td>Feature</td>\n",
       "      <td>{'mag': 2.19, 'place': 'Northern California', ...</td>\n",
       "      <td>{'type': 'Point', 'coordinates': [-121.9788333...</td>\n",
       "      <td>nc20091379</td>\n",
       "    </tr>\n",
       "    <tr>\n",
       "      <th>15</th>\n",
       "      <td>Feature</td>\n",
       "      <td>{'mag': 1.69, 'place': 'Northern California', ...</td>\n",
       "      <td>{'type': 'Point', 'coordinates': [-121.6823333...</td>\n",
       "      <td>nc20091378</td>\n",
       "    </tr>\n",
       "    <tr>\n",
       "      <th>16</th>\n",
       "      <td>Feature</td>\n",
       "      <td>{'mag': 1.56, 'place': 'Northern California', ...</td>\n",
       "      <td>{'type': 'Point', 'coordinates': [-121.8381667...</td>\n",
       "      <td>nc20091377</td>\n",
       "    </tr>\n",
       "    <tr>\n",
       "      <th>17</th>\n",
       "      <td>Feature</td>\n",
       "      <td>{'mag': 1.43, 'place': 'Northern California', ...</td>\n",
       "      <td>{'type': 'Point', 'coordinates': [-121.9418333...</td>\n",
       "      <td>nc20091372</td>\n",
       "    </tr>\n",
       "    <tr>\n",
       "      <th>18</th>\n",
       "      <td>Feature</td>\n",
       "      <td>{'mag': 1.59, 'place': 'Northern California', ...</td>\n",
       "      <td>{'type': 'Point', 'coordinates': [-121.8523333...</td>\n",
       "      <td>nc20091371</td>\n",
       "    </tr>\n",
       "    <tr>\n",
       "      <th>19</th>\n",
       "      <td>Feature</td>\n",
       "      <td>{'mag': 1.13, 'place': 'Northern California', ...</td>\n",
       "      <td>{'type': 'Point', 'coordinates': [-121.7365, 3...</td>\n",
       "      <td>nc20091376</td>\n",
       "    </tr>\n",
       "  </tbody>\n",
       "</table>\n",
       "</div>"
      ],
      "text/plain": [
       "       type                                         properties  \\\n",
       "0   Feature  {'mag': 1.42, 'place': 'Northern California', ...   \n",
       "1   Feature  {'mag': 1.85, 'place': 'Northern California', ...   \n",
       "2   Feature  {'mag': 1.98, 'place': 'Northern California', ...   \n",
       "3   Feature  {'mag': 2.09, 'place': 'Northern California', ...   \n",
       "4   Feature  {'mag': 1.65, 'place': 'Northern California', ...   \n",
       "5   Feature  {'mag': 1.36, 'place': 'Northern California', ...   \n",
       "6   Feature  {'mag': 1.51, 'place': '4km SE of Apple Valley...   \n",
       "7   Feature  {'mag': 3.2, 'place': 'Northern California', '...   \n",
       "8   Feature  {'mag': 1.6, 'place': 'Northern California', '...   \n",
       "9   Feature  {'mag': 1.08, 'place': 'Northern California', ...   \n",
       "10  Feature  {'mag': 1.32, 'place': 'Northern California', ...   \n",
       "11  Feature  {'mag': 1.17, 'place': 'Northern California', ...   \n",
       "12  Feature  {'mag': 1.27, 'place': 'Northern California', ...   \n",
       "13  Feature  {'mag': 1.81, 'place': 'Central California', '...   \n",
       "14  Feature  {'mag': 2.19, 'place': 'Northern California', ...   \n",
       "15  Feature  {'mag': 1.69, 'place': 'Northern California', ...   \n",
       "16  Feature  {'mag': 1.56, 'place': 'Northern California', ...   \n",
       "17  Feature  {'mag': 1.43, 'place': 'Northern California', ...   \n",
       "18  Feature  {'mag': 1.59, 'place': 'Northern California', ...   \n",
       "19  Feature  {'mag': 1.13, 'place': 'Northern California', ...   \n",
       "\n",
       "                                             geometry          id  \n",
       "0   {'type': 'Point', 'coordinates': [-121.9451667...    nc263323  \n",
       "1   {'type': 'Point', 'coordinates': [-121.7233333...    nc263322  \n",
       "2   {'type': 'Point', 'coordinates': [-122.0328333...    nc263321  \n",
       "3   {'type': 'Point', 'coordinates': [-121.8541667...  nc20091394  \n",
       "4   {'type': 'Point', 'coordinates': [-121.6363333...  nc20091383  \n",
       "5   {'type': 'Point', 'coordinates': [-121.711, 36...  nc20091382  \n",
       "6   {'type': 'Point', 'coordinates': [-117.157, 34...    ci142885  \n",
       "7   {'type': 'Point', 'coordinates': [-121.9786667...  nc20091390  \n",
       "8   {'type': 'Point', 'coordinates': [-121.8846667...  nc20091380  \n",
       "9   {'type': 'Point', 'coordinates': [-121.6733333...  nc20091391  \n",
       "10  {'type': 'Point', 'coordinates': [-121.982, 37...  nc20091389  \n",
       "11  {'type': 'Point', 'coordinates': [-121.9716667...  nc20091375  \n",
       "12  {'type': 'Point', 'coordinates': [-121.8148333...  nc20091374  \n",
       "13  {'type': 'Point', 'coordinates': [-121.5628333...  nc20091373  \n",
       "14  {'type': 'Point', 'coordinates': [-121.9788333...  nc20091379  \n",
       "15  {'type': 'Point', 'coordinates': [-121.6823333...  nc20091378  \n",
       "16  {'type': 'Point', 'coordinates': [-121.8381667...  nc20091377  \n",
       "17  {'type': 'Point', 'coordinates': [-121.9418333...  nc20091372  \n",
       "18  {'type': 'Point', 'coordinates': [-121.8523333...  nc20091371  \n",
       "19  {'type': 'Point', 'coordinates': [-121.7365, 3...  nc20091376  "
      ]
     },
     "execution_count": 10,
     "metadata": {},
     "output_type": "execute_result"
    }
   ],
   "source": [
    "df_eq = pd.DataFrame(USGS_EQ_features,\n",
    "                        )\n",
    "\n",
    "df_eq.head(20)"
   ]
  },
  {
   "cell_type": "code",
   "execution_count": 11,
   "metadata": {},
   "outputs": [
    {
     "data": {
      "text/html": [
       "<div>\n",
       "<style scoped>\n",
       "    .dataframe tbody tr th:only-of-type {\n",
       "        vertical-align: middle;\n",
       "    }\n",
       "\n",
       "    .dataframe tbody tr th {\n",
       "        vertical-align: top;\n",
       "    }\n",
       "\n",
       "    .dataframe thead th {\n",
       "        text-align: right;\n",
       "    }\n",
       "</style>\n",
       "<table border=\"1\" class=\"dataframe\">\n",
       "  <thead>\n",
       "    <tr style=\"text-align: right;\">\n",
       "      <th></th>\n",
       "      <th>geometry</th>\n",
       "    </tr>\n",
       "  </thead>\n",
       "  <tbody>\n",
       "    <tr>\n",
       "      <th>0</th>\n",
       "      <td>{'type': 'Point', 'coordinates': [-121.9451667...</td>\n",
       "    </tr>\n",
       "    <tr>\n",
       "      <th>1</th>\n",
       "      <td>{'type': 'Point', 'coordinates': [-121.7233333...</td>\n",
       "    </tr>\n",
       "    <tr>\n",
       "      <th>2</th>\n",
       "      <td>{'type': 'Point', 'coordinates': [-122.0328333...</td>\n",
       "    </tr>\n",
       "    <tr>\n",
       "      <th>3</th>\n",
       "      <td>{'type': 'Point', 'coordinates': [-121.8541667...</td>\n",
       "    </tr>\n",
       "    <tr>\n",
       "      <th>4</th>\n",
       "      <td>{'type': 'Point', 'coordinates': [-121.6363333...</td>\n",
       "    </tr>\n",
       "    <tr>\n",
       "      <th>...</th>\n",
       "      <td>...</td>\n",
       "    </tr>\n",
       "    <tr>\n",
       "      <th>1266</th>\n",
       "      <td>{'type': 'Point', 'coordinates': [-124.6783333...</td>\n",
       "    </tr>\n",
       "    <tr>\n",
       "      <th>1267</th>\n",
       "      <td>{'type': 'Point', 'coordinates': [-115.594, 33...</td>\n",
       "    </tr>\n",
       "    <tr>\n",
       "      <th>1268</th>\n",
       "      <td>{'type': 'Point', 'coordinates': [-117.939, 32...</td>\n",
       "    </tr>\n",
       "    <tr>\n",
       "      <th>1269</th>\n",
       "      <td>{'type': 'Point', 'coordinates': [-115.586, 33...</td>\n",
       "    </tr>\n",
       "    <tr>\n",
       "      <th>1270</th>\n",
       "      <td>{'type': 'Point', 'coordinates': [-125.2123333...</td>\n",
       "    </tr>\n",
       "  </tbody>\n",
       "</table>\n",
       "<p>1271 rows × 1 columns</p>\n",
       "</div>"
      ],
      "text/plain": [
       "                                               geometry\n",
       "0     {'type': 'Point', 'coordinates': [-121.9451667...\n",
       "1     {'type': 'Point', 'coordinates': [-121.7233333...\n",
       "2     {'type': 'Point', 'coordinates': [-122.0328333...\n",
       "3     {'type': 'Point', 'coordinates': [-121.8541667...\n",
       "4     {'type': 'Point', 'coordinates': [-121.6363333...\n",
       "...                                                 ...\n",
       "1266  {'type': 'Point', 'coordinates': [-124.6783333...\n",
       "1267  {'type': 'Point', 'coordinates': [-115.594, 33...\n",
       "1268  {'type': 'Point', 'coordinates': [-117.939, 32...\n",
       "1269  {'type': 'Point', 'coordinates': [-115.586, 33...\n",
       "1270  {'type': 'Point', 'coordinates': [-125.2123333...\n",
       "\n",
       "[1271 rows x 1 columns]"
      ]
     },
     "execution_count": 11,
     "metadata": {},
     "output_type": "execute_result"
    }
   ],
   "source": [
    "pd.DataFrame(df_eq[\"geometry\"])"
   ]
  },
  {
   "cell_type": "code",
   "execution_count": 12,
   "metadata": {},
   "outputs": [
    {
     "data": {
      "text/plain": [
       "1271"
      ]
     },
     "execution_count": 12,
     "metadata": {},
     "output_type": "execute_result"
    }
   ],
   "source": [
    "df_eq.shape[0]"
   ]
  },
  {
   "cell_type": "code",
   "execution_count": 13,
   "metadata": {},
   "outputs": [
    {
     "data": {
      "text/html": [
       "<div>\n",
       "<style scoped>\n",
       "    .dataframe tbody tr th:only-of-type {\n",
       "        vertical-align: middle;\n",
       "    }\n",
       "\n",
       "    .dataframe tbody tr th {\n",
       "        vertical-align: top;\n",
       "    }\n",
       "\n",
       "    .dataframe thead th {\n",
       "        text-align: right;\n",
       "    }\n",
       "</style>\n",
       "<table border=\"1\" class=\"dataframe\">\n",
       "  <thead>\n",
       "    <tr style=\"text-align: right;\">\n",
       "      <th></th>\n",
       "      <th>mag</th>\n",
       "      <th>place</th>\n",
       "      <th>time</th>\n",
       "      <th>updated</th>\n",
       "      <th>tz</th>\n",
       "      <th>url</th>\n",
       "      <th>detail</th>\n",
       "      <th>felt</th>\n",
       "      <th>cdi</th>\n",
       "      <th>mmi</th>\n",
       "      <th>...</th>\n",
       "      <th>sources</th>\n",
       "      <th>types</th>\n",
       "      <th>nst</th>\n",
       "      <th>dmin</th>\n",
       "      <th>rms</th>\n",
       "      <th>gap</th>\n",
       "      <th>magType</th>\n",
       "      <th>type</th>\n",
       "      <th>title</th>\n",
       "      <th>index</th>\n",
       "    </tr>\n",
       "  </thead>\n",
       "  <tbody>\n",
       "    <tr>\n",
       "      <th>0</th>\n",
       "      <td>1.42</td>\n",
       "      <td>Northern California</td>\n",
       "      <td>624757977010</td>\n",
       "      <td>1481291793752</td>\n",
       "      <td>None</td>\n",
       "      <td>https://earthquake.usgs.gov/earthquakes/eventp...</td>\n",
       "      <td>https://earthquake.usgs.gov/fdsnws/event/1/que...</td>\n",
       "      <td>None</td>\n",
       "      <td>None</td>\n",
       "      <td>None</td>\n",
       "      <td>...</td>\n",
       "      <td>,nc,</td>\n",
       "      <td>,nearby-cities,origin,phase-data,</td>\n",
       "      <td>11</td>\n",
       "      <td>0.02342</td>\n",
       "      <td>0.03</td>\n",
       "      <td>70</td>\n",
       "      <td>md</td>\n",
       "      <td>earthquake</td>\n",
       "      <td>M 1.4 - Northern California</td>\n",
       "      <td>0</td>\n",
       "    </tr>\n",
       "  </tbody>\n",
       "</table>\n",
       "<p>1 rows × 27 columns</p>\n",
       "</div>"
      ],
      "text/plain": [
       "    mag                place          time        updated    tz  \\\n",
       "0  1.42  Northern California  624757977010  1481291793752  None   \n",
       "\n",
       "                                                 url  \\\n",
       "0  https://earthquake.usgs.gov/earthquakes/eventp...   \n",
       "\n",
       "                                              detail  felt   cdi   mmi  ...  \\\n",
       "0  https://earthquake.usgs.gov/fdsnws/event/1/que...  None  None  None  ...   \n",
       "\n",
       "  sources                              types nst     dmin   rms gap magType  \\\n",
       "0    ,nc,  ,nearby-cities,origin,phase-data,  11  0.02342  0.03  70      md   \n",
       "\n",
       "         type                        title index  \n",
       "0  earthquake  M 1.4 - Northern California     0  \n",
       "\n",
       "[1 rows x 27 columns]"
      ]
     },
     "execution_count": 13,
     "metadata": {},
     "output_type": "execute_result"
    }
   ],
   "source": [
    "\n",
    "H = df_eq[\"properties\"][0]\n",
    "\n",
    "df_1 = pd.DataFrame.from_dict(H, orient='index').T\n",
    "df_1[\"index\"] = 0\n",
    "\n",
    "df_1"
   ]
  },
  {
   "cell_type": "code",
   "execution_count": 14,
   "metadata": {},
   "outputs": [
    {
     "data": {
      "text/html": [
       "<div>\n",
       "<style scoped>\n",
       "    .dataframe tbody tr th:only-of-type {\n",
       "        vertical-align: middle;\n",
       "    }\n",
       "\n",
       "    .dataframe tbody tr th {\n",
       "        vertical-align: top;\n",
       "    }\n",
       "\n",
       "    .dataframe thead th {\n",
       "        text-align: right;\n",
       "    }\n",
       "</style>\n",
       "<table border=\"1\" class=\"dataframe\">\n",
       "  <thead>\n",
       "    <tr style=\"text-align: right;\">\n",
       "      <th></th>\n",
       "      <th>type</th>\n",
       "      <th>coordinates</th>\n",
       "      <th>index</th>\n",
       "    </tr>\n",
       "  </thead>\n",
       "  <tbody>\n",
       "    <tr>\n",
       "      <th>0</th>\n",
       "      <td>Point</td>\n",
       "      <td>[-121.9451667, 37.1483333, 6.129]</td>\n",
       "      <td>0</td>\n",
       "    </tr>\n",
       "  </tbody>\n",
       "</table>\n",
       "</div>"
      ],
      "text/plain": [
       "    type                        coordinates  index\n",
       "0  Point  [-121.9451667, 37.1483333, 6.129]      0"
      ]
     },
     "execution_count": 14,
     "metadata": {},
     "output_type": "execute_result"
    }
   ],
   "source": [
    "H = df_eq[\"geometry\"][0]\n",
    "df_2 = pd.DataFrame.from_dict(H, orient='index').T\n",
    "df_2[\"index\"] = 0\n",
    "\n",
    "\n",
    "df_2"
   ]
  },
  {
   "cell_type": "code",
   "execution_count": 15,
   "metadata": {},
   "outputs": [
    {
     "data": {
      "text/html": [
       "<div>\n",
       "<style scoped>\n",
       "    .dataframe tbody tr th:only-of-type {\n",
       "        vertical-align: middle;\n",
       "    }\n",
       "\n",
       "    .dataframe tbody tr th {\n",
       "        vertical-align: top;\n",
       "    }\n",
       "\n",
       "    .dataframe thead th {\n",
       "        text-align: right;\n",
       "    }\n",
       "</style>\n",
       "<table border=\"1\" class=\"dataframe\">\n",
       "  <thead>\n",
       "    <tr style=\"text-align: right;\">\n",
       "      <th></th>\n",
       "      <th>mag</th>\n",
       "      <th>place</th>\n",
       "      <th>time</th>\n",
       "      <th>updated</th>\n",
       "      <th>tz</th>\n",
       "      <th>url</th>\n",
       "      <th>detail</th>\n",
       "      <th>felt</th>\n",
       "      <th>cdi</th>\n",
       "      <th>mmi</th>\n",
       "      <th>...</th>\n",
       "      <th>dmin</th>\n",
       "      <th>rms</th>\n",
       "      <th>gap</th>\n",
       "      <th>magType</th>\n",
       "      <th>type</th>\n",
       "      <th>title</th>\n",
       "      <th>index</th>\n",
       "      <th>type</th>\n",
       "      <th>coordinates</th>\n",
       "      <th>index</th>\n",
       "    </tr>\n",
       "  </thead>\n",
       "  <tbody>\n",
       "    <tr>\n",
       "      <th>0</th>\n",
       "      <td>1.42</td>\n",
       "      <td>Northern California</td>\n",
       "      <td>624757977010</td>\n",
       "      <td>1481291793752</td>\n",
       "      <td>None</td>\n",
       "      <td>https://earthquake.usgs.gov/earthquakes/eventp...</td>\n",
       "      <td>https://earthquake.usgs.gov/fdsnws/event/1/que...</td>\n",
       "      <td>None</td>\n",
       "      <td>None</td>\n",
       "      <td>None</td>\n",
       "      <td>...</td>\n",
       "      <td>0.02342</td>\n",
       "      <td>0.03</td>\n",
       "      <td>70</td>\n",
       "      <td>md</td>\n",
       "      <td>earthquake</td>\n",
       "      <td>M 1.4 - Northern California</td>\n",
       "      <td>0</td>\n",
       "      <td>Point</td>\n",
       "      <td>[-121.9451667, 37.1483333, 6.129]</td>\n",
       "      <td>0</td>\n",
       "    </tr>\n",
       "  </tbody>\n",
       "</table>\n",
       "<p>1 rows × 30 columns</p>\n",
       "</div>"
      ],
      "text/plain": [
       "    mag                place          time        updated    tz  \\\n",
       "0  1.42  Northern California  624757977010  1481291793752  None   \n",
       "\n",
       "                                                 url  \\\n",
       "0  https://earthquake.usgs.gov/earthquakes/eventp...   \n",
       "\n",
       "                                              detail  felt   cdi   mmi  ...  \\\n",
       "0  https://earthquake.usgs.gov/fdsnws/event/1/que...  None  None  None  ...   \n",
       "\n",
       "      dmin   rms gap magType        type                        title index  \\\n",
       "0  0.02342  0.03  70      md  earthquake  M 1.4 - Northern California     0   \n",
       "\n",
       "    type                        coordinates index  \n",
       "0  Point  [-121.9451667, 37.1483333, 6.129]     0  \n",
       "\n",
       "[1 rows x 30 columns]"
      ]
     },
     "execution_count": 15,
     "metadata": {},
     "output_type": "execute_result"
    }
   ],
   "source": [
    "df_3 = pd.concat([df_1, df_2], axis=1)\n",
    "\n",
    "df_3"
   ]
  },
  {
   "cell_type": "markdown",
   "metadata": {},
   "source": [
    "Opening the nested json file"
   ]
  },
  {
   "cell_type": "code",
   "execution_count": 16,
   "metadata": {},
   "outputs": [],
   "source": [
    "df_4 = pd.DataFrame()\n",
    "\n",
    "for i in range(df_eq.shape[0]):\n",
    "    H = df_eq[\"properties\"][i]\n",
    "    df_1 = pd.DataFrame.from_dict(H, orient='index').T\n",
    "    df_1[\"index\"] = i\n",
    "    \n",
    "    H = df_eq[\"geometry\"][i]\n",
    "    df_2 = pd.DataFrame.from_dict(H, orient='index').T\n",
    "    df_2[\"index\"] = i\n",
    "    \n",
    "    df_3 = pd.concat([df_1, df_2], axis=1)\n",
    "    \n",
    "    df_4= df_4.append(df_3)\n",
    "\n",
    "df_eq_parsed_properties = df_4"
   ]
  },
  {
   "cell_type": "code",
   "execution_count": 17,
   "metadata": {},
   "outputs": [
    {
     "data": {
      "text/html": [
       "<div>\n",
       "<style scoped>\n",
       "    .dataframe tbody tr th:only-of-type {\n",
       "        vertical-align: middle;\n",
       "    }\n",
       "\n",
       "    .dataframe tbody tr th {\n",
       "        vertical-align: top;\n",
       "    }\n",
       "\n",
       "    .dataframe thead th {\n",
       "        text-align: right;\n",
       "    }\n",
       "</style>\n",
       "<table border=\"1\" class=\"dataframe\">\n",
       "  <thead>\n",
       "    <tr style=\"text-align: right;\">\n",
       "      <th></th>\n",
       "      <th>mag</th>\n",
       "      <th>place</th>\n",
       "      <th>time</th>\n",
       "      <th>updated</th>\n",
       "      <th>tz</th>\n",
       "      <th>url</th>\n",
       "      <th>detail</th>\n",
       "      <th>felt</th>\n",
       "      <th>cdi</th>\n",
       "      <th>mmi</th>\n",
       "      <th>...</th>\n",
       "      <th>dmin</th>\n",
       "      <th>rms</th>\n",
       "      <th>gap</th>\n",
       "      <th>magType</th>\n",
       "      <th>type</th>\n",
       "      <th>title</th>\n",
       "      <th>index</th>\n",
       "      <th>type</th>\n",
       "      <th>coordinates</th>\n",
       "      <th>index</th>\n",
       "    </tr>\n",
       "  </thead>\n",
       "  <tbody>\n",
       "    <tr>\n",
       "      <th>0</th>\n",
       "      <td>2.29</td>\n",
       "      <td>offshore Northern California</td>\n",
       "      <td>623909884350</td>\n",
       "      <td>1481284519663</td>\n",
       "      <td>None</td>\n",
       "      <td>https://earthquake.usgs.gov/earthquakes/eventp...</td>\n",
       "      <td>https://earthquake.usgs.gov/fdsnws/event/1/que...</td>\n",
       "      <td>None</td>\n",
       "      <td>None</td>\n",
       "      <td>None</td>\n",
       "      <td>...</td>\n",
       "      <td>0.3378</td>\n",
       "      <td>0.05</td>\n",
       "      <td>268</td>\n",
       "      <td>md</td>\n",
       "      <td>earthquake</td>\n",
       "      <td>M 2.3 - offshore Northern California</td>\n",
       "      <td>1266</td>\n",
       "      <td>Point</td>\n",
       "      <td>[-124.6783333, 40.2603333, 15.54]</td>\n",
       "      <td>1266</td>\n",
       "    </tr>\n",
       "    <tr>\n",
       "      <th>0</th>\n",
       "      <td>2.11</td>\n",
       "      <td>9km NW of Calipatria, CA</td>\n",
       "      <td>623908458030</td>\n",
       "      <td>1454536316730</td>\n",
       "      <td>None</td>\n",
       "      <td>https://earthquake.usgs.gov/earthquakes/eventp...</td>\n",
       "      <td>https://earthquake.usgs.gov/fdsnws/event/1/que...</td>\n",
       "      <td>None</td>\n",
       "      <td>None</td>\n",
       "      <td>None</td>\n",
       "      <td>...</td>\n",
       "      <td>None</td>\n",
       "      <td>0.137</td>\n",
       "      <td>59.3</td>\n",
       "      <td>mc</td>\n",
       "      <td>earthquake</td>\n",
       "      <td>M 2.1 - 9km NW of Calipatria, CA</td>\n",
       "      <td>1267</td>\n",
       "      <td>Point</td>\n",
       "      <td>[-115.594, 33.177, 0.985]</td>\n",
       "      <td>1267</td>\n",
       "    </tr>\n",
       "    <tr>\n",
       "      <th>0</th>\n",
       "      <td>2.85</td>\n",
       "      <td>49km SE of San Clemente Is. (SE tip), CA</td>\n",
       "      <td>623902501850</td>\n",
       "      <td>1454533920790</td>\n",
       "      <td>None</td>\n",
       "      <td>https://earthquake.usgs.gov/earthquakes/eventp...</td>\n",
       "      <td>https://earthquake.usgs.gov/fdsnws/event/1/que...</td>\n",
       "      <td>None</td>\n",
       "      <td>None</td>\n",
       "      <td>None</td>\n",
       "      <td>...</td>\n",
       "      <td>None</td>\n",
       "      <td>0.33</td>\n",
       "      <td>223.5</td>\n",
       "      <td>mc</td>\n",
       "      <td>earthquake</td>\n",
       "      <td>M 2.9 - 49km SE of San Clemente Is. (SE tip), CA</td>\n",
       "      <td>1268</td>\n",
       "      <td>Point</td>\n",
       "      <td>[-117.939, 32.541, 5.826]</td>\n",
       "      <td>1268</td>\n",
       "    </tr>\n",
       "    <tr>\n",
       "      <th>0</th>\n",
       "      <td>1.6</td>\n",
       "      <td>7km WNW of Calipatria, CA</td>\n",
       "      <td>623902070370</td>\n",
       "      <td>1454529215400</td>\n",
       "      <td>None</td>\n",
       "      <td>https://earthquake.usgs.gov/earthquakes/eventp...</td>\n",
       "      <td>https://earthquake.usgs.gov/fdsnws/event/1/que...</td>\n",
       "      <td>None</td>\n",
       "      <td>None</td>\n",
       "      <td>None</td>\n",
       "      <td>...</td>\n",
       "      <td>None</td>\n",
       "      <td>0.144</td>\n",
       "      <td>177.7</td>\n",
       "      <td>mc</td>\n",
       "      <td>earthquake</td>\n",
       "      <td>M 1.6 - 7km WNW of Calipatria, CA</td>\n",
       "      <td>1269</td>\n",
       "      <td>Point</td>\n",
       "      <td>[-115.586, 33.144, 5.137]</td>\n",
       "      <td>1269</td>\n",
       "    </tr>\n",
       "    <tr>\n",
       "      <th>0</th>\n",
       "      <td>3</td>\n",
       "      <td>offshore Northern California</td>\n",
       "      <td>623900322380</td>\n",
       "      <td>1481284512098</td>\n",
       "      <td>None</td>\n",
       "      <td>https://earthquake.usgs.gov/earthquakes/eventp...</td>\n",
       "      <td>https://earthquake.usgs.gov/fdsnws/event/1/que...</td>\n",
       "      <td>None</td>\n",
       "      <td>None</td>\n",
       "      <td>None</td>\n",
       "      <td>...</td>\n",
       "      <td>0.6865</td>\n",
       "      <td>0.17</td>\n",
       "      <td>286</td>\n",
       "      <td>ml</td>\n",
       "      <td>earthquake</td>\n",
       "      <td>M 3.0 - offshore Northern California</td>\n",
       "      <td>1270</td>\n",
       "      <td>Point</td>\n",
       "      <td>[-125.2123333, 40.634, 1.805]</td>\n",
       "      <td>1270</td>\n",
       "    </tr>\n",
       "  </tbody>\n",
       "</table>\n",
       "<p>5 rows × 30 columns</p>\n",
       "</div>"
      ],
      "text/plain": [
       "    mag                                     place          time  \\\n",
       "0  2.29              offshore Northern California  623909884350   \n",
       "0  2.11                  9km NW of Calipatria, CA  623908458030   \n",
       "0  2.85  49km SE of San Clemente Is. (SE tip), CA  623902501850   \n",
       "0   1.6                 7km WNW of Calipatria, CA  623902070370   \n",
       "0     3              offshore Northern California  623900322380   \n",
       "\n",
       "         updated    tz                                                url  \\\n",
       "0  1481284519663  None  https://earthquake.usgs.gov/earthquakes/eventp...   \n",
       "0  1454536316730  None  https://earthquake.usgs.gov/earthquakes/eventp...   \n",
       "0  1454533920790  None  https://earthquake.usgs.gov/earthquakes/eventp...   \n",
       "0  1454529215400  None  https://earthquake.usgs.gov/earthquakes/eventp...   \n",
       "0  1481284512098  None  https://earthquake.usgs.gov/earthquakes/eventp...   \n",
       "\n",
       "                                              detail  felt   cdi   mmi  ...  \\\n",
       "0  https://earthquake.usgs.gov/fdsnws/event/1/que...  None  None  None  ...   \n",
       "0  https://earthquake.usgs.gov/fdsnws/event/1/que...  None  None  None  ...   \n",
       "0  https://earthquake.usgs.gov/fdsnws/event/1/que...  None  None  None  ...   \n",
       "0  https://earthquake.usgs.gov/fdsnws/event/1/que...  None  None  None  ...   \n",
       "0  https://earthquake.usgs.gov/fdsnws/event/1/que...  None  None  None  ...   \n",
       "\n",
       "     dmin    rms    gap magType        type  \\\n",
       "0  0.3378   0.05    268      md  earthquake   \n",
       "0    None  0.137   59.3      mc  earthquake   \n",
       "0    None   0.33  223.5      mc  earthquake   \n",
       "0    None  0.144  177.7      mc  earthquake   \n",
       "0  0.6865   0.17    286      ml  earthquake   \n",
       "\n",
       "                                              title index   type  \\\n",
       "0              M 2.3 - offshore Northern California  1266  Point   \n",
       "0                  M 2.1 - 9km NW of Calipatria, CA  1267  Point   \n",
       "0  M 2.9 - 49km SE of San Clemente Is. (SE tip), CA  1268  Point   \n",
       "0                 M 1.6 - 7km WNW of Calipatria, CA  1269  Point   \n",
       "0              M 3.0 - offshore Northern California  1270  Point   \n",
       "\n",
       "                         coordinates index  \n",
       "0  [-124.6783333, 40.2603333, 15.54]  1266  \n",
       "0          [-115.594, 33.177, 0.985]  1267  \n",
       "0          [-117.939, 32.541, 5.826]  1268  \n",
       "0          [-115.586, 33.144, 5.137]  1269  \n",
       "0      [-125.2123333, 40.634, 1.805]  1270  \n",
       "\n",
       "[5 rows x 30 columns]"
      ]
     },
     "execution_count": 17,
     "metadata": {},
     "output_type": "execute_result"
    }
   ],
   "source": [
    "df_eq_parsed_properties.tail()"
   ]
  },
  {
   "cell_type": "code",
   "execution_count": 18,
   "metadata": {},
   "outputs": [
    {
     "data": {
      "image/png": "[encoded data removed]",
      "text/plain": [
       "<Figure size 576x360 with 1 Axes>"
      ]
     },
     "metadata": {
      "image/png": {
       "height": 336,
       "width": 504
      },
      "needs_background": "light"
     },
     "output_type": "display_data"
    }
   ],
   "source": [
    "%config InlineBackend.figure_format = 'retina'\n",
    "\n",
    "plt.figure(figsize = [8, 5])\n",
    "\n",
    "plt.plot(df_eq_parsed_properties.time,df_eq_parsed_properties.mag);\n",
    "\n",
    "# Format title and axis labels\n",
    "plt.title(\"EQ parameters\", fontsize = 15);\n",
    "\n",
    "plt.xlabel(\"Time\", fontsize = 12);\n",
    "plt.ylabel(\"Magnitude\", fontsize = 12);"
   ]
  },
  {
   "cell_type": "code",
   "execution_count": 19,
   "metadata": {},
   "outputs": [],
   "source": [
    "file_path = \"../datasets/\" + \"eq_loma_prieta\" + \"_raw\" + \".csv\"\n",
    "df_eq_parsed_properties.to_csv(file_path)"
   ]
  },
  {
   "cell_type": "code",
   "execution_count": null,
   "metadata": {},
   "outputs": [],
   "source": []
  },
  {
   "cell_type": "code",
   "execution_count": null,
   "metadata": {},
   "outputs": [],
   "source": []
  },
  {
   "cell_type": "markdown",
   "metadata": {},
   "source": [
    "### 02. Reading in the Parkfield EQ data:"
   ]
  },
  {
   "cell_type": "code",
   "execution_count": 20,
   "metadata": {},
   "outputs": [],
   "source": [
    "get_format = \"geojson\" # Format for importing data\n",
    "\n",
    "min_date = \"2004-09-19\" # Minimum date for reporting the data\n",
    "max_date = \"2004-09-29\" # Maximum date for reporting the data\n",
    "\n",
    "min_magnitude = \"1\" # Minimum magnitude of the reporting data\n",
    "max_magnitude = \"10\" # Maximum magnitude of the reporting data\n",
    "\n",
    "min_latitude = \"32\" # Minimum latitude\n",
    "max_latitude = \"42\" # Maximum latitude\n",
    "\n",
    "min_longitude = \"-126\" # Minimum longitude\n",
    "max_longitude = \"-114\" # Maximum longitude\n",
    "\n",
    "order_by = \"time\" # Ordering the data by parameters\n",
    "limit_data = \"2000\" # Maximum number of data\n",
    "\n",
    "Params = [get_format, min_date, max_date, min_magnitude, max_magnitude, \n",
    "          min_latitude, max_latitude, min_longitude, max_longitude, order_by, \n",
    "          limit_data]\n",
    "\n",
    "USGS_EQ_data_pull = get_EQ_USGS(Params)"
   ]
  },
  {
   "cell_type": "code",
   "execution_count": 21,
   "metadata": {},
   "outputs": [],
   "source": [
    "USGS_EQ_features = USGS_EQ_data_pull[\"features\"]\n",
    "\n",
    "df_eq = pd.DataFrame(USGS_EQ_features,\n",
    "                        )\n",
    "df_4 = pd.DataFrame()\n",
    "\n",
    "for i in range(df_eq.shape[0]):\n",
    "    H = df_eq[\"properties\"][i]\n",
    "    df_1 = pd.DataFrame.from_dict(H, orient='index').T\n",
    "    df_1[\"index\"] = i\n",
    "    \n",
    "    H = df_eq[\"geometry\"][i]\n",
    "    df_2 = pd.DataFrame.from_dict(H, orient='index').T\n",
    "    df_2[\"index\"] = i\n",
    "    \n",
    "    df_3 = pd.concat([df_1, df_2], axis=1)\n",
    "    \n",
    "    df_4= df_4.append(df_3)\n",
    "\n",
    "df_eq_parsed_properties = df_4\n",
    "\n"
   ]
  },
  {
   "cell_type": "code",
   "execution_count": 22,
   "metadata": {},
   "outputs": [
    {
     "data": {
      "text/plain": [
       "(2000, 30)"
      ]
     },
     "execution_count": 22,
     "metadata": {},
     "output_type": "execute_result"
    }
   ],
   "source": [
    "df_eq_parsed_properties.shape"
   ]
  },
  {
   "cell_type": "code",
   "execution_count": 23,
   "metadata": {},
   "outputs": [
    {
     "data": {
      "image/png": "[encoded data removed]",
      "text/plain": [
       "<Figure size 576x360 with 1 Axes>"
      ]
     },
     "metadata": {
      "image/png": {
       "height": 336,
       "width": 490
      },
      "needs_background": "light"
     },
     "output_type": "display_data"
    }
   ],
   "source": [
    "%config InlineBackend.figure_format = 'retina'\n",
    "\n",
    "plt.figure(figsize = [8, 5])\n",
    "\n",
    "plt.plot(df_eq_parsed_properties.time,df_eq_parsed_properties.mag);\n",
    "\n",
    "# Format title and axis labels\n",
    "plt.title(\"EQ parameters\", fontsize = 15);\n",
    "\n",
    "plt.xlabel(\"Time\", fontsize = 12);\n",
    "plt.ylabel(\"Magnitude\", fontsize = 12);"
   ]
  },
  {
   "cell_type": "code",
   "execution_count": 24,
   "metadata": {},
   "outputs": [],
   "source": [
    "file_path = \"../datasets/\" + \"eq_parkfield\" + \"_raw\" + \".csv\"\n",
    "df_eq_parsed_properties.to_csv(file_path)"
   ]
  },
  {
   "cell_type": "code",
   "execution_count": 30,
   "metadata": {},
   "outputs": [
    {
     "name": "stdout",
     "output_type": "stream",
     "text": [
      "Hello world!\n"
     ]
    }
   ],
   "source": [
    "print(\"Hello world!\")"
   ]
  }
 ],
 "metadata": {
  "kernelspec": {
   "display_name": "Python [conda env:dsi]",
   "language": "python",
   "name": "conda-env-dsi-py"
  },
  "language_info": {
   "codemirror_mode": {
    "name": "ipython",
    "version": 3
   },
   "file_extension": ".py",
   "mimetype": "text/x-python",
   "name": "python",
   "nbconvert_exporter": "python",
   "pygments_lexer": "ipython3",
   "version": "3.7.7"
  }
 },
 "nbformat": 4,
 "nbformat_minor": 4
}
