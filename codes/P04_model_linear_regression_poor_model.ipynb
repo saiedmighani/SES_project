{
 "cells": [
  {
   "cell_type": "markdown",
   "metadata": {},
   "source": [
    "## Time-series based analysis of Earthquake Risk Factors\n",
    "\n",
    "### Part 4: Performing linear regression"
   ]
  },
  {
   "cell_type": "markdown",
   "metadata": {},
   "source": [
    "Importing the required libraries:"
   ]
  },
  {
   "cell_type": "code",
   "execution_count": 16,
   "metadata": {},
   "outputs": [],
   "source": [
    "import requests\n",
    "import json\n",
    "import pandas as pd\n",
    "import numpy as np\n",
    "import pandas as pd\n",
    "import matplotlib.pyplot as plt\n",
    "\n",
    "from sklearn.linear_model import LinearRegression\n",
    "from sklearn.preprocessing import StandardScaler, PolynomialFeatures\n",
    "from sklearn.model_selection import train_test_split, cross_val_score\n",
    "\n",
    "\n",
    "import datetime as dt\n",
    "\n",
    "import seaborn as sns\n",
    "\n",
    "\n",
    "\n",
    "import pickle"
   ]
  },
  {
   "cell_type": "markdown",
   "metadata": {},
   "source": [
    "### Part 2.1: Prepping Loma Prieta EQ's:"
   ]
  },
  {
   "cell_type": "code",
   "execution_count": 17,
   "metadata": {},
   "outputs": [
    {
     "data": {
      "text/html": [
       "<div>\n",
       "<style scoped>\n",
       "    .dataframe tbody tr th:only-of-type {\n",
       "        vertical-align: middle;\n",
       "    }\n",
       "\n",
       "    .dataframe tbody tr th {\n",
       "        vertical-align: top;\n",
       "    }\n",
       "\n",
       "    .dataframe thead th {\n",
       "        text-align: right;\n",
       "    }\n",
       "</style>\n",
       "<table border=\"1\" class=\"dataframe\">\n",
       "  <thead>\n",
       "    <tr style=\"text-align: right;\">\n",
       "      <th></th>\n",
       "      <th>time</th>\n",
       "      <th>mag</th>\n",
       "      <th>sig</th>\n",
       "      <th>dmin</th>\n",
       "      <th>rms</th>\n",
       "      <th>gap</th>\n",
       "      <th>magType</th>\n",
       "      <th>longitude</th>\n",
       "      <th>latitude</th>\n",
       "      <th>depth</th>\n",
       "    </tr>\n",
       "  </thead>\n",
       "  <tbody>\n",
       "    <tr>\n",
       "      <th>0</th>\n",
       "      <td>1989-10-09 01:38:42.380</td>\n",
       "      <td>3.00</td>\n",
       "      <td>138</td>\n",
       "      <td>0.6865</td>\n",
       "      <td>0.170</td>\n",
       "      <td>286.0</td>\n",
       "      <td>ml</td>\n",
       "      <td>-125.212333</td>\n",
       "      <td>40.634000</td>\n",
       "      <td>1.805</td>\n",
       "    </tr>\n",
       "    <tr>\n",
       "      <th>1</th>\n",
       "      <td>1989-10-09 02:07:50.370</td>\n",
       "      <td>1.60</td>\n",
       "      <td>39</td>\n",
       "      <td>NaN</td>\n",
       "      <td>0.144</td>\n",
       "      <td>177.7</td>\n",
       "      <td>mc</td>\n",
       "      <td>-115.586000</td>\n",
       "      <td>33.144000</td>\n",
       "      <td>5.137</td>\n",
       "    </tr>\n",
       "    <tr>\n",
       "      <th>2</th>\n",
       "      <td>1989-10-09 02:15:01.850</td>\n",
       "      <td>2.85</td>\n",
       "      <td>125</td>\n",
       "      <td>NaN</td>\n",
       "      <td>0.330</td>\n",
       "      <td>223.5</td>\n",
       "      <td>mc</td>\n",
       "      <td>-117.939000</td>\n",
       "      <td>32.541000</td>\n",
       "      <td>5.826</td>\n",
       "    </tr>\n",
       "    <tr>\n",
       "      <th>3</th>\n",
       "      <td>1989-10-09 03:54:18.030</td>\n",
       "      <td>2.11</td>\n",
       "      <td>68</td>\n",
       "      <td>NaN</td>\n",
       "      <td>0.137</td>\n",
       "      <td>59.3</td>\n",
       "      <td>mc</td>\n",
       "      <td>-115.594000</td>\n",
       "      <td>33.177000</td>\n",
       "      <td>0.985</td>\n",
       "    </tr>\n",
       "    <tr>\n",
       "      <th>4</th>\n",
       "      <td>1989-10-09 04:18:04.350</td>\n",
       "      <td>2.29</td>\n",
       "      <td>81</td>\n",
       "      <td>0.3378</td>\n",
       "      <td>0.050</td>\n",
       "      <td>268.0</td>\n",
       "      <td>md</td>\n",
       "      <td>-124.678333</td>\n",
       "      <td>40.260333</td>\n",
       "      <td>15.540</td>\n",
       "    </tr>\n",
       "  </tbody>\n",
       "</table>\n",
       "</div>"
      ],
      "text/plain": [
       "                     time   mag  sig    dmin    rms    gap magType  \\\n",
       "0 1989-10-09 01:38:42.380  3.00  138  0.6865  0.170  286.0      ml   \n",
       "1 1989-10-09 02:07:50.370  1.60   39     NaN  0.144  177.7      mc   \n",
       "2 1989-10-09 02:15:01.850  2.85  125     NaN  0.330  223.5      mc   \n",
       "3 1989-10-09 03:54:18.030  2.11   68     NaN  0.137   59.3      mc   \n",
       "4 1989-10-09 04:18:04.350  2.29   81  0.3378  0.050  268.0      md   \n",
       "\n",
       "    longitude   latitude   depth  \n",
       "0 -125.212333  40.634000   1.805  \n",
       "1 -115.586000  33.144000   5.137  \n",
       "2 -117.939000  32.541000   5.826  \n",
       "3 -115.594000  33.177000   0.985  \n",
       "4 -124.678333  40.260333  15.540  "
      ]
     },
     "execution_count": 17,
     "metadata": {},
     "output_type": "execute_result"
    }
   ],
   "source": [
    "file_path = \"../datasets/\" + \"eq_loma_prieta\" + \"_clean\" + \".csv\"\n",
    "\n",
    "df_lp = pd.read_csv(file_path)\n",
    "df_lp.drop(columns = \"Unnamed: 0\", inplace = True)\n",
    "\n",
    "df_lp[\"time\"] = pd.to_datetime(df_lp[\"time\"])\n",
    "\n",
    "df_lp.sort_values(by = \"time\", inplace=True)\n",
    "\n",
    "\n",
    "df_lp.reset_index(drop = True, inplace=True)\n",
    "df_lp.drop(columns = [\"index\", \"place\", \"status\", \"tsunami\", \"net\", \"nst\", \"type\"], inplace=True)\n",
    "\n",
    "df_lp.head()"
   ]
  },
  {
   "cell_type": "markdown",
   "metadata": {},
   "source": [
    "## Finding the main failure time:"
   ]
  },
  {
   "cell_type": "code",
   "execution_count": 18,
   "metadata": {},
   "outputs": [
    {
     "data": {
      "text/html": [
       "<div>\n",
       "<style scoped>\n",
       "    .dataframe tbody tr th:only-of-type {\n",
       "        vertical-align: middle;\n",
       "    }\n",
       "\n",
       "    .dataframe tbody tr th {\n",
       "        vertical-align: top;\n",
       "    }\n",
       "\n",
       "    .dataframe thead th {\n",
       "        text-align: right;\n",
       "    }\n",
       "</style>\n",
       "<table border=\"1\" class=\"dataframe\">\n",
       "  <thead>\n",
       "    <tr style=\"text-align: right;\">\n",
       "      <th></th>\n",
       "      <th>mag</th>\n",
       "      <th>sig</th>\n",
       "      <th>dmin</th>\n",
       "      <th>rms</th>\n",
       "      <th>gap</th>\n",
       "      <th>magType</th>\n",
       "      <th>longitude</th>\n",
       "      <th>latitude</th>\n",
       "      <th>depth</th>\n",
       "      <th>time_to_failure_sec</th>\n",
       "    </tr>\n",
       "  </thead>\n",
       "  <tbody>\n",
       "    <tr>\n",
       "      <th>0</th>\n",
       "      <td>3.00</td>\n",
       "      <td>138</td>\n",
       "      <td>0.6865</td>\n",
       "      <td>0.170</td>\n",
       "      <td>286.0</td>\n",
       "      <td>ml</td>\n",
       "      <td>-125.212333</td>\n",
       "      <td>40.634000</td>\n",
       "      <td>1.805</td>\n",
       "      <td>771932.81</td>\n",
       "    </tr>\n",
       "    <tr>\n",
       "      <th>1</th>\n",
       "      <td>1.60</td>\n",
       "      <td>39</td>\n",
       "      <td>NaN</td>\n",
       "      <td>0.144</td>\n",
       "      <td>177.7</td>\n",
       "      <td>mc</td>\n",
       "      <td>-115.586000</td>\n",
       "      <td>33.144000</td>\n",
       "      <td>5.137</td>\n",
       "      <td>770184.82</td>\n",
       "    </tr>\n",
       "    <tr>\n",
       "      <th>2</th>\n",
       "      <td>2.85</td>\n",
       "      <td>125</td>\n",
       "      <td>NaN</td>\n",
       "      <td>0.330</td>\n",
       "      <td>223.5</td>\n",
       "      <td>mc</td>\n",
       "      <td>-117.939000</td>\n",
       "      <td>32.541000</td>\n",
       "      <td>5.826</td>\n",
       "      <td>769753.34</td>\n",
       "    </tr>\n",
       "    <tr>\n",
       "      <th>3</th>\n",
       "      <td>2.11</td>\n",
       "      <td>68</td>\n",
       "      <td>NaN</td>\n",
       "      <td>0.137</td>\n",
       "      <td>59.3</td>\n",
       "      <td>mc</td>\n",
       "      <td>-115.594000</td>\n",
       "      <td>33.177000</td>\n",
       "      <td>0.985</td>\n",
       "      <td>763797.16</td>\n",
       "    </tr>\n",
       "    <tr>\n",
       "      <th>4</th>\n",
       "      <td>2.29</td>\n",
       "      <td>81</td>\n",
       "      <td>0.3378</td>\n",
       "      <td>0.050</td>\n",
       "      <td>268.0</td>\n",
       "      <td>md</td>\n",
       "      <td>-124.678333</td>\n",
       "      <td>40.260333</td>\n",
       "      <td>15.540</td>\n",
       "      <td>762370.84</td>\n",
       "    </tr>\n",
       "  </tbody>\n",
       "</table>\n",
       "</div>"
      ],
      "text/plain": [
       "    mag  sig    dmin    rms    gap magType   longitude   latitude   depth  \\\n",
       "0  3.00  138  0.6865  0.170  286.0      ml -125.212333  40.634000   1.805   \n",
       "1  1.60   39     NaN  0.144  177.7      mc -115.586000  33.144000   5.137   \n",
       "2  2.85  125     NaN  0.330  223.5      mc -117.939000  32.541000   5.826   \n",
       "3  2.11   68     NaN  0.137   59.3      mc -115.594000  33.177000   0.985   \n",
       "4  2.29   81  0.3378  0.050  268.0      md -124.678333  40.260333  15.540   \n",
       "\n",
       "   time_to_failure_sec  \n",
       "0            771932.81  \n",
       "1            770184.82  \n",
       "2            769753.34  \n",
       "3            763797.16  \n",
       "4            762370.84  "
      ]
     },
     "execution_count": 18,
     "metadata": {},
     "output_type": "execute_result"
    }
   ],
   "source": [
    "# Source: https://stackoverflow.com/questions/43601868/converting-an-array-datatime-datetime-to-float\n",
    "\n",
    "epoch = dt.datetime(1970, 1, 1)\n",
    "\n",
    "time = []\n",
    "\n",
    "for t in [(d - epoch).total_seconds() for d in df_lp[\"time\"]]:\n",
    "    time.append(float('%.6f' % t))\n",
    "    \n",
    "(float(time[0]))\n",
    "\n",
    "df_lp[\"time_seconds\"] = time\n",
    "\n",
    "failure_event = df_lp[df_lp[\"mag\"] == df_lp[\"mag\"].max()]\n",
    "\n",
    "df_lp[\"time_to_failure_sec\"] = np.array(failure_event[\"time_seconds\"]) - np.array(df_lp[\"time_seconds\"])\n",
    "\n",
    "df_lp.drop(columns=[\"time\", \"time_seconds\"], inplace=True)\n",
    "\n",
    "df_lp.head()"
   ]
  },
  {
   "cell_type": "markdown",
   "metadata": {},
   "source": [
    "Checking if failure is correctly zero:"
   ]
  },
  {
   "cell_type": "code",
   "execution_count": 19,
   "metadata": {},
   "outputs": [
    {
     "data": {
      "text/html": [
       "<div>\n",
       "<style scoped>\n",
       "    .dataframe tbody tr th:only-of-type {\n",
       "        vertical-align: middle;\n",
       "    }\n",
       "\n",
       "    .dataframe tbody tr th {\n",
       "        vertical-align: top;\n",
       "    }\n",
       "\n",
       "    .dataframe thead th {\n",
       "        text-align: right;\n",
       "    }\n",
       "</style>\n",
       "<table border=\"1\" class=\"dataframe\">\n",
       "  <thead>\n",
       "    <tr style=\"text-align: right;\">\n",
       "      <th></th>\n",
       "      <th>mag</th>\n",
       "      <th>sig</th>\n",
       "      <th>dmin</th>\n",
       "      <th>rms</th>\n",
       "      <th>gap</th>\n",
       "      <th>magType</th>\n",
       "      <th>longitude</th>\n",
       "      <th>latitude</th>\n",
       "      <th>depth</th>\n",
       "      <th>time_to_failure_sec</th>\n",
       "    </tr>\n",
       "  </thead>\n",
       "  <tbody>\n",
       "    <tr>\n",
       "      <th>356</th>\n",
       "      <td>6.9</td>\n",
       "      <td>1602</td>\n",
       "      <td>0.008108</td>\n",
       "      <td>0.08</td>\n",
       "      <td>89.0</td>\n",
       "      <td>mh</td>\n",
       "      <td>-121.879833</td>\n",
       "      <td>37.036167</td>\n",
       "      <td>17.214</td>\n",
       "      <td>0.0</td>\n",
       "    </tr>\n",
       "  </tbody>\n",
       "</table>\n",
       "</div>"
      ],
      "text/plain": [
       "     mag   sig      dmin   rms   gap magType   longitude   latitude   depth  \\\n",
       "356  6.9  1602  0.008108  0.08  89.0      mh -121.879833  37.036167  17.214   \n",
       "\n",
       "     time_to_failure_sec  \n",
       "356                  0.0  "
      ]
     },
     "execution_count": 19,
     "metadata": {},
     "output_type": "execute_result"
    }
   ],
   "source": [
    "failure_event = df_lp[df_lp[\"mag\"] == df_lp[\"mag\"].max()]\n",
    "\n",
    "failure_event"
   ]
  },
  {
   "cell_type": "code",
   "execution_count": 20,
   "metadata": {},
   "outputs": [
    {
     "data": {
      "text/html": [
       "<div>\n",
       "<style scoped>\n",
       "    .dataframe tbody tr th:only-of-type {\n",
       "        vertical-align: middle;\n",
       "    }\n",
       "\n",
       "    .dataframe tbody tr th {\n",
       "        vertical-align: top;\n",
       "    }\n",
       "\n",
       "    .dataframe thead th {\n",
       "        text-align: right;\n",
       "    }\n",
       "</style>\n",
       "<table border=\"1\" class=\"dataframe\">\n",
       "  <thead>\n",
       "    <tr style=\"text-align: right;\">\n",
       "      <th></th>\n",
       "      <th>mag</th>\n",
       "      <th>sig</th>\n",
       "      <th>dmin</th>\n",
       "      <th>rms</th>\n",
       "      <th>gap</th>\n",
       "      <th>magType</th>\n",
       "      <th>longitude</th>\n",
       "      <th>latitude</th>\n",
       "      <th>depth</th>\n",
       "      <th>time_to_failure_sec</th>\n",
       "    </tr>\n",
       "  </thead>\n",
       "  <tbody>\n",
       "    <tr>\n",
       "      <th>0</th>\n",
       "      <td>3.0</td>\n",
       "      <td>138</td>\n",
       "      <td>0.6865</td>\n",
       "      <td>0.170</td>\n",
       "      <td>286.0</td>\n",
       "      <td>ml</td>\n",
       "      <td>-125.212333</td>\n",
       "      <td>40.634</td>\n",
       "      <td>1.805</td>\n",
       "      <td>771932.81</td>\n",
       "    </tr>\n",
       "    <tr>\n",
       "      <th>1</th>\n",
       "      <td>1.6</td>\n",
       "      <td>39</td>\n",
       "      <td>NaN</td>\n",
       "      <td>0.144</td>\n",
       "      <td>177.7</td>\n",
       "      <td>mc</td>\n",
       "      <td>-115.586000</td>\n",
       "      <td>33.144</td>\n",
       "      <td>5.137</td>\n",
       "      <td>770184.82</td>\n",
       "    </tr>\n",
       "  </tbody>\n",
       "</table>\n",
       "</div>"
      ],
      "text/plain": [
       "   mag  sig    dmin    rms    gap magType   longitude  latitude  depth  \\\n",
       "0  3.0  138  0.6865  0.170  286.0      ml -125.212333    40.634  1.805   \n",
       "1  1.6   39     NaN  0.144  177.7      mc -115.586000    33.144  5.137   \n",
       "\n",
       "   time_to_failure_sec  \n",
       "0            771932.81  \n",
       "1            770184.82  "
      ]
     },
     "execution_count": 20,
     "metadata": {},
     "output_type": "execute_result"
    }
   ],
   "source": [
    "df_lp.head(2)"
   ]
  },
  {
   "cell_type": "code",
   "execution_count": 21,
   "metadata": {},
   "outputs": [
    {
     "data": {
      "image/png": "[encoded data removed]",
      "text/plain": [
       "<Figure size 720x504 with 2 Axes>"
      ]
     },
     "metadata": {
      "needs_background": "light"
     },
     "output_type": "display_data"
    }
   ],
   "source": [
    "ax = plt.gca()\n",
    "\n",
    "\n",
    "df_lp.plot(kind=\"scatter\", x=\"longitude\", y=\"latitude\",\n",
    "    s=df_lp['mag']/0.05, label=\"EQ\",\n",
    "    c=df_lp.index, cmap=plt.get_cmap(\"jet\"),\n",
    "    colorbar=True, alpha=0.4, figsize=(10,7), ax = ax\n",
    ")\n",
    "plt.legend()\n",
    "\n",
    "plt.tight_layout()"
   ]
  },
  {
   "cell_type": "code",
   "execution_count": 22,
   "metadata": {},
   "outputs": [
    {
     "data": {
      "text/plain": [
       "[<matplotlib.lines.Line2D at 0x7fa9c3221050>]"
      ]
     },
     "execution_count": 22,
     "metadata": {},
     "output_type": "execute_result"
    },
    {
     "data": {
      "image/png": "[encoded data removed]",
      "text/plain": [
       "<Figure size 432x288 with 1 Axes>"
      ]
     },
     "metadata": {
      "needs_background": "light"
     },
     "output_type": "display_data"
    }
   ],
   "source": [
    "plt.plot(df_lp[\"time_to_failure_sec\"])"
   ]
  },
  {
   "cell_type": "markdown",
   "metadata": {},
   "source": [
    "# Building the model:"
   ]
  },
  {
   "cell_type": "code",
   "execution_count": 23,
   "metadata": {},
   "outputs": [
    {
     "data": {
      "image/png": "[encoded data removed]",
      "text/plain": [
       "<Figure size 576x432 with 2 Axes>"
      ]
     },
     "metadata": {
      "needs_background": "light"
     },
     "output_type": "display_data"
    }
   ],
   "source": [
    "df_corr = df_lp.corr()\n",
    "\n",
    "#plt.figure(figsize=(6,6))\n",
    "plt.figure(figsize=(8,6))\n",
    "sns.heatmap(df_corr[['time_to_failure_sec']].sort_values(by=['time_to_failure_sec'],ascending=False),\n",
    "            vmin=-1,\n",
    "            cmap='coolwarm',\n",
    "            annot=True);\n",
    "plt.savefig(\"../plots/Loma_prieta_EDA_corr_plots.png\")"
   ]
  },
  {
   "cell_type": "markdown",
   "metadata": {},
   "source": [
    "# LR model"
   ]
  },
  {
   "cell_type": "markdown",
   "metadata": {},
   "source": [
    "### LINE Assumptions\n",
    "The assumptions necessary to conduct a proper linear regression are easily remembered by the \"LINE\" acronym:\n",
    "\n",
    "* L - Linearity: there is a linear relationship between x and y (fix: apply non-linear transformation)\n",
    "* I - Independence of residuals (usually assumed)\n",
    "* N - Normality: residuals are normally distributed (fix: log y variable)\n",
    "* E - Equality of variance: residuals have constant variance (fix: check outliers, non-linear transformation)"
   ]
  },
  {
   "cell_type": "code",
   "execution_count": 24,
   "metadata": {},
   "outputs": [
    {
     "name": "stdout",
     "output_type": "stream",
     "text": [
      "<class 'pandas.core.frame.DataFrame'>\n",
      "RangeIndex: 1271 entries, 0 to 1270\n",
      "Data columns (total 10 columns):\n",
      " #   Column               Non-Null Count  Dtype  \n",
      "---  ------               --------------  -----  \n",
      " 0   mag                  1271 non-null   float64\n",
      " 1   sig                  1271 non-null   int64  \n",
      " 2   dmin                 1153 non-null   float64\n",
      " 3   rms                  1270 non-null   float64\n",
      " 4   gap                  1270 non-null   float64\n",
      " 5   magType              1271 non-null   object \n",
      " 6   longitude            1271 non-null   float64\n",
      " 7   latitude             1271 non-null   float64\n",
      " 8   depth                1271 non-null   float64\n",
      " 9   time_to_failure_sec  1271 non-null   float64\n",
      "dtypes: float64(8), int64(1), object(1)\n",
      "memory usage: 99.4+ KB\n"
     ]
    }
   ],
   "source": [
    "df = df_lp.copy()\n",
    "df.info()"
   ]
  },
  {
   "cell_type": "code",
   "execution_count": 26,
   "metadata": {},
   "outputs": [],
   "source": [
    "# Step 3: Instantiate the model\n",
    "lr = LinearRegression()\n",
    "# Step 1: Assemble our X and y variables\n",
    "\n",
    "# We need an X matrix that is n-by-p (in this case, p = 1)\n",
    "\n",
    "\n",
    "X = df_lp[[\"mag\", \"sig\", \"depth\", \"longitude\", \"latitude\"]]\n",
    "\n",
    "# We need a y vector that is length n\n",
    "y = df_lp[\"time_to_failure_sec\"]\n",
    "\n",
    "lr.fit(X, y)\n",
    "\n",
    "y_pred = lr.predict(X)"
   ]
  },
  {
   "cell_type": "code",
   "execution_count": 27,
   "metadata": {},
   "outputs": [
    {
     "data": {
      "text/plain": [
       "<matplotlib.collections.PathCollection at 0x7fa9c334bd10>"
      ]
     },
     "execution_count": 27,
     "metadata": {},
     "output_type": "execute_result"
    },
    {
     "data": {
      "image/png": "[encoded data removed]",
      "text/plain": [
       "<Figure size 432x288 with 1 Axes>"
      ]
     },
     "metadata": {
      "needs_background": "light"
     },
     "output_type": "display_data"
    }
   ],
   "source": [
    "plt.scatter(y_pred, y)"
   ]
  },
  {
   "cell_type": "code",
   "execution_count": 28,
   "metadata": {},
   "outputs": [
    {
     "data": {
      "image/png": "[encoded data removed]",
      "text/plain": [
       "<Figure size 432x288 with 1 Axes>"
      ]
     },
     "metadata": {
      "needs_background": "light"
     },
     "output_type": "display_data"
    }
   ],
   "source": [
    "# Creat residuals\n",
    "resids = y - y_pred\n",
    "# N assumption:\n",
    "plt.hist(resids, bins=50);"
   ]
  },
  {
   "cell_type": "code",
   "execution_count": 29,
   "metadata": {},
   "outputs": [
    {
     "data": {
      "image/png": "[encoded data removed]",
      "text/plain": [
       "<Figure size 432x288 with 1 Axes>"
      ]
     },
     "metadata": {
      "needs_background": "light"
     },
     "output_type": "display_data"
    }
   ],
   "source": [
    "# L and E assumption\n",
    "# our actual residuals\n",
    "plt.scatter(y_pred, resids)\n",
    "plt.axhline(0, color='orange');"
   ]
  },
  {
   "cell_type": "code",
   "execution_count": 30,
   "metadata": {},
   "outputs": [
    {
     "data": {
      "text/plain": [
       "0.29073012069721504"
      ]
     },
     "execution_count": 30,
     "metadata": {},
     "output_type": "execute_result"
    }
   ],
   "source": [
    "lr.score(X, y)"
   ]
  },
  {
   "cell_type": "code",
   "execution_count": 31,
   "metadata": {},
   "outputs": [
    {
     "data": {
      "text/plain": [
       "122466.24017635341"
      ]
     },
     "execution_count": 31,
     "metadata": {},
     "output_type": "execute_result"
    }
   ],
   "source": [
    "# Via sklearn.metrics\n",
    "from sklearn import metrics\n",
    "\n",
    "\n",
    "metrics.mean_absolute_error(y, y_pred)"
   ]
  },
  {
   "cell_type": "code",
   "execution_count": 32,
   "metadata": {},
   "outputs": [
    {
     "data": {
      "text/html": [
       "<table class=\"simpletable\">\n",
       "<caption>OLS Regression Results</caption>\n",
       "<tr>\n",
       "  <th>Dep. Variable:</th>    <td>time_to_failure_sec</td> <th>  R-squared:         </th> <td>   0.291</td> \n",
       "</tr>\n",
       "<tr>\n",
       "  <th>Model:</th>                    <td>OLS</td>         <th>  Adj. R-squared:    </th> <td>   0.288</td> \n",
       "</tr>\n",
       "<tr>\n",
       "  <th>Method:</th>              <td>Least Squares</td>    <th>  F-statistic:       </th> <td>   103.7</td> \n",
       "</tr>\n",
       "<tr>\n",
       "  <th>Date:</th>              <td>Mon, 28 Sep 2020</td>   <th>  Prob (F-statistic):</th> <td>8.23e-92</td> \n",
       "</tr>\n",
       "<tr>\n",
       "  <th>Time:</th>                  <td>12:16:01</td>       <th>  Log-Likelihood:    </th> <td> -17236.</td> \n",
       "</tr>\n",
       "<tr>\n",
       "  <th>No. Observations:</th>       <td>  1271</td>        <th>  AIC:               </th> <td>3.448e+04</td>\n",
       "</tr>\n",
       "<tr>\n",
       "  <th>Df Residuals:</th>           <td>  1265</td>        <th>  BIC:               </th> <td>3.452e+04</td>\n",
       "</tr>\n",
       "<tr>\n",
       "  <th>Df Model:</th>               <td>     5</td>        <th>                     </th>     <td> </td>    \n",
       "</tr>\n",
       "<tr>\n",
       "  <th>Covariance Type:</th>       <td>nonrobust</td>      <th>                     </th>     <td> </td>    \n",
       "</tr>\n",
       "</table>\n",
       "<table class=\"simpletable\">\n",
       "<tr>\n",
       "      <td></td>         <th>coef</th>     <th>std err</th>      <th>t</th>      <th>P>|t|</th>  <th>[0.025</th>    <th>0.975]</th>  \n",
       "</tr>\n",
       "<tr>\n",
       "  <th>const</th>     <td> 9.087e+06</td> <td> 4.65e+05</td> <td>   19.524</td> <td> 0.000</td> <td> 8.17e+06</td> <td>    1e+07</td>\n",
       "</tr>\n",
       "<tr>\n",
       "  <th>mag</th>       <td>-1.604e+04</td> <td> 1.46e+04</td> <td>   -1.102</td> <td> 0.271</td> <td>-4.46e+04</td> <td> 1.25e+04</td>\n",
       "</tr>\n",
       "<tr>\n",
       "  <th>sig</th>       <td>   76.2451</td> <td>  154.233</td> <td>    0.494</td> <td> 0.621</td> <td> -226.335</td> <td>  378.825</td>\n",
       "</tr>\n",
       "<tr>\n",
       "  <th>depth</th>     <td>-5057.9791</td> <td> 1094.358</td> <td>   -4.622</td> <td> 0.000</td> <td>-7204.936</td> <td>-2911.022</td>\n",
       "</tr>\n",
       "<tr>\n",
       "  <th>longitude</th> <td> 9.997e+04</td> <td> 5358.385</td> <td>   18.658</td> <td> 0.000</td> <td> 8.95e+04</td> <td>  1.1e+05</td>\n",
       "</tr>\n",
       "<tr>\n",
       "  <th>latitude</th>  <td> 8.601e+04</td> <td> 7313.282</td> <td>   11.760</td> <td> 0.000</td> <td> 7.17e+04</td> <td>    1e+05</td>\n",
       "</tr>\n",
       "</table>\n",
       "<table class=\"simpletable\">\n",
       "<tr>\n",
       "  <th>Omnibus:</th>       <td>400.941</td> <th>  Durbin-Watson:     </th> <td>   0.411</td> \n",
       "</tr>\n",
       "<tr>\n",
       "  <th>Prob(Omnibus):</th> <td> 0.000</td>  <th>  Jarque-Bera (JB):  </th> <td>1180.028</td> \n",
       "</tr>\n",
       "<tr>\n",
       "  <th>Skew:</th>          <td> 1.602</td>  <th>  Prob(JB):          </th> <td>5.76e-257</td>\n",
       "</tr>\n",
       "<tr>\n",
       "  <th>Kurtosis:</th>      <td> 6.467</td>  <th>  Cond. No.          </th> <td>1.32e+04</td> \n",
       "</tr>\n",
       "</table><br/><br/>Warnings:<br/>[1] Standard Errors assume that the covariance matrix of the errors is correctly specified.<br/>[2] The condition number is large, 1.32e+04. This might indicate that there are<br/>strong multicollinearity or other numerical problems."
      ],
      "text/plain": [
       "<class 'statsmodels.iolib.summary.Summary'>\n",
       "\"\"\"\n",
       "                             OLS Regression Results                            \n",
       "===============================================================================\n",
       "Dep. Variable:     time_to_failure_sec   R-squared:                       0.291\n",
       "Model:                             OLS   Adj. R-squared:                  0.288\n",
       "Method:                  Least Squares   F-statistic:                     103.7\n",
       "Date:                 Mon, 28 Sep 2020   Prob (F-statistic):           8.23e-92\n",
       "Time:                         12:16:01   Log-Likelihood:                -17236.\n",
       "No. Observations:                 1271   AIC:                         3.448e+04\n",
       "Df Residuals:                     1265   BIC:                         3.452e+04\n",
       "Df Model:                            5                                         \n",
       "Covariance Type:             nonrobust                                         \n",
       "==============================================================================\n",
       "                 coef    std err          t      P>|t|      [0.025      0.975]\n",
       "------------------------------------------------------------------------------\n",
       "const       9.087e+06   4.65e+05     19.524      0.000    8.17e+06       1e+07\n",
       "mag        -1.604e+04   1.46e+04     -1.102      0.271   -4.46e+04    1.25e+04\n",
       "sig           76.2451    154.233      0.494      0.621    -226.335     378.825\n",
       "depth      -5057.9791   1094.358     -4.622      0.000   -7204.936   -2911.022\n",
       "longitude   9.997e+04   5358.385     18.658      0.000    8.95e+04     1.1e+05\n",
       "latitude    8.601e+04   7313.282     11.760      0.000    7.17e+04       1e+05\n",
       "==============================================================================\n",
       "Omnibus:                      400.941   Durbin-Watson:                   0.411\n",
       "Prob(Omnibus):                  0.000   Jarque-Bera (JB):             1180.028\n",
       "Skew:                           1.602   Prob(JB):                    5.76e-257\n",
       "Kurtosis:                       6.467   Cond. No.                     1.32e+04\n",
       "==============================================================================\n",
       "\n",
       "Warnings:\n",
       "[1] Standard Errors assume that the covariance matrix of the errors is correctly specified.\n",
       "[2] The condition number is large, 1.32e+04. This might indicate that there are\n",
       "strong multicollinearity or other numerical problems.\n",
       "\"\"\""
      ]
     },
     "execution_count": 32,
     "metadata": {},
     "output_type": "execute_result"
    }
   ],
   "source": [
    "import statsmodels.api as sm\n",
    "\n",
    "X_sm = sm.add_constant(X)\n",
    "ols = sm.OLS(y, X_sm).fit()\n",
    "\n",
    "ols.summary()"
   ]
  },
  {
   "cell_type": "markdown",
   "metadata": {},
   "source": [
    "## The Linear Regression was not very good, now, trying the clustering idea."
   ]
  },
  {
   "cell_type": "code",
   "execution_count": null,
   "metadata": {},
   "outputs": [],
   "source": []
  },
  {
   "cell_type": "code",
   "execution_count": 46,
   "metadata": {},
   "outputs": [
    {
     "name": "stdout",
     "output_type": "stream",
     "text": [
      "Hello World!\n"
     ]
    }
   ],
   "source": [
    "print(\"Hello World!\")"
   ]
  }
 ],
 "metadata": {
  "kernelspec": {
   "display_name": "Python [conda env:dsi]",
   "language": "python",
   "name": "conda-env-dsi-py"
  },
  "language_info": {
   "codemirror_mode": {
    "name": "ipython",
    "version": 3
   },
   "file_extension": ".py",
   "mimetype": "text/x-python",
   "name": "python",
   "nbconvert_exporter": "python",
   "pygments_lexer": "ipython3",
   "version": "3.7.7"
  }
 },
 "nbformat": 4,
 "nbformat_minor": 4
}
